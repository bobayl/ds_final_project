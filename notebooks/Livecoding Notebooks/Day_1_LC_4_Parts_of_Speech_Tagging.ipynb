{
 "cells": [
  {
   "cell_type": "markdown",
   "metadata": {
    "id": "mezUX-HyVI0x"
   },
   "source": [
    "# Parts of Speech Tagging\n",
    "\n",
    "Source: https://towardsdatascience.com/a-practitioners-guide-to-natural-language-processing-part-i-processing-understanding-text-9f4abfd13e72\n",
    "\n",
    "For any language, syntax and structure usually go hand in hand, where a set of specific rules, conventions, and principles govern the way words are combined into phrases; phrases get combines into clauses; and clauses get combined into sentences.\n",
    "\n",
    "Knowledge about the structure and syntax of language is helpful in many areas like text processing, annotation, and parsing for further operations such as text classification or summarization.\n",
    "\n",
    "__Parts of speech (POS)__ are specific lexical categories to which words are assigned, based on their syntactic context and role. Usually, words can fall into one of the following major categories.\n",
    "\n",
    "+ __N(oun)__: This usually denotes words that depict some object or entity, which may be living or nonliving. Some examples would be fox , dog , book , and so on. The POS tag symbol for nouns is N.\n",
    "\n",
    "+ __V(erb)__: Verbs are words that are used to describe certain actions, states, or occurrences. There are a wide variety of further subcategories, such as auxiliary, reflexive, and transitive verbs (and many more). Some typical examples of verbs would be running , jumping , read , and write . The POS tag symbol for verbs is V.\n",
    "\n",
    "+ __Adj(ective)__: Adjectives are words used to describe or qualify other words, typically nouns and noun phrases. The phrase beautiful flower has the noun (N) flower which is described or qualified using the adjective (ADJ) beautiful . The POS tag symbol for adjectives is ADJ .\n",
    "\n",
    "+ __Adv(erb)__: Adverbs usually act as modifiers for other words including nouns, adjectives, verbs, or other adverbs. The phrase very beautiful flower has the adverb (ADV) very , which modifies the adjective (ADJ) beautiful , indicating the degree to which the flower is beautiful. The POS tag symbol for adverbs is ADV.\n",
    "\n",
    "Besides these four major categories of parts of speech , there are other categories that occur frequently in the English language. These include pronouns, prepositions, interjections, conjunctions, determiners, and many others. Furthermore, each POS tag like the noun (N) can be further subdivided into categories like __singular nouns (NN)__, __singular proper nouns (NNP)__, and __plural nouns (NNS)__.\n",
    "\n",
    "The process of classifying and labeling POS tags for words called parts of speech tagging or POS tagging ."
   ]
  },
  {
   "cell_type": "code",
   "execution_count": 5,
   "metadata": {
    "colab": {
     "base_uri": "https://localhost:8080/",
     "height": 35
    },
    "id": "hvix96uIVI0x",
    "outputId": "42be9ade-4fc1-45c8-b95d-d481760c41d7"
   },
   "outputs": [
    {
     "data": {
      "text/plain": [
       "'This NLP Session is being conducted as a part of the Data Science Bootcamp in Propulsion Academy'"
      ]
     },
     "execution_count": 5,
     "metadata": {},
     "output_type": "execute_result"
    }
   ],
   "source": [
    "sentence = 'This NLP Session is being conducted as a part of the Data Science Bootcamp in Propulsion Academy'\n",
    "sentence"
   ]
  },
  {
   "cell_type": "code",
   "execution_count": 6,
   "metadata": {
    "colab": {
     "base_uri": "https://localhost:8080/"
    },
    "id": "7j9ElOtMVI01",
    "outputId": "c04cfc70-d1cd-42d2-929b-7cd4d52d3ca4"
   },
   "outputs": [
    {
     "name": "stderr",
     "output_type": "stream",
     "text": [
      "[nltk_data] Downloading package punkt to /Users/laurent/nltk_data...\n",
      "[nltk_data]   Package punkt is already up-to-date!\n",
      "[nltk_data] Downloading package averaged_perceptron_tagger to\n",
      "[nltk_data]     /Users/laurent/nltk_data...\n",
      "[nltk_data]   Package averaged_perceptron_tagger is already up-to-\n",
      "[nltk_data]       date!\n"
     ]
    },
    {
     "data": {
      "text/plain": [
       "True"
      ]
     },
     "execution_count": 6,
     "metadata": {},
     "output_type": "execute_result"
    }
   ],
   "source": [
    "import nltk\n",
    "nltk.download('punkt')\n",
    "nltk.download('averaged_perceptron_tagger')"
   ]
  },
  {
   "cell_type": "code",
   "execution_count": 7,
   "metadata": {
    "colab": {
     "base_uri": "https://localhost:8080/"
    },
    "id": "dThYhAHVmRqz",
    "outputId": "3df566ca-6236-4651-d9ef-41ea48cc3ba3"
   },
   "outputs": [
    {
     "data": {
      "text/plain": [
       "['This',\n",
       " 'NLP',\n",
       " 'Session',\n",
       " 'is',\n",
       " 'being',\n",
       " 'conducted',\n",
       " 'as',\n",
       " 'a',\n",
       " 'part',\n",
       " 'of',\n",
       " 'the',\n",
       " 'Data',\n",
       " 'Science',\n",
       " 'Bootcamp',\n",
       " 'in',\n",
       " 'Propulsion',\n",
       " 'Academy']"
      ]
     },
     "execution_count": 7,
     "metadata": {},
     "output_type": "execute_result"
    }
   ],
   "source": [
    "nltk.word_tokenize(sentence)"
   ]
  },
  {
   "cell_type": "code",
   "execution_count": 8,
   "metadata": {
    "colab": {
     "base_uri": "https://localhost:8080/"
    },
    "id": "z6V2Ek6-VkpT",
    "outputId": "f4e8771d-2446-4d41-e32e-c587970b444c"
   },
   "outputs": [
    {
     "data": {
      "text/plain": [
       "[('This', 'DT'),\n",
       " ('NLP', 'NNP'),\n",
       " ('Session', 'NNP'),\n",
       " ('is', 'VBZ'),\n",
       " ('being', 'VBG'),\n",
       " ('conducted', 'VBN'),\n",
       " ('as', 'IN'),\n",
       " ('a', 'DT'),\n",
       " ('part', 'NN'),\n",
       " ('of', 'IN'),\n",
       " ('the', 'DT'),\n",
       " ('Data', 'NNP'),\n",
       " ('Science', 'NNP'),\n",
       " ('Bootcamp', 'NNP'),\n",
       " ('in', 'IN'),\n",
       " ('Propulsion', 'NNP'),\n",
       " ('Academy', 'NNP')]"
      ]
     },
     "execution_count": 8,
     "metadata": {},
     "output_type": "execute_result"
    }
   ],
   "source": [
    "nltk_pos_tagged = nltk.pos_tag(nltk.word_tokenize(sentence))\n",
    "nltk_pos_tagged"
   ]
  },
  {
   "cell_type": "code",
   "execution_count": 9,
   "metadata": {
    "colab": {
     "base_uri": "https://localhost:8080/",
     "height": 112
    },
    "id": "ctmJlb-tVI03",
    "outputId": "ef58b4a2-c742-4db6-cbb2-678521ea2128"
   },
   "outputs": [
    {
     "data": {
      "text/html": [
       "<div>\n",
       "<style scoped>\n",
       "    .dataframe tbody tr th:only-of-type {\n",
       "        vertical-align: middle;\n",
       "    }\n",
       "\n",
       "    .dataframe tbody tr th {\n",
       "        vertical-align: top;\n",
       "    }\n",
       "\n",
       "    .dataframe thead th {\n",
       "        text-align: right;\n",
       "    }\n",
       "</style>\n",
       "<table border=\"1\" class=\"dataframe\">\n",
       "  <thead>\n",
       "    <tr style=\"text-align: right;\">\n",
       "      <th></th>\n",
       "      <th>0</th>\n",
       "      <th>1</th>\n",
       "      <th>2</th>\n",
       "      <th>3</th>\n",
       "      <th>4</th>\n",
       "      <th>5</th>\n",
       "      <th>6</th>\n",
       "      <th>7</th>\n",
       "      <th>8</th>\n",
       "      <th>9</th>\n",
       "      <th>10</th>\n",
       "      <th>11</th>\n",
       "      <th>12</th>\n",
       "      <th>13</th>\n",
       "      <th>14</th>\n",
       "      <th>15</th>\n",
       "      <th>16</th>\n",
       "    </tr>\n",
       "  </thead>\n",
       "  <tbody>\n",
       "    <tr>\n",
       "      <th>Word</th>\n",
       "      <td>This</td>\n",
       "      <td>NLP</td>\n",
       "      <td>Session</td>\n",
       "      <td>is</td>\n",
       "      <td>being</td>\n",
       "      <td>conducted</td>\n",
       "      <td>as</td>\n",
       "      <td>a</td>\n",
       "      <td>part</td>\n",
       "      <td>of</td>\n",
       "      <td>the</td>\n",
       "      <td>Data</td>\n",
       "      <td>Science</td>\n",
       "      <td>Bootcamp</td>\n",
       "      <td>in</td>\n",
       "      <td>Propulsion</td>\n",
       "      <td>Academy</td>\n",
       "    </tr>\n",
       "    <tr>\n",
       "      <th>POS tag</th>\n",
       "      <td>DT</td>\n",
       "      <td>NNP</td>\n",
       "      <td>NNP</td>\n",
       "      <td>VBZ</td>\n",
       "      <td>VBG</td>\n",
       "      <td>VBN</td>\n",
       "      <td>IN</td>\n",
       "      <td>DT</td>\n",
       "      <td>NN</td>\n",
       "      <td>IN</td>\n",
       "      <td>DT</td>\n",
       "      <td>NNP</td>\n",
       "      <td>NNP</td>\n",
       "      <td>NNP</td>\n",
       "      <td>IN</td>\n",
       "      <td>NNP</td>\n",
       "      <td>NNP</td>\n",
       "    </tr>\n",
       "  </tbody>\n",
       "</table>\n",
       "</div>"
      ],
      "text/plain": [
       "           0    1        2    3      4          5   6   7     8   9    10  \\\n",
       "Word     This  NLP  Session   is  being  conducted  as   a  part  of  the   \n",
       "POS tag    DT  NNP      NNP  VBZ    VBG        VBN  IN  DT    NN  IN   DT   \n",
       "\n",
       "           11       12        13  14          15       16  \n",
       "Word     Data  Science  Bootcamp  in  Propulsion  Academy  \n",
       "POS tag   NNP      NNP       NNP  IN         NNP      NNP  "
      ]
     },
     "execution_count": 9,
     "metadata": {},
     "output_type": "execute_result"
    }
   ],
   "source": [
    "import pandas as pd\n",
    "\n",
    "pd.DataFrame(nltk_pos_tagged,\n",
    "             columns=['Word', 'POS tag']).T"
   ]
  },
  {
   "cell_type": "code",
   "execution_count": 10,
   "metadata": {
    "id": "EcTCrMhoVI06"
   },
   "outputs": [],
   "source": [
    "import spacy\n",
    "\n",
    "nlp = spacy.load('en_core_web_sm')"
   ]
  },
  {
   "cell_type": "code",
   "execution_count": 11,
   "metadata": {
    "colab": {
     "base_uri": "https://localhost:8080/"
    },
    "id": "tOO_jetwVI08",
    "outputId": "2b0bc851-7d12-4998-92e3-8850c9f3d972"
   },
   "outputs": [
    {
     "data": {
      "text/plain": [
       "[(This, 'DT', 'DET'),\n",
       " (NLP, 'NNP', 'PROPN'),\n",
       " (Session, 'NNP', 'PROPN'),\n",
       " (is, 'VBZ', 'AUX'),\n",
       " (being, 'VBG', 'AUX'),\n",
       " (conducted, 'VBN', 'VERB'),\n",
       " (as, 'IN', 'ADP'),\n",
       " (a, 'DT', 'DET'),\n",
       " (part, 'NN', 'NOUN'),\n",
       " (of, 'IN', 'ADP'),\n",
       " (the, 'DT', 'DET'),\n",
       " (Data, 'NNP', 'PROPN'),\n",
       " (Science, 'NNP', 'PROPN'),\n",
       " (Bootcamp, 'NNP', 'PROPN'),\n",
       " (in, 'IN', 'ADP'),\n",
       " (Propulsion, 'NNP', 'PROPN'),\n",
       " (Academy, 'NNP', 'PROPN')]"
      ]
     },
     "execution_count": 11,
     "metadata": {},
     "output_type": "execute_result"
    }
   ],
   "source": [
    "sentence_nlp = nlp(sentence)\n",
    "spacy_pos_tagged = [(word, word.tag_, word.pos_) for word in sentence_nlp]\n",
    "# tag_ is the raw part of speech tag label\n",
    "# pos_ is the human friendly part of speech tag label\n",
    "\n",
    "spacy_pos_tagged"
   ]
  },
  {
   "cell_type": "code",
   "execution_count": 12,
   "metadata": {
    "colab": {
     "base_uri": "https://localhost:8080/",
     "height": 143
    },
    "id": "w_AYcByRVI0-",
    "outputId": "5b142791-6036-4bc3-ee8d-4986d7b6125d"
   },
   "outputs": [
    {
     "data": {
      "text/html": [
       "<div>\n",
       "<style scoped>\n",
       "    .dataframe tbody tr th:only-of-type {\n",
       "        vertical-align: middle;\n",
       "    }\n",
       "\n",
       "    .dataframe tbody tr th {\n",
       "        vertical-align: top;\n",
       "    }\n",
       "\n",
       "    .dataframe thead th {\n",
       "        text-align: right;\n",
       "    }\n",
       "</style>\n",
       "<table border=\"1\" class=\"dataframe\">\n",
       "  <thead>\n",
       "    <tr style=\"text-align: right;\">\n",
       "      <th></th>\n",
       "      <th>0</th>\n",
       "      <th>1</th>\n",
       "      <th>2</th>\n",
       "      <th>3</th>\n",
       "      <th>4</th>\n",
       "      <th>5</th>\n",
       "      <th>6</th>\n",
       "      <th>7</th>\n",
       "      <th>8</th>\n",
       "      <th>9</th>\n",
       "      <th>10</th>\n",
       "      <th>11</th>\n",
       "      <th>12</th>\n",
       "      <th>13</th>\n",
       "      <th>14</th>\n",
       "      <th>15</th>\n",
       "      <th>16</th>\n",
       "    </tr>\n",
       "  </thead>\n",
       "  <tbody>\n",
       "    <tr>\n",
       "      <th>Word</th>\n",
       "      <td>This</td>\n",
       "      <td>NLP</td>\n",
       "      <td>Session</td>\n",
       "      <td>is</td>\n",
       "      <td>being</td>\n",
       "      <td>conducted</td>\n",
       "      <td>as</td>\n",
       "      <td>a</td>\n",
       "      <td>part</td>\n",
       "      <td>of</td>\n",
       "      <td>the</td>\n",
       "      <td>Data</td>\n",
       "      <td>Science</td>\n",
       "      <td>Bootcamp</td>\n",
       "      <td>in</td>\n",
       "      <td>Propulsion</td>\n",
       "      <td>Academy</td>\n",
       "    </tr>\n",
       "    <tr>\n",
       "      <th>POS tag</th>\n",
       "      <td>DT</td>\n",
       "      <td>NNP</td>\n",
       "      <td>NNP</td>\n",
       "      <td>VBZ</td>\n",
       "      <td>VBG</td>\n",
       "      <td>VBN</td>\n",
       "      <td>IN</td>\n",
       "      <td>DT</td>\n",
       "      <td>NN</td>\n",
       "      <td>IN</td>\n",
       "      <td>DT</td>\n",
       "      <td>NNP</td>\n",
       "      <td>NNP</td>\n",
       "      <td>NNP</td>\n",
       "      <td>IN</td>\n",
       "      <td>NNP</td>\n",
       "      <td>NNP</td>\n",
       "    </tr>\n",
       "    <tr>\n",
       "      <th>Tag type</th>\n",
       "      <td>DET</td>\n",
       "      <td>PROPN</td>\n",
       "      <td>PROPN</td>\n",
       "      <td>AUX</td>\n",
       "      <td>AUX</td>\n",
       "      <td>VERB</td>\n",
       "      <td>ADP</td>\n",
       "      <td>DET</td>\n",
       "      <td>NOUN</td>\n",
       "      <td>ADP</td>\n",
       "      <td>DET</td>\n",
       "      <td>PROPN</td>\n",
       "      <td>PROPN</td>\n",
       "      <td>PROPN</td>\n",
       "      <td>ADP</td>\n",
       "      <td>PROPN</td>\n",
       "      <td>PROPN</td>\n",
       "    </tr>\n",
       "  </tbody>\n",
       "</table>\n",
       "</div>"
      ],
      "text/plain": [
       "            0      1        2    3      4          5    6    7     8    9   \\\n",
       "Word      This    NLP  Session   is  being  conducted   as    a  part   of   \n",
       "POS tag     DT    NNP      NNP  VBZ    VBG        VBN   IN   DT    NN   IN   \n",
       "Tag type   DET  PROPN    PROPN  AUX    AUX       VERB  ADP  DET  NOUN  ADP   \n",
       "\n",
       "           10     11       12        13   14          15       16  \n",
       "Word      the   Data  Science  Bootcamp   in  Propulsion  Academy  \n",
       "POS tag    DT    NNP      NNP       NNP   IN         NNP      NNP  \n",
       "Tag type  DET  PROPN    PROPN     PROPN  ADP       PROPN    PROPN  "
      ]
     },
     "execution_count": 12,
     "metadata": {},
     "output_type": "execute_result"
    }
   ],
   "source": [
    "pd.DataFrame(spacy_pos_tagged,\n",
    "             columns=['Word', 'POS tag', 'Tag type']).T"
   ]
  },
  {
   "cell_type": "markdown",
   "metadata": {
    "id": "vucQ8o8OVI1A"
   },
   "source": [
    "## Guide to POS Tags\n",
    "\n",
    "The most common part of speech (POS) tag schemes are those developed for the Penn Treebank.\n",
    "\n",
    "| POS Tag | Description | Example |\n",
    "|---------|---------------------------------------|-----------------------------------------|\n",
    "| CC | coordinating conjunction | and |\n",
    "| CD | cardinal number | 1, third |\n",
    "| DT | determiner | the |\n",
    "| EX | existential there | there is |\n",
    "| FW | foreign word | d’hoevre |\n",
    "| IN | preposition/subordinating conjunction | in, of, like |\n",
    "| JJ | adjective | big |\n",
    "| JJR | adjective, comparative | bigger |\n",
    "| JJS | adjective, superlative | biggest |\n",
    "| LS | list marker | 1) |\n",
    "| MD | modal | could, will |\n",
    "| NN | noun, singular or mass | door |\n",
    "| NNS | noun plural | doors |\n",
    "| NNP | proper noun, singular | John |\n",
    "| NNPS | proper noun, plural | Vikings |\n",
    "| PDT | predeterminer | both the boys |\n",
    "| POS | possessive ending | friend‘s |\n",
    "| PRP | personal pronoun | I, he, it |\n",
    "| PRP\\$ | possessive pronoun | my, his |\n",
    "| RB | adverb | however, usually, naturally, here, good |\n",
    "| RBR | adverb, comparative | better |\n",
    "| RBS | adverb, superlative | best |\n",
    "| RP | particle | give up |\n",
    "| TO | to | to go, to him |\n",
    "| UH | interjection | uhhuhhuhh |\n",
    "| VB | verb, base form | take |\n",
    "| VBD | verb, past tense | took |\n",
    "| VBG | verb, gerund/present participle | taking |\n",
    "| VBN | verb, past participle | taken |\n",
    "| VBP | verb, sing. present, non-3d | take |\n",
    "| VBZ | verb, 3rd person sing. present | takes |\n",
    "| WDT | wh-determiner | which |\n",
    "| WP | wh-pronoun | who, what |\n",
    "| WP\\$ | possessive wh-pronoun | whose |\n",
    "| WRB | wh-abverb | where, when |\n",
    "\n",
    "Source: https://www.ling.upenn.edu/courses/Fall_2003/ling001/penn_treebank_pos.html"
   ]
  }
 ],
 "metadata": {
  "colab": {
   "provenance": []
  },
  "kernelspec": {
   "display_name": "Python 3 (ipykernel)",
   "language": "python",
   "name": "python3"
  },
  "language_info": {
   "codemirror_mode": {
    "name": "ipython",
    "version": 3
   },
   "file_extension": ".py",
   "mimetype": "text/x-python",
   "name": "python",
   "nbconvert_exporter": "python",
   "pygments_lexer": "ipython3",
   "version": "3.10.14"
  }
 },
 "nbformat": 4,
 "nbformat_minor": 4
}
