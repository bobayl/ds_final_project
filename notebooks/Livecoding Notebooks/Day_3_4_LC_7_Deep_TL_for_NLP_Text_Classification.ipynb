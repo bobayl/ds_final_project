{
  "nbformat": 4,
  "nbformat_minor": 0,
  "metadata": {
    "accelerator": "GPU",
    "colab": {
      "provenance": []
    },
    "kernelspec": {
      "display_name": "Python 3",
      "language": "python",
      "name": "python3"
    },
    "language_info": {
      "codemirror_mode": {
        "name": "ipython",
        "version": 3
      },
      "file_extension": ".py",
      "mimetype": "text/x-python",
      "name": "python",
      "nbconvert_exporter": "python",
      "pygments_lexer": "ipython3",
      "version": "3.7.6"
    },
    "widgets": {
      "application/vnd.jupyter.widget-state+json": {
        "0f285eee469f4ce49b020b63d330ec49": {
          "model_module": "@jupyter-widgets/controls",
          "model_name": "HBoxModel",
          "model_module_version": "1.5.0",
          "state": {
            "_view_name": "HBoxView",
            "_dom_classes": [],
            "_model_name": "HBoxModel",
            "_view_module": "@jupyter-widgets/controls",
            "_model_module_version": "1.5.0",
            "_view_count": null,
            "_view_module_version": "1.5.0",
            "box_style": "",
            "layout": "IPY_MODEL_6f63580c8f9d456abf9c91873400e32c",
            "_model_module": "@jupyter-widgets/controls",
            "children": [
              "IPY_MODEL_91566706b7a34fcd8d75798931615b62",
              "IPY_MODEL_15da9bd4ab40432f8a5c13368b945f69",
              "IPY_MODEL_fb5b96203c854c5aabbb5a3a8004d31d"
            ]
          }
        },
        "6f63580c8f9d456abf9c91873400e32c": {
          "model_module": "@jupyter-widgets/base",
          "model_name": "LayoutModel",
          "model_module_version": "1.2.0",
          "state": {
            "_view_name": "LayoutView",
            "grid_template_rows": null,
            "right": null,
            "justify_content": null,
            "_view_module": "@jupyter-widgets/base",
            "overflow": null,
            "_model_module_version": "1.2.0",
            "_view_count": null,
            "flex_flow": null,
            "width": null,
            "min_width": null,
            "border": null,
            "align_items": null,
            "bottom": null,
            "_model_module": "@jupyter-widgets/base",
            "top": null,
            "grid_column": null,
            "overflow_y": null,
            "overflow_x": null,
            "grid_auto_flow": null,
            "grid_area": null,
            "grid_template_columns": null,
            "flex": null,
            "_model_name": "LayoutModel",
            "justify_items": null,
            "grid_row": null,
            "max_height": null,
            "align_content": null,
            "visibility": null,
            "align_self": null,
            "height": null,
            "min_height": null,
            "padding": null,
            "grid_auto_rows": null,
            "grid_gap": null,
            "max_width": null,
            "order": null,
            "_view_module_version": "1.2.0",
            "grid_template_areas": null,
            "object_position": null,
            "object_fit": null,
            "grid_auto_columns": null,
            "margin": null,
            "display": null,
            "left": null
          }
        },
        "91566706b7a34fcd8d75798931615b62": {
          "model_module": "@jupyter-widgets/controls",
          "model_name": "HTMLModel",
          "model_module_version": "1.5.0",
          "state": {
            "_view_name": "HTMLView",
            "style": "IPY_MODEL_b136f62107124de7a0d17e6d064ed81a",
            "_dom_classes": [],
            "description": "",
            "_model_name": "HTMLModel",
            "placeholder": "​",
            "_view_module": "@jupyter-widgets/controls",
            "_model_module_version": "1.5.0",
            "value": "Downloading: 100%",
            "_view_count": null,
            "_view_module_version": "1.5.0",
            "description_tooltip": null,
            "_model_module": "@jupyter-widgets/controls",
            "layout": "IPY_MODEL_24fda154e3764ad7a2a57be4740b6693"
          }
        },
        "15da9bd4ab40432f8a5c13368b945f69": {
          "model_module": "@jupyter-widgets/controls",
          "model_name": "FloatProgressModel",
          "model_module_version": "1.5.0",
          "state": {
            "_view_name": "ProgressView",
            "style": "IPY_MODEL_733beb2be6574646a859971dea8b287b",
            "_dom_classes": [],
            "description": "",
            "_model_name": "FloatProgressModel",
            "bar_style": "success",
            "max": 363423424,
            "_view_module": "@jupyter-widgets/controls",
            "_model_module_version": "1.5.0",
            "value": 363423424,
            "_view_count": null,
            "_view_module_version": "1.5.0",
            "orientation": "horizontal",
            "min": 0,
            "description_tooltip": null,
            "_model_module": "@jupyter-widgets/controls",
            "layout": "IPY_MODEL_519dbc0935204ef0af67e070d9137b16"
          }
        },
        "fb5b96203c854c5aabbb5a3a8004d31d": {
          "model_module": "@jupyter-widgets/controls",
          "model_name": "HTMLModel",
          "model_module_version": "1.5.0",
          "state": {
            "_view_name": "HTMLView",
            "style": "IPY_MODEL_701fa1f2026647d6b7b5ab288d3498e3",
            "_dom_classes": [],
            "description": "",
            "_model_name": "HTMLModel",
            "placeholder": "​",
            "_view_module": "@jupyter-widgets/controls",
            "_model_module_version": "1.5.0",
            "value": " 347M/347M [00:11&lt;00:00, 28.1MB/s]",
            "_view_count": null,
            "_view_module_version": "1.5.0",
            "description_tooltip": null,
            "_model_module": "@jupyter-widgets/controls",
            "layout": "IPY_MODEL_5a990ae17eb743cd89133b68c7109768"
          }
        },
        "b136f62107124de7a0d17e6d064ed81a": {
          "model_module": "@jupyter-widgets/controls",
          "model_name": "DescriptionStyleModel",
          "model_module_version": "1.5.0",
          "state": {
            "_view_name": "StyleView",
            "_model_name": "DescriptionStyleModel",
            "description_width": "",
            "_view_module": "@jupyter-widgets/base",
            "_model_module_version": "1.5.0",
            "_view_count": null,
            "_view_module_version": "1.2.0",
            "_model_module": "@jupyter-widgets/controls"
          }
        },
        "24fda154e3764ad7a2a57be4740b6693": {
          "model_module": "@jupyter-widgets/base",
          "model_name": "LayoutModel",
          "model_module_version": "1.2.0",
          "state": {
            "_view_name": "LayoutView",
            "grid_template_rows": null,
            "right": null,
            "justify_content": null,
            "_view_module": "@jupyter-widgets/base",
            "overflow": null,
            "_model_module_version": "1.2.0",
            "_view_count": null,
            "flex_flow": null,
            "width": null,
            "min_width": null,
            "border": null,
            "align_items": null,
            "bottom": null,
            "_model_module": "@jupyter-widgets/base",
            "top": null,
            "grid_column": null,
            "overflow_y": null,
            "overflow_x": null,
            "grid_auto_flow": null,
            "grid_area": null,
            "grid_template_columns": null,
            "flex": null,
            "_model_name": "LayoutModel",
            "justify_items": null,
            "grid_row": null,
            "max_height": null,
            "align_content": null,
            "visibility": null,
            "align_self": null,
            "height": null,
            "min_height": null,
            "padding": null,
            "grid_auto_rows": null,
            "grid_gap": null,
            "max_width": null,
            "order": null,
            "_view_module_version": "1.2.0",
            "grid_template_areas": null,
            "object_position": null,
            "object_fit": null,
            "grid_auto_columns": null,
            "margin": null,
            "display": null,
            "left": null
          }
        },
        "733beb2be6574646a859971dea8b287b": {
          "model_module": "@jupyter-widgets/controls",
          "model_name": "ProgressStyleModel",
          "model_module_version": "1.5.0",
          "state": {
            "_view_name": "StyleView",
            "_model_name": "ProgressStyleModel",
            "description_width": "",
            "_view_module": "@jupyter-widgets/base",
            "_model_module_version": "1.5.0",
            "_view_count": null,
            "_view_module_version": "1.2.0",
            "bar_color": null,
            "_model_module": "@jupyter-widgets/controls"
          }
        },
        "519dbc0935204ef0af67e070d9137b16": {
          "model_module": "@jupyter-widgets/base",
          "model_name": "LayoutModel",
          "model_module_version": "1.2.0",
          "state": {
            "_view_name": "LayoutView",
            "grid_template_rows": null,
            "right": null,
            "justify_content": null,
            "_view_module": "@jupyter-widgets/base",
            "overflow": null,
            "_model_module_version": "1.2.0",
            "_view_count": null,
            "flex_flow": null,
            "width": null,
            "min_width": null,
            "border": null,
            "align_items": null,
            "bottom": null,
            "_model_module": "@jupyter-widgets/base",
            "top": null,
            "grid_column": null,
            "overflow_y": null,
            "overflow_x": null,
            "grid_auto_flow": null,
            "grid_area": null,
            "grid_template_columns": null,
            "flex": null,
            "_model_name": "LayoutModel",
            "justify_items": null,
            "grid_row": null,
            "max_height": null,
            "align_content": null,
            "visibility": null,
            "align_self": null,
            "height": null,
            "min_height": null,
            "padding": null,
            "grid_auto_rows": null,
            "grid_gap": null,
            "max_width": null,
            "order": null,
            "_view_module_version": "1.2.0",
            "grid_template_areas": null,
            "object_position": null,
            "object_fit": null,
            "grid_auto_columns": null,
            "margin": null,
            "display": null,
            "left": null
          }
        },
        "701fa1f2026647d6b7b5ab288d3498e3": {
          "model_module": "@jupyter-widgets/controls",
          "model_name": "DescriptionStyleModel",
          "model_module_version": "1.5.0",
          "state": {
            "_view_name": "StyleView",
            "_model_name": "DescriptionStyleModel",
            "description_width": "",
            "_view_module": "@jupyter-widgets/base",
            "_model_module_version": "1.5.0",
            "_view_count": null,
            "_view_module_version": "1.2.0",
            "_model_module": "@jupyter-widgets/controls"
          }
        },
        "5a990ae17eb743cd89133b68c7109768": {
          "model_module": "@jupyter-widgets/base",
          "model_name": "LayoutModel",
          "model_module_version": "1.2.0",
          "state": {
            "_view_name": "LayoutView",
            "grid_template_rows": null,
            "right": null,
            "justify_content": null,
            "_view_module": "@jupyter-widgets/base",
            "overflow": null,
            "_model_module_version": "1.2.0",
            "_view_count": null,
            "flex_flow": null,
            "width": null,
            "min_width": null,
            "border": null,
            "align_items": null,
            "bottom": null,
            "_model_module": "@jupyter-widgets/base",
            "top": null,
            "grid_column": null,
            "overflow_y": null,
            "overflow_x": null,
            "grid_auto_flow": null,
            "grid_area": null,
            "grid_template_columns": null,
            "flex": null,
            "_model_name": "LayoutModel",
            "justify_items": null,
            "grid_row": null,
            "max_height": null,
            "align_content": null,
            "visibility": null,
            "align_self": null,
            "height": null,
            "min_height": null,
            "padding": null,
            "grid_auto_rows": null,
            "grid_gap": null,
            "max_width": null,
            "order": null,
            "_view_module_version": "1.2.0",
            "grid_template_areas": null,
            "object_position": null,
            "object_fit": null,
            "grid_auto_columns": null,
            "margin": null,
            "display": null,
            "left": null
          }
        }
      }
    }
  },
  "cells": [
    {
      "cell_type": "markdown",
      "metadata": {
        "id": "Sjp7WlCGajaa"
      },
      "source": [
        "# Deep Transfer Learning for Text Classification\n",
        "\n",
        "Handling tough real-world problems in Natural Language Processing (NLP) include tackling with class imbalance and the lack of availability of enough labeled data for training. Thanks to the recent advancements in deep transfer learning in NLP, we have been able to make rapid strides in not only tackling these problems but also leverage these models for diverse downstream NLP tasks.\n",
        "\n",
        "The intent of this demo session is to look at various SOTA models in deep transfer learning for NLP with hands-on examples:\n",
        "\n",
        "- Pre-trained word embeddings for Deep Learning Models (FastText with CNNs)\n",
        "- Universal Embeddings (Sentence Encoders, NNLMs)\n",
        "- Transformers (BERT, DistilBERT)\n",
        "\n",
        "We will take a benchmark classification dataset and train and compare the performance of these models. All examples here will be showcased using Python and leveraging the latest and best of TensorFlow 2.x.\n",
        "\n",
        "### Powered By\n",
        "\n",
        "![](https://i.imgur.com/cllEHm0.png)\n",
        "\n",
        "<div style=\"text-align: right; font-size:80%\"><i>Tutorial by: [Dipanjan (DJ) Sarkar</i>](https://www.linkedin.com/in/dipanzan)</div>\n"
      ]
    },
    {
      "cell_type": "markdown",
      "metadata": {
        "id": "CBtXjYJHajab"
      },
      "source": [
        "# GPU Check"
      ]
    },
    {
      "cell_type": "code",
      "metadata": {
        "colab": {
          "base_uri": "https://localhost:8080/"
        },
        "id": "ro9zTCDIajab",
        "outputId": "dd6ee163-ceb5-4fe8-f715-1c5cc7949f45"
      },
      "source": [
        "!nvidia-smi"
      ],
      "execution_count": null,
      "outputs": [
        {
          "output_type": "stream",
          "name": "stdout",
          "text": [
            "Thu Oct  7 06:04:08 2021       \n",
            "+-----------------------------------------------------------------------------+\n",
            "| NVIDIA-SMI 470.74       Driver Version: 460.32.03    CUDA Version: 11.2     |\n",
            "|-------------------------------+----------------------+----------------------+\n",
            "| GPU  Name        Persistence-M| Bus-Id        Disp.A | Volatile Uncorr. ECC |\n",
            "| Fan  Temp  Perf  Pwr:Usage/Cap|         Memory-Usage | GPU-Util  Compute M. |\n",
            "|                               |                      |               MIG M. |\n",
            "|===============================+======================+======================|\n",
            "|   0  Tesla P100-PCIE...  Off  | 00000000:00:04.0 Off |                    0 |\n",
            "| N/A   52C    P0    30W / 250W |      0MiB / 16280MiB |      0%      Default |\n",
            "|                               |                      |                  N/A |\n",
            "+-------------------------------+----------------------+----------------------+\n",
            "                                                                               \n",
            "+-----------------------------------------------------------------------------+\n",
            "| Processes:                                                                  |\n",
            "|  GPU   GI   CI        PID   Type   Process name                  GPU Memory |\n",
            "|        ID   ID                                                   Usage      |\n",
            "|=============================================================================|\n",
            "|  No running processes found                                                 |\n",
            "+-----------------------------------------------------------------------------+\n"
          ]
        }
      ]
    },
    {
      "cell_type": "markdown",
      "metadata": {
        "id": "8OQZquMCajaf"
      },
      "source": [
        "# Load Necessary Dependencies"
      ]
    },
    {
      "cell_type": "code",
      "metadata": {
        "colab": {
          "base_uri": "https://localhost:8080/"
        },
        "id": "Q55jt2QJbSiC",
        "outputId": "700fc1fc-f3da-4ec3-86d3-e7795694c223"
      },
      "source": [
        "!pip install transformers"
      ],
      "execution_count": null,
      "outputs": [
        {
          "output_type": "stream",
          "name": "stdout",
          "text": [
            "Collecting transformers\n",
            "  Downloading transformers-4.11.3-py3-none-any.whl (2.9 MB)\n",
            "\u001b[K     |████████████████████████████████| 2.9 MB 8.1 MB/s \n",
            "\u001b[?25hCollecting pyyaml>=5.1\n",
            "  Downloading PyYAML-5.4.1-cp37-cp37m-manylinux1_x86_64.whl (636 kB)\n",
            "\u001b[K     |████████████████████████████████| 636 kB 50.6 MB/s \n",
            "\u001b[?25hRequirement already satisfied: importlib-metadata in /usr/local/lib/python3.7/dist-packages (from transformers) (4.8.1)\n",
            "Requirement already satisfied: numpy>=1.17 in /usr/local/lib/python3.7/dist-packages (from transformers) (1.19.5)\n",
            "Requirement already satisfied: packaging>=20.0 in /usr/local/lib/python3.7/dist-packages (from transformers) (21.0)\n",
            "Collecting sacremoses\n",
            "  Downloading sacremoses-0.0.46-py3-none-any.whl (895 kB)\n",
            "\u001b[K     |████████████████████████████████| 895 kB 43.4 MB/s \n",
            "\u001b[?25hRequirement already satisfied: tqdm>=4.27 in /usr/local/lib/python3.7/dist-packages (from transformers) (4.62.3)\n",
            "Requirement already satisfied: requests in /usr/local/lib/python3.7/dist-packages (from transformers) (2.23.0)\n",
            "Collecting huggingface-hub>=0.0.17\n",
            "  Downloading huggingface_hub-0.0.19-py3-none-any.whl (56 kB)\n",
            "\u001b[K     |████████████████████████████████| 56 kB 4.1 MB/s \n",
            "\u001b[?25hRequirement already satisfied: regex!=2019.12.17 in /usr/local/lib/python3.7/dist-packages (from transformers) (2019.12.20)\n",
            "Collecting tokenizers<0.11,>=0.10.1\n",
            "  Downloading tokenizers-0.10.3-cp37-cp37m-manylinux_2_5_x86_64.manylinux1_x86_64.manylinux_2_12_x86_64.manylinux2010_x86_64.whl (3.3 MB)\n",
            "\u001b[K     |████████████████████████████████| 3.3 MB 41.9 MB/s \n",
            "\u001b[?25hRequirement already satisfied: filelock in /usr/local/lib/python3.7/dist-packages (from transformers) (3.2.0)\n",
            "Requirement already satisfied: typing-extensions in /usr/local/lib/python3.7/dist-packages (from huggingface-hub>=0.0.17->transformers) (3.7.4.3)\n",
            "Requirement already satisfied: pyparsing>=2.0.2 in /usr/local/lib/python3.7/dist-packages (from packaging>=20.0->transformers) (2.4.7)\n",
            "Requirement already satisfied: zipp>=0.5 in /usr/local/lib/python3.7/dist-packages (from importlib-metadata->transformers) (3.6.0)\n",
            "Requirement already satisfied: urllib3!=1.25.0,!=1.25.1,<1.26,>=1.21.1 in /usr/local/lib/python3.7/dist-packages (from requests->transformers) (1.24.3)\n",
            "Requirement already satisfied: certifi>=2017.4.17 in /usr/local/lib/python3.7/dist-packages (from requests->transformers) (2021.5.30)\n",
            "Requirement already satisfied: idna<3,>=2.5 in /usr/local/lib/python3.7/dist-packages (from requests->transformers) (2.10)\n",
            "Requirement already satisfied: chardet<4,>=3.0.2 in /usr/local/lib/python3.7/dist-packages (from requests->transformers) (3.0.4)\n",
            "Requirement already satisfied: joblib in /usr/local/lib/python3.7/dist-packages (from sacremoses->transformers) (1.0.1)\n",
            "Requirement already satisfied: six in /usr/local/lib/python3.7/dist-packages (from sacremoses->transformers) (1.15.0)\n",
            "Requirement already satisfied: click in /usr/local/lib/python3.7/dist-packages (from sacremoses->transformers) (7.1.2)\n",
            "Installing collected packages: pyyaml, tokenizers, sacremoses, huggingface-hub, transformers\n",
            "  Attempting uninstall: pyyaml\n",
            "    Found existing installation: PyYAML 3.13\n",
            "    Uninstalling PyYAML-3.13:\n",
            "      Successfully uninstalled PyYAML-3.13\n",
            "Successfully installed huggingface-hub-0.0.19 pyyaml-5.4.1 sacremoses-0.0.46 tokenizers-0.10.3 transformers-4.11.3\n"
          ]
        }
      ]
    },
    {
      "cell_type": "code",
      "metadata": {
        "id": "x8WniVpUajaf"
      },
      "source": [
        "import pandas as pd\n",
        "import numpy as np\n",
        "import matplotlib.pyplot as plt\n",
        "import tensorflow as tf\n",
        "import tensorflow_hub as hub\n",
        "import transformers\n",
        "import tqdm\n",
        "from sklearn.metrics import confusion_matrix, classification_report, accuracy_score\n",
        "\n",
        "%matplotlib inline\n",
        "\n",
        "# fix random seed for reproducibility\n",
        "seed = 42\n",
        "np.random.seed(seed)\n",
        "tf.random.set_seed(seed)"
      ],
      "execution_count": null,
      "outputs": []
    },
    {
      "cell_type": "code",
      "metadata": {
        "colab": {
          "base_uri": "https://localhost:8080/"
        },
        "id": "tXp8U9ENajah",
        "outputId": "5df1fb2e-34f7-4fdc-d438-736b7fd13bfd"
      },
      "source": [
        "print(\"TF Version: \", tf.__version__)\n",
        "print(\"Eager mode: \", tf.executing_eagerly())\n",
        "print(\"TF Hub version: \", hub.__version__)\n",
        "print(\"GPU is\", \"available\" if tf.test.is_gpu_available() else \"NOT AVAILABLE\")"
      ],
      "execution_count": null,
      "outputs": [
        {
          "output_type": "stream",
          "name": "stdout",
          "text": [
            "TF Version:  2.6.0\n",
            "Eager mode:  True\n",
            "TF Hub version:  0.12.0\n",
            "WARNING:tensorflow:From <ipython-input-3-da00183a5adb>:4: is_gpu_available (from tensorflow.python.framework.test_util) is deprecated and will be removed in a future version.\n",
            "Instructions for updating:\n",
            "Use `tf.config.list_physical_devices('GPU')` instead.\n",
            "GPU is available\n"
          ]
        }
      ]
    },
    {
      "cell_type": "markdown",
      "metadata": {
        "id": "5IYUA5Zlajak"
      },
      "source": [
        "# Load and View Dataset\n",
        "\n",
        "This is the [IMDB Large Movie Review Dataset](https://ai.stanford.edu/~amaas/data/sentiment/) for binary sentiment classification containing substantially more data than previous benchmark datasets. It provides a set of 25,000 highly polar movie reviews for training, and 25,000 for testing."
      ]
    },
    {
      "cell_type": "code",
      "metadata": {
        "colab": {
          "base_uri": "https://localhost:8080/"
        },
        "id": "V20BvLjjajal",
        "outputId": "a34853aa-3ff3-4deb-b418-1e1e9b33ded4"
      },
      "source": [
        "dataset = pd.read_csv(r'https://github.com/dipanjanS/nlp_workshop_dhs18/raw/master/Unit%2011%20-%20Sentiment%20Analysis%20-%20Unsupervised%20Learning/movie_reviews.csv.bz2', compression='bz2')\n",
        "dataset['sentiment'] = [1 if record == 'positive' else 0 for record in dataset['sentiment']]\n",
        "dataset.info()"
      ],
      "execution_count": null,
      "outputs": [
        {
          "output_type": "stream",
          "name": "stdout",
          "text": [
            "<class 'pandas.core.frame.DataFrame'>\n",
            "RangeIndex: 50000 entries, 0 to 49999\n",
            "Data columns (total 2 columns):\n",
            " #   Column     Non-Null Count  Dtype \n",
            "---  ------     --------------  ----- \n",
            " 0   review     50000 non-null  object\n",
            " 1   sentiment  50000 non-null  int64 \n",
            "dtypes: int64(1), object(1)\n",
            "memory usage: 781.4+ KB\n"
          ]
        }
      ]
    },
    {
      "cell_type": "code",
      "metadata": {
        "colab": {
          "base_uri": "https://localhost:8080/",
          "height": 206
        },
        "id": "ZDDJCvjrajan",
        "outputId": "1df5647f-faaf-45e4-b020-ec914e623177"
      },
      "source": [
        "dataset.head()"
      ],
      "execution_count": null,
      "outputs": [
        {
          "output_type": "execute_result",
          "data": {
            "text/html": [
              "<div>\n",
              "<style scoped>\n",
              "    .dataframe tbody tr th:only-of-type {\n",
              "        vertical-align: middle;\n",
              "    }\n",
              "\n",
              "    .dataframe tbody tr th {\n",
              "        vertical-align: top;\n",
              "    }\n",
              "\n",
              "    .dataframe thead th {\n",
              "        text-align: right;\n",
              "    }\n",
              "</style>\n",
              "<table border=\"1\" class=\"dataframe\">\n",
              "  <thead>\n",
              "    <tr style=\"text-align: right;\">\n",
              "      <th></th>\n",
              "      <th>review</th>\n",
              "      <th>sentiment</th>\n",
              "    </tr>\n",
              "  </thead>\n",
              "  <tbody>\n",
              "    <tr>\n",
              "      <th>0</th>\n",
              "      <td>One of the other reviewers has mentioned that ...</td>\n",
              "      <td>1</td>\n",
              "    </tr>\n",
              "    <tr>\n",
              "      <th>1</th>\n",
              "      <td>A wonderful little production. &lt;br /&gt;&lt;br /&gt;The...</td>\n",
              "      <td>1</td>\n",
              "    </tr>\n",
              "    <tr>\n",
              "      <th>2</th>\n",
              "      <td>I thought this was a wonderful way to spend ti...</td>\n",
              "      <td>1</td>\n",
              "    </tr>\n",
              "    <tr>\n",
              "      <th>3</th>\n",
              "      <td>Basically there's a family where a little boy ...</td>\n",
              "      <td>0</td>\n",
              "    </tr>\n",
              "    <tr>\n",
              "      <th>4</th>\n",
              "      <td>Petter Mattei's \"Love in the Time of Money\" is...</td>\n",
              "      <td>1</td>\n",
              "    </tr>\n",
              "  </tbody>\n",
              "</table>\n",
              "</div>"
            ],
            "text/plain": [
              "                                              review  sentiment\n",
              "0  One of the other reviewers has mentioned that ...          1\n",
              "1  A wonderful little production. <br /><br />The...          1\n",
              "2  I thought this was a wonderful way to spend ti...          1\n",
              "3  Basically there's a family where a little boy ...          0\n",
              "4  Petter Mattei's \"Love in the Time of Money\" is...          1"
            ]
          },
          "metadata": {},
          "execution_count": 5
        }
      ]
    },
    {
      "cell_type": "markdown",
      "metadata": {
        "id": "TdMiB1EFajap"
      },
      "source": [
        "# Preparing Train, Validation and Test Datasets\n",
        "\n",
        "Following is the dataset scheme we will use for modeling to simulate a small labeled dataset problem\n",
        "\n",
        "- __Train Dataset:__ 5000 Reviews\n",
        "- __Validation Dataset:__ 5000 Reviews\n",
        "- __Test Dataset:__ 40000 Reviews\n",
        "\n",
        "Thus we will be training all our models on only 5000 reviews and testing model performance on 40000 reviews!"
      ]
    },
    {
      "cell_type": "code",
      "metadata": {
        "colab": {
          "base_uri": "https://localhost:8080/"
        },
        "id": "BiHTDHD_ajap",
        "outputId": "18dd7730-17e3-4b9e-963c-71c39e47aa64"
      },
      "source": [
        "reviews = dataset['review'].values\n",
        "sentiments = dataset['sentiment'].values\n",
        "\n",
        "train_reviews = reviews[:5000]\n",
        "val_reviews = reviews [5000:10000]\n",
        "test_reviews = reviews[10000:]\n",
        "\n",
        "\n",
        "train_sentiments = sentiments[:5000]\n",
        "val_sentiments = sentiments [5000:10000]\n",
        "test_sentiments = sentiments[10000:]\n",
        "\n",
        "train_reviews.shape, val_reviews.shape, test_reviews.shape"
      ],
      "execution_count": null,
      "outputs": [
        {
          "output_type": "execute_result",
          "data": {
            "text/plain": [
              "((5000,), (5000,), (40000,))"
            ]
          },
          "metadata": {},
          "execution_count": 6
        }
      ]
    },
    {
      "cell_type": "markdown",
      "metadata": {
        "id": "yXDBz_qqajas"
      },
      "source": [
        "# Basic Text Pre-processing\n",
        "\n",
        "We do minimal text pre-processing here since we are using deep learning models and not count-based methods. Steps include the following:\n",
        "\n",
        "- Removing HTML characters\n",
        "- Converting accented characters\n",
        "- Fixing contractions\n",
        "- Removing special characters\n",
        "\n",
        "__Note:__ For some models we don't use any pre-processing like BERT!"
      ]
    },
    {
      "cell_type": "code",
      "metadata": {
        "colab": {
          "base_uri": "https://localhost:8080/"
        },
        "id": "H-xMIu2Najas",
        "outputId": "058de163-56bc-42a7-95df-a81d4a82cfbe"
      },
      "source": [
        "!sudo pip3 install contractions\n",
        "!sudo pip3 install textsearch\n",
        "!sudo pip3 install tqdm\n",
        "!sudo pip3 install nltk\n",
        "!sudo pip3 install beautifulsoup4\n",
        "\n",
        "import nltk\n",
        "nltk.download('punkt')"
      ],
      "execution_count": null,
      "outputs": [
        {
          "output_type": "stream",
          "name": "stdout",
          "text": [
            "Requirement already satisfied: contractions in /usr/local/lib/python3.7/dist-packages (0.0.52)\n",
            "Requirement already satisfied: textsearch>=0.0.21 in /usr/local/lib/python3.7/dist-packages (from contractions) (0.0.21)\n",
            "Requirement already satisfied: anyascii in /usr/local/lib/python3.7/dist-packages (from textsearch>=0.0.21->contractions) (0.3.0)\n",
            "Requirement already satisfied: pyahocorasick in /usr/local/lib/python3.7/dist-packages (from textsearch>=0.0.21->contractions) (1.4.2)\n",
            "Requirement already satisfied: textsearch in /usr/local/lib/python3.7/dist-packages (0.0.21)\n",
            "Requirement already satisfied: anyascii in /usr/local/lib/python3.7/dist-packages (from textsearch) (0.3.0)\n",
            "Requirement already satisfied: pyahocorasick in /usr/local/lib/python3.7/dist-packages (from textsearch) (1.4.2)\n",
            "Requirement already satisfied: tqdm in /usr/local/lib/python3.7/dist-packages (4.62.3)\n",
            "Requirement already satisfied: nltk in /usr/local/lib/python3.7/dist-packages (3.2.5)\n",
            "Requirement already satisfied: six in /usr/local/lib/python3.7/dist-packages (from nltk) (1.15.0)\n",
            "Requirement already satisfied: beautifulsoup4 in /usr/local/lib/python3.7/dist-packages (4.6.3)\n",
            "[nltk_data] Downloading package punkt to /root/nltk_data...\n",
            "[nltk_data]   Package punkt is already up-to-date!\n"
          ]
        },
        {
          "output_type": "execute_result",
          "data": {
            "text/plain": [
              "True"
            ]
          },
          "metadata": {},
          "execution_count": 7
        }
      ]
    },
    {
      "cell_type": "code",
      "metadata": {
        "id": "0le4IFlxajau"
      },
      "source": [
        "import contractions\n",
        "from bs4 import BeautifulSoup\n",
        "import numpy as np\n",
        "import re\n",
        "import tqdm\n",
        "import unicodedata\n",
        "\n",
        "\n",
        "def strip_html_tags(text):\n",
        "    soup = BeautifulSoup(text, \"html.parser\")\n",
        "    [s.extract() for s in soup(['iframe', 'script'])]\n",
        "    stripped_text = soup.get_text()\n",
        "    stripped_text = re.sub(r'[\\r|\\n|\\r\\n]+', '\\n', stripped_text)\n",
        "    return stripped_text\n",
        "\n",
        "def remove_accented_chars(text):\n",
        "    text = unicodedata.normalize('NFKD', text).encode('ascii', 'ignore').decode('utf-8', 'ignore')\n",
        "    return text\n",
        "\n",
        "def pre_process_corpus(docs):\n",
        "    norm_docs = []\n",
        "    for doc in tqdm.tqdm(docs):\n",
        "        doc = strip_html_tags(doc)\n",
        "        doc = doc.translate(doc.maketrans(\"\\n\\t\\r\", \"   \"))\n",
        "        doc = doc.lower()\n",
        "        doc = remove_accented_chars(doc)\n",
        "        doc = contractions.fix(doc)\n",
        "        # lower case and remove special characters\\whitespaces\n",
        "        doc = re.sub(r'[^a-zA-Z0-9\\s]', ' ', doc, flags=re.I|re.A)\n",
        "        doc = re.sub(' +', ' ', doc)\n",
        "        doc = doc.strip()\n",
        "        norm_docs.append(doc)\n",
        "    return norm_docs"
      ],
      "execution_count": null,
      "outputs": []
    },
    {
      "cell_type": "code",
      "metadata": {
        "colab": {
          "base_uri": "https://localhost:8080/"
        },
        "id": "gCa_kwSoajaw",
        "outputId": "4666d2c5-29ee-49ec-ebee-6f15f8357c95"
      },
      "source": [
        "%%time\n",
        "\n",
        "norm_train_texts = pre_process_corpus(train_reviews)\n",
        "norm_val_texts = pre_process_corpus(val_reviews)\n",
        "norm_test_texts = pre_process_corpus(test_reviews)"
      ],
      "execution_count": null,
      "outputs": [
        {
          "output_type": "stream",
          "name": "stderr",
          "text": [
            "100%|██████████| 5000/5000 [00:02<00:00, 1715.33it/s]\n",
            "100%|██████████| 5000/5000 [00:02<00:00, 1809.62it/s]\n",
            "100%|██████████| 40000/40000 [00:22<00:00, 1795.34it/s]"
          ]
        },
        {
          "output_type": "stream",
          "name": "stdout",
          "text": [
            "CPU times: user 27.4 s, sys: 489 ms, total: 27.9 s\n",
            "Wall time: 28 s\n"
          ]
        },
        {
          "output_type": "stream",
          "name": "stderr",
          "text": [
            "\n"
          ]
        }
      ]
    },
    {
      "cell_type": "markdown",
      "metadata": {
        "id": "LAJy5oNXcWzx"
      },
      "source": [
        "# Model 0: Simple Baseline ML Model - Logistic Regression"
      ]
    },
    {
      "cell_type": "markdown",
      "metadata": {
        "id": "orFz4oyrhRWz"
      },
      "source": [
        "## Feature Extraction with BOW Model"
      ]
    },
    {
      "cell_type": "code",
      "metadata": {
        "colab": {
          "base_uri": "https://localhost:8080/"
        },
        "id": "8CKxZvOccDl7",
        "outputId": "21d4f650-3cf2-4379-cc32-8f0d663a33e3"
      },
      "source": [
        "from sklearn.feature_extraction.text import CountVectorizer\n",
        "\n",
        "cv = CountVectorizer(binary=False, min_df=2, max_df=1.0)\n",
        "\n",
        "cv_train_features = cv.fit_transform(norm_train_texts)\n",
        "cv_test_features = cv.transform(norm_test_texts)\n",
        "print('BOW model:> Train features shape:', cv_train_features.shape, ' Test features shape:', cv_test_features.shape)"
      ],
      "execution_count": null,
      "outputs": [
        {
          "output_type": "stream",
          "name": "stdout",
          "text": [
            "BOW model:> Train features shape: (5000, 21639)  Test features shape: (40000, 21639)\n"
          ]
        }
      ]
    },
    {
      "cell_type": "markdown",
      "metadata": {
        "id": "LTJzeCmAhVqf"
      },
      "source": [
        "## Train the ML Model"
      ]
    },
    {
      "cell_type": "code",
      "metadata": {
        "colab": {
          "base_uri": "https://localhost:8080/"
        },
        "id": "ZGK-qpVFcgAk",
        "outputId": "a2cc8e54-4a32-4259-e3e4-704032aef4ee"
      },
      "source": [
        "%%time\n",
        "\n",
        "# Logistic Regression model on BOW features\n",
        "from sklearn.linear_model import LogisticRegression\n",
        "\n",
        "# instantiate model\n",
        "lr = LogisticRegression(penalty='l2', max_iter=500, C=1, solver='lbfgs', random_state=42)\n",
        "\n",
        "# train model\n",
        "lr.fit(cv_train_features, train_sentiments)\n",
        "\n",
        "# predict on test data\n",
        "lr_bow_predictions = lr.predict(cv_test_features)"
      ],
      "execution_count": null,
      "outputs": [
        {
          "output_type": "stream",
          "name": "stdout",
          "text": [
            "CPU times: user 3.62 s, sys: 4.96 s, total: 8.57 s\n",
            "Wall time: 4.42 s\n"
          ]
        }
      ]
    },
    {
      "cell_type": "markdown",
      "metadata": {
        "id": "ruF1eMNLhXp5"
      },
      "source": [
        "## Predict and Test Model Performance"
      ]
    },
    {
      "cell_type": "code",
      "metadata": {
        "colab": {
          "base_uri": "https://localhost:8080/",
          "height": 272
        },
        "id": "XKcDYnNsco15",
        "outputId": "2b11d5ec-b1f1-4054-8bfa-567213f43771"
      },
      "source": [
        "print(classification_report(test_sentiments, lr_bow_predictions))\n",
        "pd.DataFrame(confusion_matrix(test_sentiments, lr_bow_predictions))"
      ],
      "execution_count": null,
      "outputs": [
        {
          "output_type": "stream",
          "name": "stdout",
          "text": [
            "              precision    recall  f1-score   support\n",
            "\n",
            "           0       0.85      0.85      0.85     20028\n",
            "           1       0.85      0.85      0.85     19972\n",
            "\n",
            "    accuracy                           0.85     40000\n",
            "   macro avg       0.85      0.85      0.85     40000\n",
            "weighted avg       0.85      0.85      0.85     40000\n",
            "\n"
          ]
        },
        {
          "output_type": "execute_result",
          "data": {
            "text/html": [
              "<div>\n",
              "<style scoped>\n",
              "    .dataframe tbody tr th:only-of-type {\n",
              "        vertical-align: middle;\n",
              "    }\n",
              "\n",
              "    .dataframe tbody tr th {\n",
              "        vertical-align: top;\n",
              "    }\n",
              "\n",
              "    .dataframe thead th {\n",
              "        text-align: right;\n",
              "    }\n",
              "</style>\n",
              "<table border=\"1\" class=\"dataframe\">\n",
              "  <thead>\n",
              "    <tr style=\"text-align: right;\">\n",
              "      <th></th>\n",
              "      <th>0</th>\n",
              "      <th>1</th>\n",
              "    </tr>\n",
              "  </thead>\n",
              "  <tbody>\n",
              "    <tr>\n",
              "      <th>0</th>\n",
              "      <td>17001</td>\n",
              "      <td>3027</td>\n",
              "    </tr>\n",
              "    <tr>\n",
              "      <th>1</th>\n",
              "      <td>2937</td>\n",
              "      <td>17035</td>\n",
              "    </tr>\n",
              "  </tbody>\n",
              "</table>\n",
              "</div>"
            ],
            "text/plain": [
              "       0      1\n",
              "0  17001   3027\n",
              "1   2937  17035"
            ]
          },
          "metadata": {},
          "execution_count": 13
        }
      ]
    },
    {
      "cell_type": "markdown",
      "metadata": {
        "id": "DhKn8guEajay"
      },
      "source": [
        "# Model 1: FastText Embeddings + CNN\n",
        "\n",
        "![](https://i.imgur.com/6Pk3Nrv.png)\n",
        "\n",
        "Convolutional Neural Networks (CNNs) have also proven to be very effective in text classification besides computer vision tasks. The idea is to leverage embeddings as features for text data and apply convolutions and poolings on them."
      ]
    },
    {
      "cell_type": "markdown",
      "metadata": {
        "id": "OMCYxEQqajaz"
      },
      "source": [
        "## Tokenizing text to create vocabulary"
      ]
    },
    {
      "cell_type": "code",
      "metadata": {
        "id": "cj0KZG_2ajaz"
      },
      "source": [
        "t = tf.keras.preprocessing.text.Tokenizer(oov_token='<UNK>')\n",
        "# fit the tokenizer on the documents\n",
        "t.fit_on_texts(norm_train_texts)\n",
        "t.word_index['<PAD>'] = 0"
      ],
      "execution_count": null,
      "outputs": []
    },
    {
      "cell_type": "code",
      "metadata": {
        "colab": {
          "base_uri": "https://localhost:8080/"
        },
        "id": "HmCDkpeUaja1",
        "outputId": "dcb30174-d31f-497e-dadb-4e2651e3e937"
      },
      "source": [
        "print(max([(k, v) for k, v in t.word_index.items()], key = lambda x:x[1]),\n",
        "      min([(k, v) for k, v in t.word_index.items()], key = lambda x:x[1]),\n",
        "      t.word_index['<UNK>'])"
      ],
      "execution_count": null,
      "outputs": [
        {
          "output_type": "stream",
          "name": "stdout",
          "text": [
            "('unscarred', 39216) ('<PAD>', 0) 1\n"
          ]
        }
      ]
    },
    {
      "cell_type": "markdown",
      "metadata": {
        "id": "E2hvcxYvaja4"
      },
      "source": [
        "## Convert texts (sequences of words) to sequence of numeric ids"
      ]
    },
    {
      "cell_type": "code",
      "metadata": {
        "id": "kfCTE0AKaja4"
      },
      "source": [
        "train_sequences = t.texts_to_sequences(norm_train_texts)\n",
        "val_sequences = t.texts_to_sequences(norm_val_texts)\n",
        "test_sequences = t.texts_to_sequences(norm_test_texts)"
      ],
      "execution_count": null,
      "outputs": []
    },
    {
      "cell_type": "code",
      "metadata": {
        "colab": {
          "base_uri": "https://localhost:8080/"
        },
        "id": "1Rhom3wvaja6",
        "outputId": "847df062-dec4-4beb-85f8-fd7bac5a7ab3"
      },
      "source": [
        "print(\"Vocabulary size={}\".format(len(t.word_index)))\n",
        "print(\"Number of Documents={}\".format(t.document_count))"
      ],
      "execution_count": null,
      "outputs": [
        {
          "output_type": "stream",
          "name": "stdout",
          "text": [
            "Vocabulary size=39217\n",
            "Number of Documents=5000\n"
          ]
        }
      ]
    },
    {
      "cell_type": "markdown",
      "metadata": {
        "id": "SeEoOXqdaja8"
      },
      "source": [
        "## Visualizing sentence length distribution"
      ]
    },
    {
      "cell_type": "code",
      "metadata": {
        "colab": {
          "base_uri": "https://localhost:8080/",
          "height": 283
        },
        "id": "QByCrNcDaja8",
        "outputId": "5dce1f4f-59b4-4f29-a6e0-4dd7d16e348c"
      },
      "source": [
        "plt.hist([len(doc.split()) for doc in norm_train_texts], bins=30);\n",
        "plt.xlim([0, 2000])"
      ],
      "execution_count": null,
      "outputs": [
        {
          "output_type": "execute_result",
          "data": {
            "text/plain": [
              "(0.0, 2000.0)"
            ]
          },
          "metadata": {},
          "execution_count": 18
        },
        {
          "output_type": "display_data",
          "data": {
            "image/png": "[encoded data removed]",
            "text/plain": [
              "<Figure size 432x288 with 1 Axes>"
            ]
          },
          "metadata": {
            "needs_background": "light"
          }
        }
      ]
    },
    {
      "cell_type": "markdown",
      "metadata": {
        "id": "GWrzX3eYaja-"
      },
      "source": [
        "## Padding text sequences"
      ]
    },
    {
      "cell_type": "code",
      "metadata": {
        "colab": {
          "base_uri": "https://localhost:8080/"
        },
        "id": "d_ALlOn6aja_",
        "outputId": "5a906fa3-3450-413d-9fdc-806f5f71c3ea"
      },
      "source": [
        "MAX_SEQUENCE_LENGTH = 500\n",
        "\n",
        "# pad dataset to a maximum review length in words\n",
        "X_train = tf.keras.preprocessing.sequence.pad_sequences(train_sequences, maxlen=MAX_SEQUENCE_LENGTH)\n",
        "X_val = tf.keras.preprocessing.sequence.pad_sequences(val_sequences, maxlen=MAX_SEQUENCE_LENGTH)\n",
        "X_test = tf.keras.preprocessing.sequence.pad_sequences(test_sequences, maxlen=MAX_SEQUENCE_LENGTH)\n",
        "X_train.shape, X_test.shape"
      ],
      "execution_count": null,
      "outputs": [
        {
          "output_type": "execute_result",
          "data": {
            "text/plain": [
              "((5000, 500), (40000, 500))"
            ]
          },
          "metadata": {},
          "execution_count": 19
        }
      ]
    },
    {
      "cell_type": "markdown",
      "metadata": {
        "id": "Rctc4SDbajbB"
      },
      "source": [
        "## Building FastText based Embedding Matrix\n",
        "\n",
        "Here we will build an embedding matrix based on pre-trained FastText Embeddings available __[here](https://fasttext.cc/docs/en/english-vectors.html)__.\n",
        "\n",
        "We will be using the __crawl-300d-2M-subword.vec.zip__ embedding file which has 1 million word vectors trained with subword infomation on 2 million word vectors trained with subword information on Common Crawl (600B tokens).\n",
        "\n",
        "![](https://i.imgur.com/5de9N5R.png)"
      ]
    },
    {
      "cell_type": "code",
      "metadata": {
        "id": "VNPVMJVoajbB"
      },
      "source": [
        "VOCAB_SIZE = len(t.word_index)\n",
        "EMBED_SIZE = 300\n",
        "EPOCHS=100\n",
        "BATCH_SIZE=128"
      ],
      "execution_count": null,
      "outputs": []
    },
    {
      "cell_type": "markdown",
      "metadata": {
        "id": "8NUo94CZhhLW"
      },
      "source": [
        "## Download Pre-trained FastText Embeddings"
      ]
    },
    {
      "cell_type": "code",
      "metadata": {
        "colab": {
          "base_uri": "https://localhost:8080/"
        },
        "id": "SUVQNz32dOnD",
        "outputId": "d5497f65-5dd0-4898-f7c1-156d27bb9efb"
      },
      "source": [
        "!wget https://dl.fbaipublicfiles.com/fasttext/vectors-english/crawl-300d-2M-subword.zip"
      ],
      "execution_count": null,
      "outputs": [
        {
          "output_type": "stream",
          "name": "stdout",
          "text": [
            "--2021-10-07 05:40:00--  https://dl.fbaipublicfiles.com/fasttext/vectors-english/crawl-300d-2M-subword.zip\n",
            "Resolving dl.fbaipublicfiles.com (dl.fbaipublicfiles.com)... 104.22.75.142, 172.67.9.4, 104.22.74.142, ...\n",
            "Connecting to dl.fbaipublicfiles.com (dl.fbaipublicfiles.com)|104.22.75.142|:443... connected.\n",
            "HTTP request sent, awaiting response... 200 OK\n",
            "Length: 5828358084 (5.4G) [application/zip]\n",
            "Saving to: ‘crawl-300d-2M-subword.zip’\n",
            "\n",
            "crawl-300d-2M-subwo 100%[===================>]   5.43G  31.0MB/s    in 2m 47s  \n",
            "\n",
            "2021-10-07 05:42:47 (33.3 MB/s) - ‘crawl-300d-2M-subword.zip’ saved [5828358084/5828358084]\n",
            "\n"
          ]
        }
      ]
    },
    {
      "cell_type": "code",
      "metadata": {
        "colab": {
          "base_uri": "https://localhost:8080/"
        },
        "id": "hKLwq0nFdWEb",
        "outputId": "6cd332de-b7a5-4f86-f86f-b9253dcddddb"
      },
      "source": [
        "!unzip crawl-300d-2M-subword.zip"
      ],
      "execution_count": null,
      "outputs": [
        {
          "output_type": "stream",
          "name": "stdout",
          "text": [
            "Archive:  crawl-300d-2M-subword.zip\n",
            "  inflating: crawl-300d-2M-subword.vec  \n",
            "  inflating: crawl-300d-2M-subword.bin  \n"
          ]
        }
      ]
    },
    {
      "cell_type": "markdown",
      "metadata": {
        "id": "tSeBiAiqhlR_"
      },
      "source": [
        "## Generate Pre-trained Embedding Matrix"
      ]
    },
    {
      "cell_type": "code",
      "metadata": {
        "id": "Mz5A60JEajbD"
      },
      "source": [
        "word2idx = t.word_index\n",
        "FASTTEXT_INIT_EMBEDDINGS_FILE = './crawl-300d-2M-subword.vec'\n",
        "\n",
        "\n",
        "def load_pretrained_embeddings(word_to_index, max_features, embedding_size, embedding_file_path):\n",
        "\n",
        "    def get_coefs(word,*arr):\n",
        "        return word, np.asarray(arr, dtype='float32')\n",
        "\n",
        "    embeddings_index = dict(get_coefs(*row.split(\" \"))\n",
        "                                for row in open(embedding_file_path, encoding=\"utf8\", errors='ignore')\n",
        "                                    if len(row)>100)\n",
        "\n",
        "    all_embs = np.stack(embeddings_index.values())\n",
        "    emb_mean, emb_std = all_embs.mean(), all_embs.std()\n",
        "    embed_size = all_embs.shape[1]\n",
        "\n",
        "    nb_words = min(max_features, len(word_to_index))\n",
        "    embedding_matrix = np.random.normal(emb_mean, emb_std, (nb_words, embedding_size))\n",
        "\n",
        "    for word, idx in word_to_index.items():\n",
        "        if idx >= max_features:\n",
        "            continue\n",
        "        embedding_vector = embeddings_index.get(word)\n",
        "        if embedding_vector is not None:\n",
        "            embedding_matrix[idx] = embedding_vector\n",
        "\n",
        "    return embedding_matrix"
      ],
      "execution_count": null,
      "outputs": []
    },
    {
      "cell_type": "code",
      "metadata": {
        "colab": {
          "base_uri": "https://localhost:8080/"
        },
        "id": "0WfOQV3lajbF",
        "outputId": "5aacdf57-d245-4a1b-cad5-bd65009fb8df"
      },
      "source": [
        "ft_embeddings = load_pretrained_embeddings(word_to_index=word2idx,\n",
        "                                           max_features=VOCAB_SIZE,\n",
        "                                           embedding_size=EMBED_SIZE,\n",
        "                                           embedding_file_path=FASTTEXT_INIT_EMBEDDINGS_FILE)\n",
        "ft_embeddings.shape"
      ],
      "execution_count": null,
      "outputs": [
        {
          "output_type": "stream",
          "name": "stderr",
          "text": [
            "/usr/local/lib/python3.7/dist-packages/IPython/core/interactiveshell.py:2882: FutureWarning: arrays to stack must be passed as a \"sequence\" type such as list or tuple. Support for non-sequence iterables such as generators is deprecated as of NumPy 1.16 and will raise an error in the future.\n",
            "  exec(code_obj, self.user_global_ns, self.user_ns)\n"
          ]
        },
        {
          "output_type": "execute_result",
          "data": {
            "text/plain": [
              "(39217, 300)"
            ]
          },
          "metadata": {},
          "execution_count": 24
        }
      ]
    },
    {
      "cell_type": "markdown",
      "metadata": {
        "id": "MEV8ZEN8ajbH"
      },
      "source": [
        "## Build Model Architecture"
      ]
    },
    {
      "cell_type": "code",
      "metadata": {
        "colab": {
          "base_uri": "https://localhost:8080/"
        },
        "id": "Gbpb7gd3ajbH",
        "outputId": "18fee07d-0612-4e58-839b-2592388d49b5"
      },
      "source": [
        "# create the model\n",
        "model = tf.keras.models.Sequential()\n",
        "\n",
        "model.add(tf.keras.layers.Embedding(VOCAB_SIZE, EMBED_SIZE,\n",
        "                                    weights=[ft_embeddings],\n",
        "                                    trainable=True,\n",
        "                                    input_length=MAX_SEQUENCE_LENGTH))\n",
        "\n",
        "model.add(tf.keras.layers.Conv1D(filters=256, kernel_size=4, padding='same', activation='relu'))\n",
        "model.add(tf.keras.layers.MaxPooling1D(pool_size=2))\n",
        "\n",
        "model.add(tf.keras.layers.Conv1D(filters=128, kernel_size=4, padding='same', activation='relu'))\n",
        "model.add(tf.keras.layers.MaxPooling1D(pool_size=2))\n",
        "\n",
        "model.add(tf.keras.layers.Conv1D(filters=64, kernel_size=4, padding='same', activation='relu'))\n",
        "model.add(tf.keras.layers.MaxPooling1D(pool_size=2))\n",
        "\n",
        "model.add(tf.keras.layers.Flatten())\n",
        "\n",
        "model.add(tf.keras.layers.Dense(256, activation='relu'))\n",
        "model.add(tf.keras.layers.Dropout(0.25))\n",
        "model.add(tf.keras.layers.Dense(256, activation='relu'))\n",
        "model.add(tf.keras.layers.Dropout(0.25))\n",
        "model.add(tf.keras.layers.Dense(1, activation='sigmoid'))\n",
        "\n",
        "model.compile(loss='binary_crossentropy', optimizer='adam', metrics=['accuracy'])\n",
        "model.summary()"
      ],
      "execution_count": null,
      "outputs": [
        {
          "output_type": "stream",
          "name": "stdout",
          "text": [
            "Model: \"sequential_4\"\n",
            "_________________________________________________________________\n",
            "Layer (type)                 Output Shape              Param #   \n",
            "=================================================================\n",
            "embedding_2 (Embedding)      (None, 500, 300)          11765100  \n",
            "_________________________________________________________________\n",
            "conv1d_6 (Conv1D)            (None, 500, 256)          307456    \n",
            "_________________________________________________________________\n",
            "max_pooling1d_6 (MaxPooling1 (None, 250, 256)          0         \n",
            "_________________________________________________________________\n",
            "conv1d_7 (Conv1D)            (None, 250, 128)          131200    \n",
            "_________________________________________________________________\n",
            "max_pooling1d_7 (MaxPooling1 (None, 125, 128)          0         \n",
            "_________________________________________________________________\n",
            "conv1d_8 (Conv1D)            (None, 125, 64)           32832     \n",
            "_________________________________________________________________\n",
            "max_pooling1d_8 (MaxPooling1 (None, 62, 64)            0         \n",
            "_________________________________________________________________\n",
            "flatten_2 (Flatten)          (None, 3968)              0         \n",
            "_________________________________________________________________\n",
            "dense_12 (Dense)             (None, 256)               1016064   \n",
            "_________________________________________________________________\n",
            "dropout_8 (Dropout)          (None, 256)               0         \n",
            "_________________________________________________________________\n",
            "dense_13 (Dense)             (None, 256)               65792     \n",
            "_________________________________________________________________\n",
            "dropout_9 (Dropout)          (None, 256)               0         \n",
            "_________________________________________________________________\n",
            "dense_14 (Dense)             (None, 1)                 257       \n",
            "=================================================================\n",
            "Total params: 13,318,701\n",
            "Trainable params: 13,318,701\n",
            "Non-trainable params: 0\n",
            "_________________________________________________________________\n"
          ]
        }
      ]
    },
    {
      "cell_type": "markdown",
      "metadata": {
        "id": "wgU-nHZ2ajbJ"
      },
      "source": [
        "## Train and Validate Model"
      ]
    },
    {
      "cell_type": "code",
      "metadata": {
        "colab": {
          "base_uri": "https://localhost:8080/"
        },
        "id": "IpegUjivajbJ",
        "outputId": "a44d2db7-75f3-4b68-fb3c-0daf43e7b0bf"
      },
      "source": [
        "# Fit the model\n",
        "es = tf.keras.callbacks.EarlyStopping(monitor='val_loss',\n",
        "                                      patience=2,\n",
        "                                      restore_best_weights=True,\n",
        "                                      verbose=1)\n",
        "\n",
        "model.fit(X_train, train_sentiments,\n",
        "          validation_data=(X_val, val_sentiments),\n",
        "          epochs=EPOCHS,\n",
        "          batch_size=BATCH_SIZE,\n",
        "          shuffle=True,\n",
        "          callbacks=[es],\n",
        "          verbose=1)"
      ],
      "execution_count": null,
      "outputs": [
        {
          "output_type": "stream",
          "name": "stdout",
          "text": [
            "Epoch 1/100\n",
            "40/40 [==============================] - 3s 60ms/step - loss: 0.6941 - accuracy: 0.5078 - val_loss: 0.6902 - val_accuracy: 0.5018\n",
            "Epoch 2/100\n",
            "40/40 [==============================] - 2s 55ms/step - loss: 0.5338 - accuracy: 0.7220 - val_loss: 0.3457 - val_accuracy: 0.8506\n",
            "Epoch 3/100\n",
            "40/40 [==============================] - 2s 55ms/step - loss: 0.2005 - accuracy: 0.9220 - val_loss: 0.3273 - val_accuracy: 0.8632\n",
            "Epoch 4/100\n",
            "40/40 [==============================] - 2s 55ms/step - loss: 0.0430 - accuracy: 0.9848 - val_loss: 0.5137 - val_accuracy: 0.8718\n",
            "Epoch 5/100\n",
            "40/40 [==============================] - 2s 56ms/step - loss: 0.0111 - accuracy: 0.9960 - val_loss: 0.6699 - val_accuracy: 0.8634\n",
            "Restoring model weights from the end of the best epoch.\n",
            "Epoch 00005: early stopping\n"
          ]
        },
        {
          "output_type": "execute_result",
          "data": {
            "text/plain": [
              "<keras.callbacks.History at 0x7f93bd997c90>"
            ]
          },
          "metadata": {},
          "execution_count": 47
        }
      ]
    },
    {
      "cell_type": "markdown",
      "metadata": {
        "id": "x-8mIjSHajbL"
      },
      "source": [
        "## Model Performance Evaluation on the Test Dataset"
      ]
    },
    {
      "cell_type": "code",
      "metadata": {
        "colab": {
          "base_uri": "https://localhost:8080/",
          "height": 289
        },
        "id": "NXJm1NEHajbL",
        "outputId": "5d2f7c64-9063-41fe-decb-8a637989a2c8"
      },
      "source": [
        "predictions = model.predict(X_test, batch_size=2048, verbose=0).ravel()\n",
        "predictions = [1 if prob > 0.5 else 0 for prob in predictions]\n",
        "print(\"Accuracy: %.2f%%\" % (accuracy_score(test_sentiments, predictions)*100))\n",
        "print(classification_report(test_sentiments, predictions))\n",
        "pd.DataFrame(confusion_matrix(test_sentiments, predictions))"
      ],
      "execution_count": null,
      "outputs": [
        {
          "output_type": "stream",
          "name": "stdout",
          "text": [
            "Accuracy: 86.18%\n",
            "              precision    recall  f1-score   support\n",
            "\n",
            "           0       0.82      0.92      0.87     20028\n",
            "           1       0.91      0.80      0.85     19972\n",
            "\n",
            "    accuracy                           0.86     40000\n",
            "   macro avg       0.87      0.86      0.86     40000\n",
            "weighted avg       0.87      0.86      0.86     40000\n",
            "\n"
          ]
        },
        {
          "output_type": "execute_result",
          "data": {
            "text/html": [
              "<div>\n",
              "<style scoped>\n",
              "    .dataframe tbody tr th:only-of-type {\n",
              "        vertical-align: middle;\n",
              "    }\n",
              "\n",
              "    .dataframe tbody tr th {\n",
              "        vertical-align: top;\n",
              "    }\n",
              "\n",
              "    .dataframe thead th {\n",
              "        text-align: right;\n",
              "    }\n",
              "</style>\n",
              "<table border=\"1\" class=\"dataframe\">\n",
              "  <thead>\n",
              "    <tr style=\"text-align: right;\">\n",
              "      <th></th>\n",
              "      <th>0</th>\n",
              "      <th>1</th>\n",
              "    </tr>\n",
              "  </thead>\n",
              "  <tbody>\n",
              "    <tr>\n",
              "      <th>0</th>\n",
              "      <td>18439</td>\n",
              "      <td>1589</td>\n",
              "    </tr>\n",
              "    <tr>\n",
              "      <th>1</th>\n",
              "      <td>3939</td>\n",
              "      <td>16033</td>\n",
              "    </tr>\n",
              "  </tbody>\n",
              "</table>\n",
              "</div>"
            ],
            "text/plain": [
              "       0      1\n",
              "0  18439   1589\n",
              "1   3939  16033"
            ]
          },
          "metadata": {},
          "execution_count": 48
        }
      ]
    },
    {
      "cell_type": "markdown",
      "metadata": {
        "id": "uHgcPoPoajb-"
      },
      "source": [
        "# Model 2: Neural Network Language Model\n",
        "\n",
        "![](https://i.imgur.com/blaLxUp.png)"
      ]
    },
    {
      "cell_type": "markdown",
      "metadata": {
        "id": "qpIVtIJ6ajb_"
      },
      "source": [
        "## Sample training data"
      ]
    },
    {
      "cell_type": "code",
      "metadata": {
        "colab": {
          "base_uri": "https://localhost:8080/"
        },
        "id": "JbfpSTYaajb_",
        "outputId": "a67b0b90-ff2a-4c6f-e96a-489ef31b2d2b"
      },
      "source": [
        "norm_train_texts[:3]"
      ],
      "execution_count": null,
      "outputs": [
        {
          "output_type": "execute_result",
          "data": {
            "text/plain": [
              "['one of the other reviewers has mentioned that after watching just 1 oz episode you will be hooked they are right as this is exactly what happened with me the first thing that struck me about oz was its brutality and unflinching scenes of violence which set in right from the word go trust me this is not a show for the faint hearted or timid this show pulls no punches with regards to drugs sex or violence its is hardcore in the classic use of the word it is called oz as that is the nickname given to the oswald maximum security state penitentary it focuses mainly on emerald city an experimental section of the prison where all the cells have glass fronts and face inwards so privacy is not high on the agenda them city is home to many aryans muslims gangstas latinos christians italians irish and more so scuffles death stares dodgy dealings and shady agreements are never far away i would say the main appeal of the show is due to the fact that it goes where other shows would not dare forget pretty pictures painted for mainstream audiences forget charm forget romance oz does not mess around the first episode i ever saw struck me as so nasty it was surreal i could not say i was ready for it but as i watched more i developed a taste for oz and got accustomed to the high levels of graphic violence not just violence but injustice crooked guards who will be sold out for a nickel inmates who will kill on order and get away with it well mannered middle class inmates being turned into prison bitches due to their lack of street skills or prison experience watching oz you may become comfortable with what is uncomfortable viewing that is if you can get in touch with your darker side',\n",
              " 'a wonderful little production the filming technique is very unassuming very old time bbc fashion and gives a comforting and sometimes discomforting sense of realism to the entire piece the actors are extremely well chosen michael sheen not only has got all the polari but he has all the voices down pat too you can truly see the seamless editing guided by the references to williams diary entries not only is it well worth the watching but it is a terrificly written and performed piece a masterful production about one of the great master s of comedy and his life the realism really comes home with the little things the fantasy of the guard which rather than use the traditional dream techniques remains solid then disappears it plays on our knowledge and our senses particularly with the scenes concerning orton and halliwell and the sets particularly of their flat with halliwell s murals decorating every surface are terribly well done',\n",
              " 'i thought this was a wonderful way to spend time on a too hot summer weekend sitting in the air conditioned theater and watching a light hearted comedy the plot is simplistic but the dialogue is witty and the characters are likable even the well bread suspected serial killer while some may be disappointed when they realize this is not match point 2 risk addiction i thought it was proof that woody allen is still fully in control of the style many of us have grown to love this was the most I would laughed at one of woody s comedies in years dare i say a decade while I have never been impressed with scarlet johanson in this she managed to tone down her sexy image and jumped right into a average but spirited young woman this may not be the crown jewel of his career but it was wittier than devil wears prada and more interesting than superman a great comedy to go see with friends']"
            ]
          },
          "metadata": {},
          "execution_count": 49
        }
      ]
    },
    {
      "cell_type": "markdown",
      "metadata": {
        "id": "f94Uo3GNajcC"
      },
      "source": [
        "## Build a NNLM Embedding Layer"
      ]
    },
    {
      "cell_type": "code",
      "metadata": {
        "colab": {
          "base_uri": "https://localhost:8080/"
        },
        "id": "cvwlBRF9ajcD",
        "outputId": "4618e8c2-8220-42ec-ba42-b1c52beab827"
      },
      "source": [
        "model = \"https://tfhub.dev/google/tf2-preview/nnlm-en-dim128/1\"\n",
        "hub_layer = hub.KerasLayer(model, output_shape=[128], input_shape=[],\n",
        "                           dtype=tf.string, trainable=True)\n",
        "print(hub_layer(np.array(norm_test_texts)[:3]))"
      ],
      "execution_count": null,
      "outputs": [
        {
          "output_type": "stream",
          "name": "stdout",
          "text": [
            "tf.Tensor(\n",
            "[[ 1.69656050e+00  4.13149297e-02  3.74761336e-02  1.33461043e-01\n",
            "   9.40618515e-02 -7.07155988e-02  4.05320883e-01 -4.06657636e-01\n",
            "  -1.36577666e-01  1.44075245e-01  2.72954047e-01 -5.80082774e-01\n",
            "  -3.81301343e-01 -3.76442730e-01 -2.50549257e-01  2.52425313e-01\n",
            "  -1.95503235e-01  8.17240253e-02 -3.05590749e-01  8.46153736e-01\n",
            "   1.06243320e-01  9.39518586e-02 -1.55012712e-01 -1.16756044e-01\n",
            "  -1.10410303e-01 -7.49442056e-02  2.51689136e-01 -7.85680711e-02\n",
            "  -1.02299951e-01  1.44672915e-01 -9.27053094e-02  1.92560077e-01\n",
            "   2.64064342e-01  9.82361361e-02  2.86211818e-01  2.62688827e-02\n",
            "  -2.03817606e-01 -3.01025301e-01  2.66649108e-02  4.76490885e-01\n",
            "  -3.97556305e-01  3.57046798e-02 -3.41935046e-02 -1.91338360e-01\n",
            "   1.20033190e-01  1.56578094e-01  2.22025618e-01 -3.13826255e-03\n",
            "   5.55457883e-02  4.36240480e-05  1.57775968e-01  9.02760401e-02\n",
            "  -3.06066662e-01  1.30464733e-01 -3.88150394e-01 -2.14023128e-01\n",
            "  -6.98908195e-02 -1.04502827e-01  3.52966692e-03  1.87276490e-02\n",
            "  -3.35620314e-01  5.48069440e-02  1.42270699e-01 -3.07210177e-01\n",
            "  -1.18400693e-01  2.53842652e-01  7.60471821e-02 -4.99778867e-01\n",
            "   2.61714429e-01 -4.21723239e-02 -3.45522434e-01  3.52239721e-02\n",
            "   3.33466455e-02 -1.04934484e-01 -1.30402908e-01  3.62862408e-01\n",
            "   9.00853425e-02 -5.11249721e-01 -3.49314332e-01 -5.21626044e-03\n",
            "   1.73412338e-01 -4.96698096e-02 -1.47333637e-01  1.06118754e-01\n",
            "   3.64949070e-02  1.17153428e-01 -5.11490226e-01  2.92625219e-01\n",
            "   1.31726837e+00  7.50384748e-01 -1.89477831e-01  1.95902139e-01\n",
            "  -9.91854444e-02 -4.55039412e-01  1.14086881e-01  2.52802074e-01\n",
            "   8.56353343e-02 -2.63576150e-01 -2.07441509e-01 -6.28053863e-03\n",
            "   8.04798752e-02  1.19747274e-01  6.25823319e-01  7.76716843e-02\n",
            "   5.01982234e-02 -2.39050791e-01 -5.28806560e-02 -1.71065312e-02\n",
            "  -3.35266411e-01  2.39963323e-01 -8.15752327e-01  5.02084270e-02\n",
            "  -5.12198865e-01 -4.12695706e-01 -8.19901228e-02 -2.85619527e-01\n",
            "   7.54495859e-02  2.40432456e-01 -5.79777583e-02  1.08659968e-01\n",
            "   1.59916028e-01 -3.56253237e-01  1.62458628e-01  2.98413873e-01\n",
            "  -2.97566712e-01 -5.20069897e-01  1.12683050e-01 -1.18284840e-02]\n",
            " [ 2.20166802e+00  2.23017246e-01  4.16761041e-01  3.20480347e-01\n",
            "   1.67487487e-01  2.73806900e-01 -3.48705761e-02 -2.68182993e-01\n",
            "  -1.08291000e-01  2.51529336e-01  2.17241943e-01 -3.19853723e-01\n",
            "  -6.02502346e-01 -3.35205972e-01 -4.69487965e-01 -2.29407549e-01\n",
            "  -5.61971724e-01 -1.59663036e-01 -9.47194546e-02  1.60717154e+00\n",
            "  -3.07664007e-01  7.17525840e-01 -1.57873794e-01 -2.89613456e-01\n",
            "   9.49498340e-02 -6.97679222e-01  3.83148700e-01  3.59466344e-01\n",
            "  -1.47177547e-01 -2.17553303e-01  1.39173299e-01  9.47379768e-02\n",
            "   2.01595053e-01  3.53807718e-01  5.22692442e-01 -4.14911151e-01\n",
            "  -2.45652303e-01 -1.85388595e-01 -1.06290884e-01  6.72682226e-01\n",
            "  -4.42088902e-01  2.46121973e-01 -3.84699911e-01  3.12793963e-02\n",
            "   6.34492159e-01  2.45563433e-01  2.31391549e-01 -1.80778995e-01\n",
            "   1.80825472e-01  3.23353447e-02  2.55462080e-01 -2.11932763e-01\n",
            "   6.64939582e-02  3.15783083e-01 -1.38066784e-01 -5.60307577e-02\n",
            "  -3.13997418e-02 -2.77730644e-01 -2.38379940e-01 -1.25170365e-01\n",
            "  -2.75531769e-01  2.65834898e-01  2.40312442e-01 -2.32538268e-01\n",
            "   3.65437381e-02 -3.03373784e-02 -2.65617758e-01 -4.57879514e-01\n",
            "   8.17240477e-01  8.63640979e-02 -1.32563263e-01  8.87812376e-02\n",
            "   2.95970351e-01  6.94523826e-02  1.34194791e-01  1.77207217e-01\n",
            "  -2.81546980e-01 -3.77852499e-01 -2.23211735e-01  2.04762295e-01\n",
            "   3.09946418e-01  6.52804300e-02 -3.26333463e-01  1.20690539e-01\n",
            "   3.24345738e-01 -4.54585552e-01 -4.88651305e-01  1.49390936e-01\n",
            "   1.33820808e+00  8.49837005e-01 -2.90581524e-01  5.61667562e-01\n",
            "   9.90562737e-02 -9.17453468e-02  3.89666498e-01  2.35713840e-01\n",
            "   2.40828425e-01 -2.11011827e-01  2.96365976e-01 -1.89093277e-02\n",
            "  -1.49105012e-01  2.54418015e-01  3.42177987e-01  3.79286528e-01\n",
            "  -3.26778479e-02 -2.57536530e-01  5.40179908e-01 -1.03022642e-02\n",
            "  -5.23669004e-01  2.04170421e-01 -6.06476963e-01 -3.42570692e-01\n",
            "  -3.43978167e-01  4.88279480e-03  1.43916458e-02 -2.73534864e-01\n",
            "   2.02412352e-01 -1.22067425e-02  1.44448400e-01  4.05326068e-01\n",
            "   1.73663586e-01 -2.89492786e-01  7.42841437e-02 -2.35805893e-03\n",
            "  -1.62479937e-01 -3.84920269e-01  2.18584195e-01  3.53270397e-02]\n",
            " [ 1.57632542e+00  8.38322043e-02  1.44965529e-01  2.40222842e-01\n",
            "  -3.89392376e-02  1.31992444e-01  1.70573264e-01 -3.58203143e-01\n",
            "  -7.41856396e-02  5.61519153e-02 -9.61158052e-03 -3.90708834e-01\n",
            "  -1.58407465e-01 -2.52807826e-01 -2.00871035e-01 -2.47425959e-02\n",
            "  -2.69420981e-01 -7.13270903e-02 -4.77705866e-01  9.20385659e-01\n",
            "  -3.76082520e-04  8.39682482e-03 -3.83343846e-02 -4.99633849e-02\n",
            "   9.74467695e-02 -2.78780669e-01  1.23065934e-01  4.76384424e-02\n",
            "  -1.73131432e-02  1.21949250e-02  8.71480256e-02  2.72092551e-01\n",
            "   3.45410943e-01  1.34492032e-02  2.07491264e-01 -2.36663073e-01\n",
            "  -2.66799241e-01 -1.26864955e-01 -1.86197579e-01  2.61701286e-01\n",
            "  -2.32467428e-01  1.33550130e-02  2.10733589e-04 -3.36614043e-01\n",
            "   1.89632356e-01  3.73281807e-01  1.77004233e-01  3.92697332e-03\n",
            "   2.35150643e-02  5.87042384e-02  1.64151624e-01  1.63942441e-01\n",
            "   1.10906109e-01  8.41325819e-02 -1.17513880e-01 -1.11714192e-01\n",
            "  -1.06974151e-02  6.64769625e-03  9.95106250e-02  1.13826454e-01\n",
            "  -2.69434631e-01  2.76423126e-01  8.75945762e-02 -2.09924445e-01\n",
            "  -6.54894710e-02  4.68043350e-02  7.38821998e-02 -9.76764858e-02\n",
            "   1.94362327e-01  4.86367941e-02 -1.18717618e-01  2.28941426e-01\n",
            "   5.81593476e-02  3.74760032e-02  4.78924289e-02  2.98820257e-01\n",
            "  -1.28705993e-01 -2.19263602e-03 -2.37760320e-01  4.55674976e-02\n",
            "   2.55865306e-01  3.41208540e-02 -1.09719306e-01  8.06513652e-02\n",
            "  -1.36273265e-01 -6.35181963e-02 -4.09609467e-01  1.72960132e-01\n",
            "   9.00878191e-01  7.55581558e-01 -2.66938984e-01  1.68001235e-01\n",
            "  -8.96204636e-02 -1.04076177e-01  1.72951207e-01  1.64183646e-01\n",
            "   7.85775110e-02 -2.59976387e-01  1.84923727e-02  1.17566265e-01\n",
            "   5.31638525e-02 -1.12935185e-01  2.38171548e-01  1.80395916e-01\n",
            "  -1.19233049e-01 -1.74917921e-01  3.19792032e-02  1.06449351e-01\n",
            "  -2.70560354e-01  9.72612649e-02 -3.09865475e-01 -1.98418841e-01\n",
            "  -1.69204175e-01 -2.15337232e-01 -1.34766521e-02 -1.42500162e-01\n",
            "  -5.63400388e-02 -5.22869453e-02  6.98672310e-02  1.48254901e-01\n",
            "   2.91107923e-01 -3.31760347e-01  2.43190974e-01  7.99821988e-02\n",
            "  -1.14635713e-01 -5.29640496e-01  1.22298241e-01  1.72941200e-02]], shape=(3, 128), dtype=float32)\n"
          ]
        }
      ]
    },
    {
      "cell_type": "markdown",
      "metadata": {
        "id": "tH3T6A_PajcF"
      },
      "source": [
        "## Build Model Architecture"
      ]
    },
    {
      "cell_type": "code",
      "metadata": {
        "colab": {
          "base_uri": "https://localhost:8080/"
        },
        "id": "-5QlogyoajcG",
        "outputId": "535e7a36-611d-40a4-a1bc-573ca8a7899a"
      },
      "source": [
        "model = tf.keras.models.Sequential()\n",
        "\n",
        "model.add(hub_layer)\n",
        "\n",
        "model.add(tf.keras.layers.Dense(128, activation='relu'))\n",
        "model.add(tf.keras.layers.Dropout(0.25))\n",
        "model.add(tf.keras.layers.Dense(128, activation='relu'))\n",
        "model.add(tf.keras.layers.Dropout(0.25))\n",
        "\n",
        "model.add(tf.keras.layers.Dense(1, activation='sigmoid'))\n",
        "\n",
        "model.compile(loss='binary_crossentropy', optimizer='adam', metrics=['accuracy'])\n",
        "model.summary()"
      ],
      "execution_count": null,
      "outputs": [
        {
          "output_type": "stream",
          "name": "stdout",
          "text": [
            "Model: \"sequential_5\"\n",
            "_________________________________________________________________\n",
            "Layer (type)                 Output Shape              Param #   \n",
            "=================================================================\n",
            "keras_layer_2 (KerasLayer)   (None, 128)               124642688 \n",
            "_________________________________________________________________\n",
            "dense_15 (Dense)             (None, 128)               16512     \n",
            "_________________________________________________________________\n",
            "dropout_10 (Dropout)         (None, 128)               0         \n",
            "_________________________________________________________________\n",
            "dense_16 (Dense)             (None, 128)               16512     \n",
            "_________________________________________________________________\n",
            "dropout_11 (Dropout)         (None, 128)               0         \n",
            "_________________________________________________________________\n",
            "dense_17 (Dense)             (None, 1)                 129       \n",
            "=================================================================\n",
            "Total params: 124,675,841\n",
            "Trainable params: 124,675,841\n",
            "Non-trainable params: 0\n",
            "_________________________________________________________________\n"
          ]
        }
      ]
    },
    {
      "cell_type": "markdown",
      "metadata": {
        "id": "s5MprbzDajcH"
      },
      "source": [
        "## Train and Validate Model"
      ]
    },
    {
      "cell_type": "code",
      "metadata": {
        "id": "d9voQt12ajcH"
      },
      "source": [
        "EPOCHS=100\n",
        "BATCH_SIZE=128"
      ],
      "execution_count": null,
      "outputs": []
    },
    {
      "cell_type": "code",
      "metadata": {
        "colab": {
          "base_uri": "https://localhost:8080/"
        },
        "id": "6PnrvpPlajcJ",
        "outputId": "8ebf3886-d0e5-4447-da4d-41a1865cda11"
      },
      "source": [
        "# Fit the model\n",
        "es = tf.keras.callbacks.EarlyStopping(monitor='val_loss',\n",
        "                                      patience=2,\n",
        "                                      restore_best_weights=True,\n",
        "                                      verbose=1)\n",
        "\n",
        "model.fit(np.array(norm_train_texts), train_sentiments,\n",
        "          validation_data=(np.array(norm_val_texts), val_sentiments),\n",
        "          epochs=EPOCHS,\n",
        "          batch_size=BATCH_SIZE,\n",
        "          shuffle=True,\n",
        "          callbacks=[es],\n",
        "          verbose=1)"
      ],
      "execution_count": null,
      "outputs": [
        {
          "output_type": "stream",
          "name": "stdout",
          "text": [
            "Epoch 1/100\n",
            "40/40 [==============================] - 3s 53ms/step - loss: 0.5538 - accuracy: 0.7310 - val_loss: 0.3975 - val_accuracy: 0.8260\n",
            "Epoch 2/100\n",
            "40/40 [==============================] - 2s 47ms/step - loss: 0.2715 - accuracy: 0.8954 - val_loss: 0.3225 - val_accuracy: 0.8638\n",
            "Epoch 3/100\n",
            "40/40 [==============================] - 2s 48ms/step - loss: 0.1184 - accuracy: 0.9602 - val_loss: 0.3162 - val_accuracy: 0.8806\n",
            "Epoch 4/100\n",
            "40/40 [==============================] - 2s 47ms/step - loss: 0.0397 - accuracy: 0.9892 - val_loss: 0.3758 - val_accuracy: 0.8752\n",
            "Epoch 5/100\n",
            "40/40 [==============================] - 2s 47ms/step - loss: 0.0120 - accuracy: 0.9986 - val_loss: 0.4325 - val_accuracy: 0.8760\n",
            "Restoring model weights from the end of the best epoch.\n",
            "Epoch 00005: early stopping\n"
          ]
        },
        {
          "output_type": "execute_result",
          "data": {
            "text/plain": [
              "<keras.callbacks.History at 0x7f93bd62c510>"
            ]
          },
          "metadata": {},
          "execution_count": 53
        }
      ]
    },
    {
      "cell_type": "markdown",
      "metadata": {
        "id": "N68uqUGGajcK"
      },
      "source": [
        "## Model Performance Evaluation on the Test Dataset"
      ]
    },
    {
      "cell_type": "code",
      "metadata": {
        "colab": {
          "base_uri": "https://localhost:8080/",
          "height": 289
        },
        "id": "x008skIhajcK",
        "outputId": "3be438de-94eb-49ba-cf21-531b5de2d696"
      },
      "source": [
        "predictions = model.predict(np.array(norm_test_texts), batch_size=512, verbose=0).ravel()\n",
        "predictions = [1 if prob > 0.5 else 0 for prob in predictions]\n",
        "print(\"Accuracy: %.2f%%\" % (accuracy_score(test_sentiments, predictions)*100))\n",
        "print(classification_report(test_sentiments, predictions))\n",
        "pd.DataFrame(confusion_matrix(test_sentiments, predictions))"
      ],
      "execution_count": null,
      "outputs": [
        {
          "output_type": "stream",
          "name": "stdout",
          "text": [
            "Accuracy: 87.42%\n",
            "              precision    recall  f1-score   support\n",
            "\n",
            "           0       0.88      0.87      0.87     20028\n",
            "           1       0.87      0.88      0.87     19972\n",
            "\n",
            "    accuracy                           0.87     40000\n",
            "   macro avg       0.87      0.87      0.87     40000\n",
            "weighted avg       0.87      0.87      0.87     40000\n",
            "\n"
          ]
        },
        {
          "output_type": "execute_result",
          "data": {
            "text/html": [
              "<div>\n",
              "<style scoped>\n",
              "    .dataframe tbody tr th:only-of-type {\n",
              "        vertical-align: middle;\n",
              "    }\n",
              "\n",
              "    .dataframe tbody tr th {\n",
              "        vertical-align: top;\n",
              "    }\n",
              "\n",
              "    .dataframe thead th {\n",
              "        text-align: right;\n",
              "    }\n",
              "</style>\n",
              "<table border=\"1\" class=\"dataframe\">\n",
              "  <thead>\n",
              "    <tr style=\"text-align: right;\">\n",
              "      <th></th>\n",
              "      <th>0</th>\n",
              "      <th>1</th>\n",
              "    </tr>\n",
              "  </thead>\n",
              "  <tbody>\n",
              "    <tr>\n",
              "      <th>0</th>\n",
              "      <td>17442</td>\n",
              "      <td>2586</td>\n",
              "    </tr>\n",
              "    <tr>\n",
              "      <th>1</th>\n",
              "      <td>2446</td>\n",
              "      <td>17526</td>\n",
              "    </tr>\n",
              "  </tbody>\n",
              "</table>\n",
              "</div>"
            ],
            "text/plain": [
              "       0      1\n",
              "0  17442   2586\n",
              "1   2446  17526"
            ]
          },
          "metadata": {},
          "execution_count": 54
        }
      ]
    },
    {
      "cell_type": "markdown",
      "metadata": {
        "id": "cBP41pQ2ajbo"
      },
      "source": [
        "# Model 3: Google's Universal Sentence Encoder\n",
        "\n",
        "These models take as input English strings and\n",
        "produce as output a fixed dimensional embedding\n",
        "representation of the string.\n",
        "\n",
        "It has two models for encoding\n",
        "sentences into embedding vectors.\n",
        "- One makes use\n",
        "of the transformer (Vaswani et al., 2017) architecture\n",
        "- The other is formulated as a deep averaging network (DAN) (Iyyer et al., 2015)\n",
        "\n",
        "__Methodology 1: Transformers__\n",
        "\n",
        "- The transformer based sentence encoding model\n",
        "constructs sentence embeddings using the encoding sub-graph of the transformer architecture\n",
        "(Vaswani et al., 2017).\n",
        "- This sub-graph uses attention to compute context aware representations\n",
        "of words in a sentence that take into account both\n",
        "the ordering and identity of all the other words.\n",
        "- The context aware word representations are converted to a fixed length sentence encoding vector\n",
        "by computing the element-wise sum of the representations at each word position\n",
        "- The encoder takes as input a lowercased (Penn TreeBank) PTB tokenized string\n",
        "and outputs a 512 dimensional vector as the sentence embedding\n",
        "\n",
        "\n",
        "__Methodology 2: Deep Averaging Network (DAN)__\n",
        "\n",
        "- In the deep averaging network (DAN) (Iyyer et al.,\n",
        "2015) the input embeddings for words and\n",
        "bi-grams are first averaged together and then\n",
        "passed through a feedforward deep neural network\n",
        "(DNN) to produce sentence embeddings.\n",
        "- Similar to the Transformer encoder, the DAN encoder takes as input a lowercased PTB tokenized string and outputs a 512 dimensional sentence embedding.\n",
        "\n",
        "__Training Methodology:__\n",
        "\n",
        "The encoding model is designed to be as general purpose as possible. This is accomplished by using multi-task learning whereby a single encoding model is used to feed multiple downstream tasks.\n",
        "\n",
        "Unsupervised training data for the sentence encoding models are drawn from a variety of web sources. The sources are Wikipedia, web news,\n",
        "web question-answer pages and discussion forums. We augment unsupervised learning with training on supervised data from the Stanford Natural Language Inference (SNLI) corpus.\n",
        "\n",
        "\n",
        "![](https://i.imgur.com/HIeb3tY.png)\n",
        "\n",
        "__Note:__ In the past Google hadn't updated the USE to be directly compatible with TensorFlow 2.0 hence we had to use some hacks to disable eager execution and leverage older TF 1.x for model building and training. But recently we were able to get our hands on a TF 2.x pre-trained model!"
      ]
    },
    {
      "cell_type": "markdown",
      "metadata": {
        "id": "wXm5JTkQajbo"
      },
      "source": [
        "## Sample training data"
      ]
    },
    {
      "cell_type": "code",
      "metadata": {
        "colab": {
          "base_uri": "https://localhost:8080/"
        },
        "id": "DJKQBegXajbo",
        "outputId": "c2ece9d7-4607-4306-a466-698305b3b446"
      },
      "source": [
        "norm_train_texts[:3]"
      ],
      "execution_count": null,
      "outputs": [
        {
          "output_type": "execute_result",
          "data": {
            "text/plain": [
              "['one of the other reviewers has mentioned that after watching just 1 oz episode you will be hooked they are right as this is exactly what happened with me the first thing that struck me about oz was its brutality and unflinching scenes of violence which set in right from the word go trust me this is not a show for the faint hearted or timid this show pulls no punches with regards to drugs sex or violence its is hardcore in the classic use of the word it is called oz as that is the nickname given to the oswald maximum security state penitentary it focuses mainly on emerald city an experimental section of the prison where all the cells have glass fronts and face inwards so privacy is not high on the agenda them city is home to many aryans muslims gangstas latinos christians italians irish and more so scuffles death stares dodgy dealings and shady agreements are never far away i would say the main appeal of the show is due to the fact that it goes where other shows would not dare forget pretty pictures painted for mainstream audiences forget charm forget romance oz does not mess around the first episode i ever saw struck me as so nasty it was surreal i could not say i was ready for it but as i watched more i developed a taste for oz and got accustomed to the high levels of graphic violence not just violence but injustice crooked guards who will be sold out for a nickel inmates who will kill on order and get away with it well mannered middle class inmates being turned into prison bitches due to their lack of street skills or prison experience watching oz you may become comfortable with what is uncomfortable viewing that is if you can get in touch with your darker side',\n",
              " 'a wonderful little production the filming technique is very unassuming very old time bbc fashion and gives a comforting and sometimes discomforting sense of realism to the entire piece the actors are extremely well chosen michael sheen not only has got all the polari but he has all the voices down pat too you can truly see the seamless editing guided by the references to williams diary entries not only is it well worth the watching but it is a terrificly written and performed piece a masterful production about one of the great master s of comedy and his life the realism really comes home with the little things the fantasy of the guard which rather than use the traditional dream techniques remains solid then disappears it plays on our knowledge and our senses particularly with the scenes concerning orton and halliwell and the sets particularly of their flat with halliwell s murals decorating every surface are terribly well done',\n",
              " 'i thought this was a wonderful way to spend time on a too hot summer weekend sitting in the air conditioned theater and watching a light hearted comedy the plot is simplistic but the dialogue is witty and the characters are likable even the well bread suspected serial killer while some may be disappointed when they realize this is not match point 2 risk addiction i thought it was proof that woody allen is still fully in control of the style many of us have grown to love this was the most I would laughed at one of woody s comedies in years dare i say a decade while I have never been impressed with scarlet johanson in this she managed to tone down her sexy image and jumped right into a average but spirited young woman this may not be the crown jewel of his career but it was wittier than devil wears prada and more interesting than superman a great comedy to go see with friends']"
            ]
          },
          "metadata": {},
          "execution_count": 56
        }
      ]
    },
    {
      "cell_type": "markdown",
      "metadata": {
        "id": "_Y6ItBtQajbs"
      },
      "source": [
        "## Load USE model from TF Hub"
      ]
    },
    {
      "cell_type": "code",
      "metadata": {
        "colab": {
          "base_uri": "https://localhost:8080/"
        },
        "id": "AxXAmepYajbt",
        "outputId": "ab2c5285-697d-498f-c1d9-8e0f4541b8a9"
      },
      "source": [
        "module_url = \"https://tfhub.dev/google/universal-sentence-encoder/4\"\n",
        "embed = hub.load(module_url)"
      ],
      "execution_count": null,
      "outputs": [
        {
          "output_type": "stream",
          "name": "stderr",
          "text": [
            "INFO:absl:Downloading TF-Hub Module 'https://tfhub.dev/google/universal-sentence-encoder/4'.\n",
            "INFO:absl:Downloaded https://tfhub.dev/google/universal-sentence-encoder/4, Total size: 987.47MB\n",
            "INFO:absl:Downloaded TF-Hub Module 'https://tfhub.dev/google/universal-sentence-encoder/4'.\n"
          ]
        }
      ]
    },
    {
      "cell_type": "markdown",
      "metadata": {
        "id": "oHfdBVuKajbu"
      },
      "source": [
        "## Sample vectorization of training reviews"
      ]
    },
    {
      "cell_type": "code",
      "metadata": {
        "colab": {
          "base_uri": "https://localhost:8080/"
        },
        "id": "HgaJvpGkajbv",
        "outputId": "a09a6d64-7ca9-4295-db4b-35795e501c51"
      },
      "source": [
        "message_embeddings = embed(norm_train_texts[:3])\n",
        "\n",
        "message_embeddings, message_embeddings.shape"
      ],
      "execution_count": null,
      "outputs": [
        {
          "output_type": "execute_result",
          "data": {
            "text/plain": [
              "(<tf.Tensor: shape=(3, 512), dtype=float32, numpy=\n",
              " array([[ 0.01316301, -0.01312979, -0.02159521, ...,  0.01982813,\n",
              "          0.07093518, -0.04162683],\n",
              "        [-0.04146503,  0.03513402,  0.04761512, ...,  0.02133365,\n",
              "          0.07851671,  0.04270649],\n",
              "        [ 0.02467908, -0.05024218,  0.05188712, ...,  0.00187196,\n",
              "          0.08200798,  0.05192976]], dtype=float32)>, TensorShape([3, 512]))"
            ]
          },
          "metadata": {},
          "execution_count": 58
        }
      ]
    },
    {
      "cell_type": "markdown",
      "metadata": {
        "id": "7D93uotFajbx"
      },
      "source": [
        "## Build a USE Embedding Layer"
      ]
    },
    {
      "cell_type": "code",
      "metadata": {
        "colab": {
          "base_uri": "https://localhost:8080/"
        },
        "id": "W1OT_A00jTHy",
        "outputId": "8a959f7f-9a24-4afa-9a40-4dd4d4fde2af"
      },
      "source": [
        "model = \"https://tfhub.dev/google/universal-sentence-encoder/4\"\n",
        "hub_layer = hub.KerasLayer(model, output_shape=[512], input_shape=[],\n",
        "                           dtype=tf.string, trainable=True)\n",
        "print(hub_layer(np.array(norm_train_texts)[:3]))"
      ],
      "execution_count": null,
      "outputs": [
        {
          "output_type": "stream",
          "name": "stdout",
          "text": [
            "tf.Tensor(\n",
            "[[ 0.01316305 -0.0131298  -0.02159519 ...  0.01982807  0.07093518\n",
            "  -0.04162682]\n",
            " [-0.04146504  0.03513397  0.04761513 ...  0.02133364  0.07851671\n",
            "   0.04270652]\n",
            " [ 0.02467909 -0.05024216  0.05188708 ...  0.00187198  0.08200798\n",
            "   0.05192977]], shape=(3, 512), dtype=float32)\n"
          ]
        }
      ]
    },
    {
      "cell_type": "markdown",
      "metadata": {
        "id": "rYjvFE7dajb0"
      },
      "source": [
        "## Build Model Architecture"
      ]
    },
    {
      "cell_type": "code",
      "metadata": {
        "colab": {
          "base_uri": "https://localhost:8080/"
        },
        "id": "f3nWJfhdjp8w",
        "outputId": "99f933a4-512d-4522-ff04-5bd86f892086"
      },
      "source": [
        "model = tf.keras.models.Sequential()\n",
        "\n",
        "model.add(hub_layer)\n",
        "\n",
        "model.add(tf.keras.layers.Dense(256, activation='relu'))\n",
        "model.add(tf.keras.layers.Dropout(0.25))\n",
        "model.add(tf.keras.layers.Dense(256, activation='relu'))\n",
        "model.add(tf.keras.layers.Dropout(0.25))\n",
        "\n",
        "model.add(tf.keras.layers.Dense(1, activation='sigmoid'))\n",
        "\n",
        "model.compile(loss='binary_crossentropy', optimizer='adam', metrics=['accuracy'])\n",
        "model.summary()"
      ],
      "execution_count": null,
      "outputs": [
        {
          "output_type": "stream",
          "name": "stdout",
          "text": [
            "Model: \"sequential_6\"\n",
            "_________________________________________________________________\n",
            "Layer (type)                 Output Shape              Param #   \n",
            "=================================================================\n",
            "keras_layer_4 (KerasLayer)   (None, 512)               256797824 \n",
            "_________________________________________________________________\n",
            "dense_18 (Dense)             (None, 256)               131328    \n",
            "_________________________________________________________________\n",
            "dropout_12 (Dropout)         (None, 256)               0         \n",
            "_________________________________________________________________\n",
            "dense_19 (Dense)             (None, 256)               65792     \n",
            "_________________________________________________________________\n",
            "dropout_13 (Dropout)         (None, 256)               0         \n",
            "_________________________________________________________________\n",
            "dense_20 (Dense)             (None, 1)                 257       \n",
            "=================================================================\n",
            "Total params: 256,995,201\n",
            "Trainable params: 256,995,201\n",
            "Non-trainable params: 0\n",
            "_________________________________________________________________\n"
          ]
        }
      ]
    },
    {
      "cell_type": "markdown",
      "metadata": {
        "id": "IjYqKLkMajb2"
      },
      "source": [
        "## Train and Validate Model"
      ]
    },
    {
      "cell_type": "code",
      "metadata": {
        "id": "PsJAPVHsajb3"
      },
      "source": [
        "EPOCHS=100\n",
        "BATCH_SIZE=128"
      ],
      "execution_count": null,
      "outputs": []
    },
    {
      "cell_type": "code",
      "metadata": {
        "colab": {
          "base_uri": "https://localhost:8080/"
        },
        "id": "DPGdUWzFj5al",
        "outputId": "169e6586-f34b-4a0c-da48-c44f0893cb77"
      },
      "source": [
        "# Fit the model\n",
        "es = tf.keras.callbacks.EarlyStopping(monitor='val_loss',\n",
        "                                      patience=2,\n",
        "                                      restore_best_weights=True,\n",
        "                                      verbose=1)\n",
        "\n",
        "model.fit(np.array(norm_train_texts), train_sentiments,\n",
        "          validation_data=(np.array(norm_val_texts), val_sentiments),\n",
        "          epochs=EPOCHS,\n",
        "          batch_size=BATCH_SIZE,\n",
        "          shuffle=True,\n",
        "          callbacks=[es],\n",
        "          verbose=1)"
      ],
      "execution_count": null,
      "outputs": [
        {
          "output_type": "stream",
          "name": "stdout",
          "text": [
            "Epoch 1/100\n",
            "40/40 [==============================] - 22s 380ms/step - loss: 0.4860 - accuracy: 0.7722 - val_loss: 0.3348 - val_accuracy: 0.8532\n",
            "Epoch 2/100\n",
            "40/40 [==============================] - 15s 367ms/step - loss: 0.1564 - accuracy: 0.9458 - val_loss: 0.2946 - val_accuracy: 0.8870\n",
            "Epoch 3/100\n",
            "40/40 [==============================] - 14s 351ms/step - loss: 0.0200 - accuracy: 0.9964 - val_loss: 0.4290 - val_accuracy: 0.8716\n",
            "Epoch 4/100\n",
            "40/40 [==============================] - 14s 359ms/step - loss: 0.0011 - accuracy: 1.0000 - val_loss: 0.4306 - val_accuracy: 0.8798\n",
            "Restoring model weights from the end of the best epoch.\n",
            "Epoch 00004: early stopping\n"
          ]
        },
        {
          "output_type": "execute_result",
          "data": {
            "text/plain": [
              "<keras.callbacks.History at 0x7f93b3b533d0>"
            ]
          },
          "metadata": {},
          "execution_count": 63
        }
      ]
    },
    {
      "cell_type": "markdown",
      "metadata": {
        "id": "RmPBH7Tfajb8"
      },
      "source": [
        "## Model Performance Evaluation on the Test Dataset"
      ]
    },
    {
      "cell_type": "code",
      "metadata": {
        "colab": {
          "base_uri": "https://localhost:8080/",
          "height": 289
        },
        "id": "febzhocgknWs",
        "outputId": "11e24159-6e00-4aa3-807e-3636362eff3e"
      },
      "source": [
        "predictions = model.predict(np.array(norm_test_texts), batch_size=512, verbose=0).ravel()\n",
        "predictions = [1 if prob > 0.5 else 0 for prob in predictions]\n",
        "print(\"Accuracy: %.2f%%\" % (accuracy_score(test_sentiments, predictions)*100))\n",
        "print(classification_report(test_sentiments, predictions))\n",
        "pd.DataFrame(confusion_matrix(test_sentiments, predictions))"
      ],
      "execution_count": null,
      "outputs": [
        {
          "output_type": "stream",
          "name": "stdout",
          "text": [
            "Accuracy: 87.81%\n",
            "              precision    recall  f1-score   support\n",
            "\n",
            "           0       0.88      0.88      0.88     20028\n",
            "           1       0.88      0.87      0.88     19972\n",
            "\n",
            "    accuracy                           0.88     40000\n",
            "   macro avg       0.88      0.88      0.88     40000\n",
            "weighted avg       0.88      0.88      0.88     40000\n",
            "\n"
          ]
        },
        {
          "output_type": "execute_result",
          "data": {
            "text/html": [
              "<div>\n",
              "<style scoped>\n",
              "    .dataframe tbody tr th:only-of-type {\n",
              "        vertical-align: middle;\n",
              "    }\n",
              "\n",
              "    .dataframe tbody tr th {\n",
              "        vertical-align: top;\n",
              "    }\n",
              "\n",
              "    .dataframe thead th {\n",
              "        text-align: right;\n",
              "    }\n",
              "</style>\n",
              "<table border=\"1\" class=\"dataframe\">\n",
              "  <thead>\n",
              "    <tr style=\"text-align: right;\">\n",
              "      <th></th>\n",
              "      <th>0</th>\n",
              "      <th>1</th>\n",
              "    </tr>\n",
              "  </thead>\n",
              "  <tbody>\n",
              "    <tr>\n",
              "      <th>0</th>\n",
              "      <td>17650</td>\n",
              "      <td>2378</td>\n",
              "    </tr>\n",
              "    <tr>\n",
              "      <th>1</th>\n",
              "      <td>2498</td>\n",
              "      <td>17474</td>\n",
              "    </tr>\n",
              "  </tbody>\n",
              "</table>\n",
              "</div>"
            ],
            "text/plain": [
              "       0      1\n",
              "0  17650   2378\n",
              "1   2498  17474"
            ]
          },
          "metadata": {},
          "execution_count": 64
        }
      ]
    },
    {
      "cell_type": "markdown",
      "metadata": {
        "id": "O-YydwrQajcM"
      },
      "source": [
        "# Model 4: BERT (Bi-directional Encoder Representations from Transformers)\n",
        "\n",
        "![](https://i.imgur.com/RMuSvTL.png)\n",
        "\n",
        "We will be using the BERT base model which has already been pre-trained by Google on MLM + Next Sentence Prediction Tasks"
      ]
    },
    {
      "cell_type": "markdown",
      "metadata": {
        "id": "0OIAAHBPajcM"
      },
      "source": [
        "## BERT Tokenization\n",
        "\n",
        "The BERT model we're using expects lowercase data. Here we leverage Huggingface `transformers`' `BertTokenizer`, which breaks words into word pieces.\n",
        "\n",
        "Word Piece Tokenizer is based on [Byte Pair Encodings (BPE)](https://www.aclweb.org/anthology/P16-1162).\n",
        "\n",
        "WordPiece and BPE are two similar and commonly used techniques to segment words into subword-level in NLP tasks. In both cases, the vocabulary is initialized with all the individual characters in the language, and then the most frequent/likely combinations of the symbols in the vocabulary are iteratively added to the vocabulary.\n",
        "\n",
        "magine that the model sees the word walking. Unless this word occurs at least a few times in the training corpus, the model can't learn to deal with this word very well. However, it may have the words walked, walker, walks, each occurring only a few times. Without subword segmentation, all these words are treated as completely different words by the model.\n",
        "\n",
        "However, if these get segmented as walk@@ ing, walk@@ ed, etc., notice that all of them will now have walk@@ in common, which will occur much frequently while training, and the model might be able to learn more about it.\n",
        "\n",
        "Huggingface's transformers library has easy to use utilities for each type of model"
      ]
    },
    {
      "cell_type": "code",
      "metadata": {
        "id": "E1BtlCzfajcM"
      },
      "source": [
        "tokenizer = transformers.BertTokenizer.from_pretrained('bert-base-uncased')"
      ],
      "execution_count": null,
      "outputs": []
    },
    {
      "cell_type": "markdown",
      "metadata": {
        "id": "0EKS_rEpajcN"
      },
      "source": [
        "## BERT Data Preparation\n",
        "\n",
        "We need to preprocess our data so that it matches the data format BERT was trained on. For this, we'll need to do a couple of things.\n",
        "\n",
        "- Lowercase our text (if we're using a BERT lowercase model)\n",
        "- Tokenize it (i.e. \"sally says hi\" -> [\"sally\", \"says\", \"hi\"])\n",
        "- Break words into WordPieces (i.e. \"calling\" -> [\"call\", \"##ing\"])\n",
        "- Map our words to indexes using a vocab file that BERT provides\n",
        "- Add special \"CLS\" and \"SEP\" tokens (see the readme)\n",
        "- Append \"mask\" and \"segment\" tokens to each input (see the BERT paper)"
      ]
    },
    {
      "cell_type": "code",
      "metadata": {
        "id": "MAEd7xjIajcO"
      },
      "source": [
        "def create_bert_input_features(tokenizer, docs, max_seq_length):\n",
        "\n",
        "    all_ids, all_masks, all_segments= [], [], []\n",
        "    for doc in tqdm.tqdm(docs, desc=\"Converting docs to features\"):\n",
        "\n",
        "        tokens = tokenizer.tokenize(doc)\n",
        "\n",
        "        if len(tokens) > max_seq_length-2:\n",
        "            tokens = tokens[0 : (max_seq_length-2)]\n",
        "        tokens = ['[CLS]'] + tokens + ['[SEP]']\n",
        "        ids = tokenizer.convert_tokens_to_ids(tokens)\n",
        "        masks = [1] * len(ids) # [1,1,1.....] # < 500 ones\n",
        "\n",
        "        # Zero-pad up to the sequence length.\n",
        "        while len(ids) < max_seq_length:\n",
        "            ids.append(0)\n",
        "            masks.append(0)\n",
        "\n",
        "        segments = [0] * max_seq_length # [0,0,0...] # 500 zeros\n",
        "        all_ids.append(ids)\n",
        "        all_masks.append(masks)\n",
        "        all_segments.append(segments)\n",
        "\n",
        "    encoded = np.array([all_ids, all_masks, all_segments])\n",
        "\n",
        "    return encoded"
      ],
      "execution_count": null,
      "outputs": []
    },
    {
      "cell_type": "markdown",
      "metadata": {
        "id": "Yu7rZzcD01G9"
      },
      "source": [
        "```\n",
        "'the movie was great'\n",
        "\n",
        "[CLS], the, movie, was, great, [SEP]\n",
        "\n",
        "\n",
        "\n",
        "len = 500\n",
        "token_ids = [101, 32, 111, 10, 21, 102, 0, 0, 0, ...., 0]  \n",
        "mask_ids = [1, 1, 1, 1, 1, 1, 0, 0, 0, 0, 0,....,0]\n",
        "segment_ids = [0, 0, 0, ....., 0]\n",
        "```"
      ]
    },
    {
      "cell_type": "markdown",
      "metadata": {
        "id": "tkqG8EQLajcQ"
      },
      "source": [
        "## Build Model Architecture\n",
        "\n",
        "![](https://i.imgur.com/ZtxlKiQ.png)"
      ]
    },
    {
      "cell_type": "code",
      "metadata": {
        "colab": {
          "base_uri": "https://localhost:8080/"
        },
        "id": "WTEpLgzjajcQ",
        "outputId": "4d36dd60-cc5d-4c04-f107-eb8da8694a92"
      },
      "source": [
        "MAX_SEQ_LENGTH = 500\n",
        "\n",
        "inp_id = tf.keras.layers.Input(shape=(MAX_SEQ_LENGTH,), dtype='int32', name=\"bert_input_ids\")\n",
        "inp_mask = tf.keras.layers.Input(shape=(MAX_SEQ_LENGTH,), dtype='int32', name=\"bert_input_masks\")\n",
        "inp_segment = tf.keras.layers.Input(shape=(MAX_SEQ_LENGTH,), dtype='int32', name=\"bert_segment_ids\")\n",
        "inputs = [inp_id, inp_mask, inp_segment]\n",
        "\n",
        "hidden_state = transformers.TFBertModel.from_pretrained('bert-base-uncased')(inputs)\n",
        "pooled_output = hidden_state[1]\n",
        "\n",
        "dense1 = tf.keras.layers.Dense(256, activation='relu')(pooled_output)\n",
        "drop1 = tf.keras.layers.Dropout(0.25)(dense1)\n",
        "dense2 = tf.keras.layers.Dense(256, activation='relu')(drop1)\n",
        "drop2 = tf.keras.layers.Dropout(0.25)(dense2)\n",
        "\n",
        "output = tf.keras.layers.Dense(1, activation='sigmoid')(drop2)\n",
        "\n",
        "model = tf.keras.Model(inputs=inputs, outputs=output)\n",
        "\n",
        "model.compile(optimizer=tf.optimizers.Adam(learning_rate=2e-5,\n",
        "                                           epsilon=1e-08),\n",
        "              loss='binary_crossentropy', metrics=['accuracy'])\n",
        "\n",
        "model.summary()"
      ],
      "execution_count": null,
      "outputs": [
        {
          "output_type": "stream",
          "name": "stderr",
          "text": [
            "Some layers from the model checkpoint at bert-base-uncased were not used when initializing TFBertModel: ['mlm___cls', 'nsp___cls']\n",
            "- This IS expected if you are initializing TFBertModel from the checkpoint of a model trained on another task or with another architecture (e.g. initializing a BertForSequenceClassification model from a BertForPreTraining model).\n",
            "- This IS NOT expected if you are initializing TFBertModel from the checkpoint of a model that you expect to be exactly identical (initializing a BertForSequenceClassification model from a BertForSequenceClassification model).\n",
            "All the layers of TFBertModel were initialized from the model checkpoint at bert-base-uncased.\n",
            "If your task is similar to the task the model of the checkpoint was trained on, you can already use TFBertModel for predictions without further training.\n"
          ]
        },
        {
          "output_type": "stream",
          "name": "stdout",
          "text": [
            "Model: \"model\"\n",
            "__________________________________________________________________________________________________\n",
            "Layer (type)                    Output Shape         Param #     Connected to                     \n",
            "==================================================================================================\n",
            "bert_input_ids (InputLayer)     [(None, 500)]        0                                            \n",
            "__________________________________________________________________________________________________\n",
            "bert_input_masks (InputLayer)   [(None, 500)]        0                                            \n",
            "__________________________________________________________________________________________________\n",
            "bert_segment_ids (InputLayer)   [(None, 500)]        0                                            \n",
            "__________________________________________________________________________________________________\n",
            "tf_bert_model (TFBertModel)     TFBaseModelOutputWit 109482240   bert_input_ids[0][0]             \n",
            "                                                                 bert_input_masks[0][0]           \n",
            "                                                                 bert_segment_ids[0][0]           \n",
            "__________________________________________________________________________________________________\n",
            "dense (Dense)                   (None, 256)          196864      tf_bert_model[0][1]              \n",
            "__________________________________________________________________________________________________\n",
            "dropout_37 (Dropout)            (None, 256)          0           dense[0][0]                      \n",
            "__________________________________________________________________________________________________\n",
            "dense_1 (Dense)                 (None, 256)          65792       dropout_37[0][0]                 \n",
            "__________________________________________________________________________________________________\n",
            "dropout_38 (Dropout)            (None, 256)          0           dense_1[0][0]                    \n",
            "__________________________________________________________________________________________________\n",
            "dense_2 (Dense)                 (None, 1)            257         dropout_38[0][0]                 \n",
            "==================================================================================================\n",
            "Total params: 109,745,153\n",
            "Trainable params: 109,745,153\n",
            "Non-trainable params: 0\n",
            "__________________________________________________________________________________________________\n"
          ]
        }
      ]
    },
    {
      "cell_type": "markdown",
      "metadata": {
        "id": "zRTMV4jMajcR"
      },
      "source": [
        "## Convert text to BERT input features\n",
        "\n",
        "![](https://i.imgur.com/3Le7Kyk.png)\n",
        "\n",
        "We leverage our utility function we created earlier to convert our text reviews into BERT input features."
      ]
    },
    {
      "cell_type": "code",
      "metadata": {
        "colab": {
          "base_uri": "https://localhost:8080/"
        },
        "id": "NC_9wq2fajcS",
        "outputId": "04f5f0ef-df65-4734-ad46-ce5ae58b99cc"
      },
      "source": [
        "train_features_ids, train_features_masks, train_features_segments = create_bert_input_features(tokenizer,\n",
        "                                                                                               train_reviews,\n",
        "                                                                                               max_seq_length=MAX_SEQ_LENGTH)\n",
        "\n",
        "val_features_ids, val_features_masks, val_features_segments = create_bert_input_features(tokenizer,\n",
        "                                                                                         val_reviews,\n",
        "                                                                                         max_seq_length=MAX_SEQ_LENGTH)\n",
        "#test_features = create_bert_input_features(tokenizer, test_reviews, max_seq_length=MAX_SEQ_LENGTH)\n",
        "print('Train Features:', train_features_ids.shape, train_features_masks.shape, train_features_segments.shape)\n",
        "print('Val Features:', val_features_ids.shape, val_features_masks.shape, val_features_segments.shape)"
      ],
      "execution_count": null,
      "outputs": [
        {
          "output_type": "stream",
          "name": "stderr",
          "text": [
            "Converting docs to features: 100%|██████████| 5000/5000 [00:34<00:00, 144.46it/s]\n",
            "Converting docs to features: 100%|██████████| 5000/5000 [00:34<00:00, 146.63it/s]\n"
          ]
        },
        {
          "output_type": "stream",
          "name": "stdout",
          "text": [
            "Train Features: (5000, 500) (5000, 500) (5000, 500)\n",
            "Val Features: (5000, 500) (5000, 500) (5000, 500)\n"
          ]
        }
      ]
    },
    {
      "cell_type": "markdown",
      "metadata": {
        "id": "_AxRNcQ5ajcT"
      },
      "source": [
        "## Train and Validate Model"
      ]
    },
    {
      "cell_type": "code",
      "metadata": {
        "colab": {
          "base_uri": "https://localhost:8080/"
        },
        "id": "Ys_e6K0-ajcU",
        "outputId": "0899ee3e-bb4b-4279-ed82-53b2412a4cee"
      },
      "source": [
        "es = tf.keras.callbacks.EarlyStopping(monitor='val_loss',\n",
        "                                      patience=1,\n",
        "                                      restore_best_weights=True,\n",
        "                                      verbose=1)\n",
        "model.fit([train_features_ids,\n",
        "           train_features_masks,\n",
        "           train_features_segments], train_sentiments,\n",
        "          validation_data=([val_features_ids,\n",
        "                            val_features_masks,\n",
        "                            val_features_segments], val_sentiments),\n",
        "          epochs=3,\n",
        "          batch_size=13,\n",
        "          callbacks=[es],\n",
        "          shuffle=True,\n",
        "          verbose=1)"
      ],
      "execution_count": null,
      "outputs": [
        {
          "output_type": "stream",
          "name": "stdout",
          "text": [
            "Epoch 1/3\n",
            "385/385 [==============================] - 472s 1s/step - loss: 0.3384 - accuracy: 0.8488 - val_loss: 0.2333 - val_accuracy: 0.9120\n",
            "Epoch 2/3\n",
            "385/385 [==============================] - 449s 1s/step - loss: 0.1491 - accuracy: 0.9498 - val_loss: 0.2174 - val_accuracy: 0.9168\n",
            "Epoch 3/3\n",
            "385/385 [==============================] - 449s 1s/step - loss: 0.0792 - accuracy: 0.9764 - val_loss: 0.3141 - val_accuracy: 0.9050\n",
            "Restoring model weights from the end of the best epoch.\n",
            "Epoch 00003: early stopping\n"
          ]
        },
        {
          "output_type": "execute_result",
          "data": {
            "text/plain": [
              "<keras.callbacks.History at 0x7f856a7661d0>"
            ]
          },
          "metadata": {},
          "execution_count": 13
        }
      ]
    },
    {
      "cell_type": "code",
      "metadata": {
        "id": "cEGY4ZjLajcV"
      },
      "source": [
        "model.save_weights('bert_ft_wts.h5')"
      ],
      "execution_count": null,
      "outputs": []
    },
    {
      "cell_type": "markdown",
      "metadata": {
        "id": "vZ65kkWBajcW"
      },
      "source": [
        "## Convert Test reviews to BERT input features"
      ]
    },
    {
      "cell_type": "code",
      "metadata": {
        "colab": {
          "base_uri": "https://localhost:8080/"
        },
        "id": "Lc2NFuOkajcW",
        "outputId": "e9b49e20-ddb0-46ba-f24d-034c08d97aef"
      },
      "source": [
        "test_features_ids, test_features_masks, test_features_segments = create_bert_input_features(tokenizer,\n",
        "                                                                                            test_reviews,\n",
        "                                                                                            max_seq_length=MAX_SEQ_LENGTH)\n",
        "print('Test Features:', test_features_ids.shape, test_features_masks.shape, test_features_segments.shape)"
      ],
      "execution_count": null,
      "outputs": [
        {
          "output_type": "stream",
          "name": "stderr",
          "text": [
            "Converting docs to features: 100%|██████████| 40000/40000 [04:29<00:00, 148.16it/s]\n"
          ]
        },
        {
          "output_type": "stream",
          "name": "stdout",
          "text": [
            "Test Features: (40000, 500) (40000, 500) (40000, 500)\n"
          ]
        }
      ]
    },
    {
      "cell_type": "markdown",
      "metadata": {
        "id": "Nb_lPfpSajcY"
      },
      "source": [
        "## Model Performance Evaluation on the Test Dataset"
      ]
    },
    {
      "cell_type": "code",
      "metadata": {
        "colab": {
          "base_uri": "https://localhost:8080/",
          "height": 289
        },
        "id": "uSuV86S0ajcY",
        "outputId": "7247dfa5-de90-4f9d-96e7-5c365f86cbad"
      },
      "source": [
        "predictions = [1 if pr > 0.5 else 0\n",
        "                   for pr in model.predict([test_features_ids,\n",
        "                                            test_features_masks,\n",
        "                                            test_features_segments], verbose=0).ravel()]\n",
        "\n",
        "print(\"Accuracy: %.2f%%\" % (accuracy_score(test_sentiments, predictions)*100))\n",
        "print(classification_report(test_sentiments, predictions))\n",
        "pd.DataFrame(confusion_matrix(test_sentiments, predictions))"
      ],
      "execution_count": null,
      "outputs": [
        {
          "output_type": "stream",
          "name": "stdout",
          "text": [
            "Accuracy: 91.97%\n",
            "              precision    recall  f1-score   support\n",
            "\n",
            "           0       0.92      0.92      0.92     20028\n",
            "           1       0.92      0.92      0.92     19972\n",
            "\n",
            "    accuracy                           0.92     40000\n",
            "   macro avg       0.92      0.92      0.92     40000\n",
            "weighted avg       0.92      0.92      0.92     40000\n",
            "\n"
          ]
        },
        {
          "output_type": "execute_result",
          "data": {
            "text/html": [
              "<div>\n",
              "<style scoped>\n",
              "    .dataframe tbody tr th:only-of-type {\n",
              "        vertical-align: middle;\n",
              "    }\n",
              "\n",
              "    .dataframe tbody tr th {\n",
              "        vertical-align: top;\n",
              "    }\n",
              "\n",
              "    .dataframe thead th {\n",
              "        text-align: right;\n",
              "    }\n",
              "</style>\n",
              "<table border=\"1\" class=\"dataframe\">\n",
              "  <thead>\n",
              "    <tr style=\"text-align: right;\">\n",
              "      <th></th>\n",
              "      <th>0</th>\n",
              "      <th>1</th>\n",
              "    </tr>\n",
              "  </thead>\n",
              "  <tbody>\n",
              "    <tr>\n",
              "      <th>0</th>\n",
              "      <td>18338</td>\n",
              "      <td>1690</td>\n",
              "    </tr>\n",
              "    <tr>\n",
              "      <th>1</th>\n",
              "      <td>1523</td>\n",
              "      <td>18449</td>\n",
              "    </tr>\n",
              "  </tbody>\n",
              "</table>\n",
              "</div>"
            ],
            "text/plain": [
              "       0      1\n",
              "0  18338   1690\n",
              "1   1523  18449"
            ]
          },
          "metadata": {},
          "execution_count": 16
        }
      ]
    },
    {
      "cell_type": "markdown",
      "metadata": {
        "id": "AD9ANmhoajcZ"
      },
      "source": [
        "# Model 5: DistilBERT (Distilled BERT)\n",
        "\n",
        "![](https://i.imgur.com/FzCb8yM.png)\n",
        "\n",
        "![](https://i.imgur.com/X9Rvjrn.png)"
      ]
    },
    {
      "cell_type": "markdown",
      "metadata": {
        "id": "CgsGB-UWajcZ"
      },
      "source": [
        "## BERT Tokenization\n",
        "\n",
        "The DistilBERT model we're using expects lowercase data. Here we leverage Huggingface `transformers`' `DistilBertTokenizer`, which breaks words into word pieces.\n",
        "\n",
        "Word Piece Tokenizer is based on [Byte Pair Encodings (BPE)](https://www.aclweb.org/anthology/P16-1162).\n",
        "\n",
        "WordPiece and BPE are two similar and commonly used techniques to segment words into subword-level in NLP tasks. In both cases, the vocabulary is initialized with all the individual characters in the language, and then the most frequent/likely combinations of the symbols in the vocabulary are iteratively added to the vocabulary.\n",
        "\n",
        "magine that the model sees the word walking. Unless this word occurs at least a few times in the training corpus, the model can't learn to deal with this word very well. However, it may have the words walked, walker, walks, each occurring only a few times. Without subword segmentation, all these words are treated as completely different words by the model.\n",
        "\n",
        "However, if these get segmented as walk@@ ing, walk@@ ed, etc., notice that all of them will now have walk@@ in common, which will occur much frequently while training, and the model might be able to learn more about it.\n",
        "\n",
        "Huggingface's transformers library has easy to use utilities for each type of model"
      ]
    },
    {
      "cell_type": "code",
      "metadata": {
        "id": "Q9H4AeL_ajcZ",
        "colab": {
          "base_uri": "https://localhost:8080/",
          "height": 145,
          "referenced_widgets": [
            "ba4f7f5c2e934ff09a7e49474e9ab926",
            "8b70480e543d4674b410bcada98e9d46",
            "d7f2ff4ae6aa46a48ffaa030c5df7678",
            "fc8a72ccde9c4be59a078baaeffbcf62"
          ]
        },
        "outputId": "0aa611a4-c472-4afb-dba9-80f151e88b89"
      },
      "source": [
        "tokenizer = transformers.DistilBertTokenizer.from_pretrained('distilbert-base-uncased')\n",
        "\n"
      ],
      "execution_count": null,
      "outputs": [
        {
          "output_type": "display_data",
          "data": {
            "application/vnd.jupyter.widget-view+json": {
              "model_id": "ba4f7f5c2e934ff09a7e49474e9ab926",
              "version_minor": 0,
              "version_major": 2
            },
            "text/plain": [
              "Downloading:   0%|          | 0.00/226k [00:00<?, ?B/s]"
            ]
          },
          "metadata": {}
        },
        {
          "output_type": "display_data",
          "data": {
            "application/vnd.jupyter.widget-view+json": {
              "model_id": "8b70480e543d4674b410bcada98e9d46",
              "version_minor": 0,
              "version_major": 2
            },
            "text/plain": [
              "Downloading:   0%|          | 0.00/28.0 [00:00<?, ?B/s]"
            ]
          },
          "metadata": {}
        },
        {
          "output_type": "display_data",
          "data": {
            "application/vnd.jupyter.widget-view+json": {
              "model_id": "d7f2ff4ae6aa46a48ffaa030c5df7678",
              "version_minor": 0,
              "version_major": 2
            },
            "text/plain": [
              "Downloading:   0%|          | 0.00/455k [00:00<?, ?B/s]"
            ]
          },
          "metadata": {}
        },
        {
          "output_type": "display_data",
          "data": {
            "application/vnd.jupyter.widget-view+json": {
              "model_id": "fc8a72ccde9c4be59a078baaeffbcf62",
              "version_minor": 0,
              "version_major": 2
            },
            "text/plain": [
              "Downloading:   0%|          | 0.00/483 [00:00<?, ?B/s]"
            ]
          },
          "metadata": {}
        }
      ]
    },
    {
      "cell_type": "markdown",
      "metadata": {
        "id": "ETJDWVw0ajca"
      },
      "source": [
        "## DistilBERT Data Preparation\n",
        "\n",
        "We need to preprocess our data so that it matches the data format DistilBERT was trained on. For this, we'll need to do a couple of things.\n",
        "\n",
        "- Lowercase our text (if we're using a BERT lowercase model)\n",
        "- Tokenize it (i.e. \"sally says hi\" -> [\"sally\", \"says\", \"hi\"])\n",
        "- Break words into WordPieces (i.e. \"calling\" -> [\"call\", \"##ing\"])\n",
        "- Map our words to indexes using a vocab file that BERT provides\n",
        "- Add special \"CLS\" and \"SEP\" tokens (see the readme)\n",
        "- Append \"mask\" tokens to each input (see https://medium.com/huggingface/distilbert-8cf3380435b5)"
      ]
    },
    {
      "cell_type": "code",
      "metadata": {
        "id": "azjnxnFRajcb"
      },
      "source": [
        "def create_bert_input_features(tokenizer, docs, max_seq_length):\n",
        "\n",
        "    all_ids, all_masks = [], []\n",
        "    for doc in tqdm.tqdm(docs, desc=\"Converting docs to features\"):\n",
        "\n",
        "        tokens = tokenizer.tokenize(doc)\n",
        "\n",
        "        if len(tokens) > max_seq_length-2:\n",
        "            tokens = tokens[0 : (max_seq_length-2)]\n",
        "        tokens = ['[CLS]'] + tokens + ['[SEP]']\n",
        "        ids = tokenizer.convert_tokens_to_ids(tokens)\n",
        "        masks = [1] * len(ids)\n",
        "\n",
        "        # Zero-pad up to the sequence length.\n",
        "        while len(ids) < max_seq_length:\n",
        "            ids.append(0)\n",
        "            masks.append(0)\n",
        "\n",
        "        all_ids.append(ids)\n",
        "        all_masks.append(masks)\n",
        "\n",
        "    encoded = np.array([all_ids, all_masks])\n",
        "\n",
        "    return encoded"
      ],
      "execution_count": null,
      "outputs": []
    },
    {
      "cell_type": "markdown",
      "metadata": {
        "id": "8SoR1dwHajcc"
      },
      "source": [
        "## Build Model Architecture"
      ]
    },
    {
      "cell_type": "code",
      "metadata": {
        "colab": {
          "base_uri": "https://localhost:8080/",
          "height": 637,
          "referenced_widgets": [
            "0f285eee469f4ce49b020b63d330ec49",
            "6f63580c8f9d456abf9c91873400e32c",
            "91566706b7a34fcd8d75798931615b62",
            "15da9bd4ab40432f8a5c13368b945f69",
            "fb5b96203c854c5aabbb5a3a8004d31d",
            "b136f62107124de7a0d17e6d064ed81a",
            "24fda154e3764ad7a2a57be4740b6693",
            "733beb2be6574646a859971dea8b287b",
            "519dbc0935204ef0af67e070d9137b16",
            "701fa1f2026647d6b7b5ab288d3498e3",
            "5a990ae17eb743cd89133b68c7109768"
          ]
        },
        "id": "EvdzoH7vajcc",
        "outputId": "5512ee9b-3c7f-4dd0-afc8-07eab31a94ab"
      },
      "source": [
        "MAX_SEQ_LENGTH = 500\n",
        "\n",
        "inp_id = tf.keras.layers.Input(shape=(MAX_SEQ_LENGTH,), dtype='int32', name=\"bert_input_ids\")\n",
        "inp_mask = tf.keras.layers.Input(shape=(MAX_SEQ_LENGTH,), dtype='int32', name=\"bert_input_masks\")\n",
        "inputs = [inp_id, inp_mask]\n",
        "\n",
        "hidden_state = transformers.TFDistilBertModel.from_pretrained('distilbert-base-uncased')(inputs)[0]\n",
        "pooled_output = hidden_state[:, 0]\n",
        "\n",
        "dense1 = tf.keras.layers.Dense(256, activation='relu')(pooled_output)\n",
        "drop1 = tf.keras.layers.Dropout(0.25)(dense1)\n",
        "dense2 = tf.keras.layers.Dense(256, activation='relu')(drop1)\n",
        "drop2 = tf.keras.layers.Dropout(0.25)(dense2)\n",
        "\n",
        "output = tf.keras.layers.Dense(1, activation='sigmoid')(drop2)\n",
        "\n",
        "\n",
        "model = tf.keras.Model(inputs=inputs, outputs=output)\n",
        "model.compile(optimizer=tf.optimizers.Adam(learning_rate=2e-5,\n",
        "                                           epsilon=1e-08),\n",
        "              loss='binary_crossentropy', metrics=['accuracy'])\n",
        "\n",
        "model.summary()"
      ],
      "execution_count": null,
      "outputs": [
        {
          "output_type": "display_data",
          "data": {
            "application/vnd.jupyter.widget-view+json": {
              "model_id": "0f285eee469f4ce49b020b63d330ec49",
              "version_minor": 0,
              "version_major": 2
            },
            "text/plain": [
              "Downloading:   0%|          | 0.00/347M [00:00<?, ?B/s]"
            ]
          },
          "metadata": {}
        },
        {
          "output_type": "stream",
          "name": "stderr",
          "text": [
            "Some layers from the model checkpoint at distilbert-base-uncased were not used when initializing TFDistilBertModel: ['vocab_transform', 'vocab_layer_norm', 'vocab_projector', 'activation_13']\n",
            "- This IS expected if you are initializing TFDistilBertModel from the checkpoint of a model trained on another task or with another architecture (e.g. initializing a BertForSequenceClassification model from a BertForPreTraining model).\n",
            "- This IS NOT expected if you are initializing TFDistilBertModel from the checkpoint of a model that you expect to be exactly identical (initializing a BertForSequenceClassification model from a BertForSequenceClassification model).\n",
            "All the layers of TFDistilBertModel were initialized from the model checkpoint at distilbert-base-uncased.\n",
            "If your task is similar to the task the model of the checkpoint was trained on, you can already use TFDistilBertModel for predictions without further training.\n"
          ]
        },
        {
          "output_type": "stream",
          "name": "stdout",
          "text": [
            "Model: \"model_1\"\n",
            "__________________________________________________________________________________________________\n",
            "Layer (type)                    Output Shape         Param #     Connected to                     \n",
            "==================================================================================================\n",
            "bert_input_ids (InputLayer)     [(None, 500)]        0                                            \n",
            "__________________________________________________________________________________________________\n",
            "bert_input_masks (InputLayer)   [(None, 500)]        0                                            \n",
            "__________________________________________________________________________________________________\n",
            "tf_distil_bert_model (TFDistilB TFBaseModelOutput(la 66362880    bert_input_ids[0][0]             \n",
            "                                                                 bert_input_masks[0][0]           \n",
            "__________________________________________________________________________________________________\n",
            "tf.__operators__.getitem (Slici (None, 768)          0           tf_distil_bert_model[0][0]       \n",
            "__________________________________________________________________________________________________\n",
            "dense_3 (Dense)                 (None, 256)          196864      tf.__operators__.getitem[0][0]   \n",
            "__________________________________________________________________________________________________\n",
            "dropout_58 (Dropout)            (None, 256)          0           dense_3[0][0]                    \n",
            "__________________________________________________________________________________________________\n",
            "dense_4 (Dense)                 (None, 256)          65792       dropout_58[0][0]                 \n",
            "__________________________________________________________________________________________________\n",
            "dropout_59 (Dropout)            (None, 256)          0           dense_4[0][0]                    \n",
            "__________________________________________________________________________________________________\n",
            "dense_5 (Dense)                 (None, 1)            257         dropout_59[0][0]                 \n",
            "==================================================================================================\n",
            "Total params: 66,625,793\n",
            "Trainable params: 66,625,793\n",
            "Non-trainable params: 0\n",
            "__________________________________________________________________________________________________\n"
          ]
        }
      ]
    },
    {
      "cell_type": "markdown",
      "metadata": {
        "id": "j-0k79jRajce"
      },
      "source": [
        "## Convert text to DistilBERT input features"
      ]
    },
    {
      "cell_type": "code",
      "metadata": {
        "colab": {
          "base_uri": "https://localhost:8080/"
        },
        "id": "dEZtopKYajcf",
        "outputId": "7298b818-a886-4c70-934c-2455be4b4188"
      },
      "source": [
        "train_features_ids, train_features_masks = create_bert_input_features(tokenizer, train_reviews,\n",
        "                                                                      max_seq_length=MAX_SEQ_LENGTH)\n",
        "val_features_ids, val_features_masks = create_bert_input_features(tokenizer, val_reviews,\n",
        "                                                                  max_seq_length=MAX_SEQ_LENGTH)\n",
        "#test_features = create_bert_input_features(tokenizer, test_reviews, max_seq_length=MAX_SEQ_LENGTH)\n",
        "print('Train Features:', train_features_ids.shape, train_features_masks.shape)\n",
        "print('Val Features:', val_features_ids.shape, val_features_masks.shape)"
      ],
      "execution_count": null,
      "outputs": [
        {
          "output_type": "stream",
          "name": "stderr",
          "text": [
            "Converting docs to features: 100%|██████████| 5000/5000 [00:34<00:00, 145.52it/s]\n",
            "Converting docs to features: 100%|██████████| 5000/5000 [00:34<00:00, 145.40it/s]"
          ]
        },
        {
          "output_type": "stream",
          "name": "stdout",
          "text": [
            "Train Features: (5000, 500) (5000, 500)\n",
            "Val Features: (5000, 500) (5000, 500)\n"
          ]
        },
        {
          "output_type": "stream",
          "name": "stderr",
          "text": [
            "\n"
          ]
        }
      ]
    },
    {
      "cell_type": "markdown",
      "metadata": {
        "id": "Q316Jw8jajcg"
      },
      "source": [
        "## Train and Validate Model"
      ]
    },
    {
      "cell_type": "code",
      "metadata": {
        "colab": {
          "base_uri": "https://localhost:8080/"
        },
        "id": "k4UqJQTOajcg",
        "outputId": "76fb4a19-dcbf-4f0d-94e0-88418a0b6c2f"
      },
      "source": [
        "es = tf.keras.callbacks.EarlyStopping(monitor='val_loss',\n",
        "                                      patience=1,\n",
        "                                      restore_best_weights=True,\n",
        "                                      verbose=1)\n",
        "model.fit([train_features_ids,\n",
        "           train_features_masks], train_sentiments,\n",
        "          validation_data=([val_features_ids,\n",
        "                            val_features_masks], val_sentiments),\n",
        "          epochs=3,\n",
        "          batch_size=20,\n",
        "          shuffle=True,\n",
        "          callbacks=[es],\n",
        "          verbose=1)"
      ],
      "execution_count": null,
      "outputs": [
        {
          "output_type": "stream",
          "name": "stdout",
          "text": [
            "Epoch 1/3\n",
            "250/250 [==============================] - 249s 974ms/step - loss: 0.3819 - accuracy: 0.8138 - val_loss: 0.2498 - val_accuracy: 0.8976\n",
            "Epoch 2/3\n",
            "250/250 [==============================] - 210s 840ms/step - loss: 0.1854 - accuracy: 0.9340 - val_loss: 0.2378 - val_accuracy: 0.9014\n",
            "Epoch 3/3\n",
            "250/250 [==============================] - 242s 968ms/step - loss: 0.0967 - accuracy: 0.9694 - val_loss: 0.2729 - val_accuracy: 0.9054\n",
            "Restoring model weights from the end of the best epoch.\n",
            "Epoch 00003: early stopping\n"
          ]
        },
        {
          "output_type": "execute_result",
          "data": {
            "text/plain": [
              "<keras.callbacks.History at 0x7f85264ec3d0>"
            ]
          },
          "metadata": {},
          "execution_count": 21
        }
      ]
    },
    {
      "cell_type": "code",
      "metadata": {
        "id": "qTE-1XkMajch"
      },
      "source": [
        "model.save_weights('distillbert_ft_wts.h5')"
      ],
      "execution_count": null,
      "outputs": []
    },
    {
      "cell_type": "markdown",
      "metadata": {
        "id": "4iVZsw0kajcj"
      },
      "source": [
        "## Convert Test reviews to BERT input features"
      ]
    },
    {
      "cell_type": "code",
      "metadata": {
        "colab": {
          "base_uri": "https://localhost:8080/"
        },
        "id": "i1G3Xribajcj",
        "outputId": "5172e3f0-1072-4ce3-948f-f53aa1aadbd9"
      },
      "source": [
        "test_features_ids, test_features_masks = create_bert_input_features(tokenizer, test_reviews,\n",
        "                                                                    max_seq_length=MAX_SEQ_LENGTH)\n",
        "print('Test Features:', test_features_ids.shape, test_features_masks.shape)"
      ],
      "execution_count": null,
      "outputs": [
        {
          "output_type": "stream",
          "name": "stderr",
          "text": [
            "Converting docs to features: 100%|██████████| 40000/40000 [04:29<00:00, 148.46it/s]\n"
          ]
        },
        {
          "output_type": "stream",
          "name": "stdout",
          "text": [
            "Test Features: (40000, 500) (40000, 500)\n"
          ]
        }
      ]
    },
    {
      "cell_type": "markdown",
      "metadata": {
        "id": "OcxGMWWcajcl"
      },
      "source": [
        "## Model Performance Evaluation on the Test Dataset"
      ]
    },
    {
      "cell_type": "code",
      "metadata": {
        "colab": {
          "base_uri": "https://localhost:8080/",
          "height": 289
        },
        "id": "xEVSsaBBajcl",
        "outputId": "7939117c-e839-4705-fd60-fd5fe5ee0766"
      },
      "source": [
        "predictions = [1 if pr > 0.5 else 0\n",
        "                   for pr in model.predict([test_features_ids,\n",
        "                                            test_features_masks], batch_size=200, verbose=0).ravel()]\n",
        "\n",
        "print(\"Accuracy: %.2f%%\" % (accuracy_score(test_sentiments, predictions)*100))\n",
        "print(classification_report(test_sentiments, predictions))\n",
        "pd.DataFrame(confusion_matrix(test_sentiments, predictions))"
      ],
      "execution_count": null,
      "outputs": [
        {
          "output_type": "stream",
          "name": "stdout",
          "text": [
            "Accuracy: 90.67%\n",
            "              precision    recall  f1-score   support\n",
            "\n",
            "           0       0.89      0.93      0.91     20028\n",
            "           1       0.93      0.88      0.90     19972\n",
            "\n",
            "    accuracy                           0.91     40000\n",
            "   macro avg       0.91      0.91      0.91     40000\n",
            "weighted avg       0.91      0.91      0.91     40000\n",
            "\n"
          ]
        },
        {
          "output_type": "execute_result",
          "data": {
            "text/html": [
              "<div>\n",
              "<style scoped>\n",
              "    .dataframe tbody tr th:only-of-type {\n",
              "        vertical-align: middle;\n",
              "    }\n",
              "\n",
              "    .dataframe tbody tr th {\n",
              "        vertical-align: top;\n",
              "    }\n",
              "\n",
              "    .dataframe thead th {\n",
              "        text-align: right;\n",
              "    }\n",
              "</style>\n",
              "<table border=\"1\" class=\"dataframe\">\n",
              "  <thead>\n",
              "    <tr style=\"text-align: right;\">\n",
              "      <th></th>\n",
              "      <th>0</th>\n",
              "      <th>1</th>\n",
              "    </tr>\n",
              "  </thead>\n",
              "  <tbody>\n",
              "    <tr>\n",
              "      <th>0</th>\n",
              "      <td>18700</td>\n",
              "      <td>1328</td>\n",
              "    </tr>\n",
              "    <tr>\n",
              "      <th>1</th>\n",
              "      <td>2403</td>\n",
              "      <td>17569</td>\n",
              "    </tr>\n",
              "  </tbody>\n",
              "</table>\n",
              "</div>"
            ],
            "text/plain": [
              "       0      1\n",
              "0  18700   1328\n",
              "1   2403  17569"
            ]
          },
          "metadata": {},
          "execution_count": 24
        }
      ]
    },
    {
      "cell_type": "code",
      "source": [],
      "metadata": {
        "id": "MJcgPKTl-Lk6"
      },
      "execution_count": null,
      "outputs": []
    }
  ]
}