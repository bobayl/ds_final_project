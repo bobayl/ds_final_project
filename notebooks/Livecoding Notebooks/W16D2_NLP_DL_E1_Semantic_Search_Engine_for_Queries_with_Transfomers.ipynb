{
 "cells": [
  {
   "cell_type": "markdown",
   "metadata": {
    "id": "8w2MPbHppeO0"
   },
   "source": [
    "# Building a Semantic Search Engine to Search for Queries with Transformers"
   ]
  },
  {
   "cell_type": "markdown",
   "metadata": {
    "id": "Fb75SQP5pro_"
   },
   "source": [
    "# Semantic Search\n",
    "Semantic search seeks to improve search accuracy by understanding the content of the search query. In contrast to traditional search engines, that only finds documents based on lexical matches, semantic search can also find synonyms.\n",
    "\n",
    "\n",
    "## Background\n",
    "The idea behind semantic search is to embed all entries in your corpus, which can be sentences, paragraphs, or documents, into a vector space.\n",
    "\n",
    "At search time, the query is embedded into the same vector space and the closest embedding from your corpus are found. These entries should have a high semantic overlap with the query.\n",
    "\n",
    "![SemanticSearch](https://raw.githubusercontent.com/UKPLab/sentence-transformers/master/docs/img/SemanticSearch.png)\n",
    "\n",
    "\n",
    "## Python\n",
    "\n",
    "For small corpora (up to about 100k entries) we can compute the cosine-similarity between the query and all entries in the corpus.\n",
    "\n",
    "For small corpora with few example sentences we compute the embeddings for the corpus as well as for our query.\n",
    "\n",
    "We then use the [util.pytorch_cos_sim()](../../../docs/usage/semantic_textual_similarity.md) function to compute the cosine similarity between the query and all corpus entries.\n",
    "\n",
    "For large corpora, sorting all scores would take too much time. Hence, we can use [torch.topk](https://pytorch.org/docs/stable/generated/torch.topk.html) to only get the top k entries.\n",
    "\n",
    "[Reference](https://github.com/UKPLab/sentence-transformers/tree/master/examples/applications/semantic-search)\n",
    "\n",
    "\n",
    "## Objective\n",
    "\n",
    "For today's objective we will create a corpus of around 50000 question titles asked on Quora from an open dataset. Your task will be to compute sentence embeddings and then try to retrieve top 5 similar questions from the corpus for a few example queries mentioned below.\n",
    "\n",
    "Use [Sentence Transformers](https://github.com/UKPLab/sentence-transformers) which provides a scalable way to generate document embeddings using transformers\n",
    "\n"
   ]
  },
  {
   "cell_type": "markdown",
   "metadata": {
    "id": "637DLY-vqofj"
   },
   "source": [
    "## Load Dependencies"
   ]
  },
  {
   "cell_type": "code",
   "execution_count": 3,
   "metadata": {
    "colab": {
     "base_uri": "https://localhost:8080/"
    },
    "id": "1G6XYAOjKfoe",
    "outputId": "72a69327-d93f-48cd-a905-5850d7e8c08a"
   },
   "outputs": [],
   "source": [
    "#!pip install transformers"
   ]
  },
  {
   "cell_type": "code",
   "execution_count": 4,
   "metadata": {
    "colab": {
     "base_uri": "https://localhost:8080/"
    },
    "id": "-4Gb28zvKmfb",
    "outputId": "d454b9a0-e68c-4dd8-c013-51ce8cd78d3a"
   },
   "outputs": [],
   "source": [
    "#!pip install -U sentence-transformers"
   ]
  },
  {
   "cell_type": "code",
   "execution_count": 5,
   "metadata": {
    "id": "hZbso1ipKa2S"
   },
   "outputs": [],
   "source": [
    "import transformers"
   ]
  },
  {
   "cell_type": "code",
   "execution_count": 6,
   "metadata": {
    "id": "uRSgF-ITKWL6"
   },
   "outputs": [],
   "source": [
    "import pandas as pd\n",
    "import numpy as np"
   ]
  },
  {
   "cell_type": "markdown",
   "metadata": {
    "id": "Qd9fnlmlqqxh"
   },
   "source": [
    "## Download and Load Corpus of Questions"
   ]
  },
  {
   "cell_type": "code",
   "execution_count": 7,
   "metadata": {
    "colab": {
     "base_uri": "https://localhost:8080/"
    },
    "id": "O37SmvVPK4Q_",
    "outputId": "9de1ef5a-5f47-4cd7-dc98-5fcdd60283c5"
   },
   "outputs": [
    {
     "name": "stdout",
     "output_type": "stream",
     "text": [
      "--2024-06-15 14:09:13--  http://qim.fs.quoracdn.net/quora_duplicate_questions.tsv\n",
      "Auflösen des Hostnamens qim.fs.quoracdn.net (qim.fs.quoracdn.net)… 162.159.152.17, 162.159.153.247\n",
      "Verbindungsaufbau zu qim.fs.quoracdn.net (qim.fs.quoracdn.net)|162.159.152.17|:80 … verbunden.\n",
      "HTTP-Anforderung gesendet, auf Antwort wird gewartet … 301 Moved Permanently\n",
      "Platz: https://qim.fs.quoracdn.net/quora_duplicate_questions.tsv [folgend]\n",
      "--2024-06-15 14:09:13--  https://qim.fs.quoracdn.net/quora_duplicate_questions.tsv\n",
      "Verbindungsaufbau zu qim.fs.quoracdn.net (qim.fs.quoracdn.net)|162.159.152.17|:443 … verbunden.\n",
      "HTTP-Anforderung gesendet, auf Antwort wird gewartet … 200 OK\n",
      "Länge: 58176133 (55M) [text/tab-separated-values]\n",
      "Wird in »quora_duplicate_questions.tsv.1« gespeichert.\n",
      "\n",
      "quora_duplicate_que 100%[===================>]  55,48M  56,6MB/s    in 1,0s    \n",
      "\n",
      "2024-06-15 14:09:14 (56,6 MB/s) - »quora_duplicate_questions.tsv.1« gespeichert [58176133/58176133]\n",
      "\n"
     ]
    }
   ],
   "source": [
    "!wget http://qim.fs.quoracdn.net/quora_duplicate_questions.tsv"
   ]
  },
  {
   "cell_type": "code",
   "execution_count": 8,
   "metadata": {
    "colab": {
     "base_uri": "https://localhost:8080/",
     "height": 302
    },
    "id": "Wz3j4m13KtaR",
    "outputId": "03f94c88-5841-42d0-c5c8-ab6465776918"
   },
   "outputs": [
    {
     "data": {
      "text/html": [
       "<div>\n",
       "<style scoped>\n",
       "    .dataframe tbody tr th:only-of-type {\n",
       "        vertical-align: middle;\n",
       "    }\n",
       "\n",
       "    .dataframe tbody tr th {\n",
       "        vertical-align: top;\n",
       "    }\n",
       "\n",
       "    .dataframe thead th {\n",
       "        text-align: right;\n",
       "    }\n",
       "</style>\n",
       "<table border=\"1\" class=\"dataframe\">\n",
       "  <thead>\n",
       "    <tr style=\"text-align: right;\">\n",
       "      <th></th>\n",
       "      <th>id</th>\n",
       "      <th>qid1</th>\n",
       "      <th>qid2</th>\n",
       "      <th>question1</th>\n",
       "      <th>question2</th>\n",
       "      <th>is_duplicate</th>\n",
       "    </tr>\n",
       "  </thead>\n",
       "  <tbody>\n",
       "    <tr>\n",
       "      <th>0</th>\n",
       "      <td>0</td>\n",
       "      <td>1</td>\n",
       "      <td>2</td>\n",
       "      <td>What is the step by step guide to invest in sh...</td>\n",
       "      <td>What is the step by step guide to invest in sh...</td>\n",
       "      <td>0</td>\n",
       "    </tr>\n",
       "    <tr>\n",
       "      <th>1</th>\n",
       "      <td>1</td>\n",
       "      <td>3</td>\n",
       "      <td>4</td>\n",
       "      <td>What is the story of Kohinoor (Koh-i-Noor) Dia...</td>\n",
       "      <td>What would happen if the Indian government sto...</td>\n",
       "      <td>0</td>\n",
       "    </tr>\n",
       "    <tr>\n",
       "      <th>2</th>\n",
       "      <td>2</td>\n",
       "      <td>5</td>\n",
       "      <td>6</td>\n",
       "      <td>How can I increase the speed of my internet co...</td>\n",
       "      <td>How can Internet speed be increased by hacking...</td>\n",
       "      <td>0</td>\n",
       "    </tr>\n",
       "    <tr>\n",
       "      <th>3</th>\n",
       "      <td>3</td>\n",
       "      <td>7</td>\n",
       "      <td>8</td>\n",
       "      <td>Why am I mentally very lonely? How can I solve...</td>\n",
       "      <td>Find the remainder when [math]23^{24}[/math] i...</td>\n",
       "      <td>0</td>\n",
       "    </tr>\n",
       "    <tr>\n",
       "      <th>4</th>\n",
       "      <td>4</td>\n",
       "      <td>9</td>\n",
       "      <td>10</td>\n",
       "      <td>Which one dissolve in water quikly sugar, salt...</td>\n",
       "      <td>Which fish would survive in salt water?</td>\n",
       "      <td>0</td>\n",
       "    </tr>\n",
       "  </tbody>\n",
       "</table>\n",
       "</div>"
      ],
      "text/plain": [
       "   id  qid1  qid2                                          question1  \\\n",
       "0   0     1     2  What is the step by step guide to invest in sh...   \n",
       "1   1     3     4  What is the story of Kohinoor (Koh-i-Noor) Dia...   \n",
       "2   2     5     6  How can I increase the speed of my internet co...   \n",
       "3   3     7     8  Why am I mentally very lonely? How can I solve...   \n",
       "4   4     9    10  Which one dissolve in water quikly sugar, salt...   \n",
       "\n",
       "                                           question2  is_duplicate  \n",
       "0  What is the step by step guide to invest in sh...             0  \n",
       "1  What would happen if the Indian government sto...             0  \n",
       "2  How can Internet speed be increased by hacking...             0  \n",
       "3  Find the remainder when [math]23^{24}[/math] i...             0  \n",
       "4            Which fish would survive in salt water?             0  "
      ]
     },
     "execution_count": 8,
     "metadata": {},
     "output_type": "execute_result"
    }
   ],
   "source": [
    "df = pd.read_csv('quora_duplicate_questions.tsv', sep='\\t').head(25000)\n",
    "df.head()"
   ]
  },
  {
   "cell_type": "code",
   "execution_count": 9,
   "metadata": {
    "id": "R3AfKmnGLCFg"
   },
   "outputs": [],
   "source": [
    "corpus = df['question1'].tolist() + df['question2'].tolist()"
   ]
  },
  {
   "cell_type": "code",
   "execution_count": 10,
   "metadata": {
    "colab": {
     "base_uri": "https://localhost:8080/"
    },
    "id": "rKfVgMPELMvT",
    "outputId": "5479614c-f380-420e-98ba-b9098b295d73"
   },
   "outputs": [
    {
     "data": {
      "text/plain": [
       "50000"
      ]
     },
     "execution_count": 10,
     "metadata": {},
     "output_type": "execute_result"
    }
   ],
   "source": [
    "len(corpus)"
   ]
  },
  {
   "cell_type": "code",
   "execution_count": 11,
   "metadata": {},
   "outputs": [
    {
     "data": {
      "text/plain": [
       "'What is the step by step guide to invest in share market in india?'"
      ]
     },
     "execution_count": 11,
     "metadata": {},
     "output_type": "execute_result"
    }
   ],
   "source": [
    "corpus[0]"
   ]
  },
  {
   "cell_type": "markdown",
   "metadata": {
    "id": "8v-WQjCAqvd9"
   },
   "source": [
    "## Use Sentence Transformers and Generate Corpus Embeddings"
   ]
  },
  {
   "cell_type": "markdown",
   "metadata": {
    "id": "KuwhkFevq1rm"
   },
   "source": [
    "__Hint:__ You can use this tutorial as a reference\n",
    "\n",
    "[Semantic Search Tutorial](https://github.com/UKPLab/sentence-transformers/blob/master/examples/applications/semantic-search/semantic_search.py)\n",
    "\n",
    "Also use the __`roberta-large-nli-stsb-mean-tokens`__ model to generate document embeddings"
   ]
  },
  {
   "cell_type": "code",
   "execution_count": 12,
   "metadata": {
    "id": "gf8Q7vV4LP3A"
   },
   "outputs": [
    {
     "name": "stderr",
     "output_type": "stream",
     "text": [
      "/Users/laurent/anaconda3/envs/tf_metal_gpu/lib/python3.10/site-packages/huggingface_hub/file_download.py:1132: FutureWarning: `resume_download` is deprecated and will be removed in version 1.0.0. Downloads always resume when possible. If you want to force a new download, use `force_download=True`.\n",
      "  warnings.warn(\n"
     ]
    }
   ],
   "source": [
    "import torch\n",
    "\n",
    "from sentence_transformers import SentenceTransformer\n",
    "\n",
    "embedder = SentenceTransformer(\"roberta-large-nli-stsb-mean-tokens\")"
   ]
  },
  {
   "cell_type": "code",
   "execution_count": 15,
   "metadata": {},
   "outputs": [],
   "source": [
    "# Use \"convert_to_tensor=True\" to keep the tensors on GPU (if available)\n",
    "corpus_embeddings = embedder.encode(corpus, convert_to_tensor=True)"
   ]
  },
  {
   "cell_type": "code",
   "execution_count": 16,
   "metadata": {
    "id": "9NVNIPeRP0Uj"
   },
   "outputs": [
    {
     "data": {
      "text/plain": [
       "torch.Size([50000, 1024])"
      ]
     },
     "execution_count": 16,
     "metadata": {},
     "output_type": "execute_result"
    }
   ],
   "source": [
    "corpus_embeddings.shape"
   ]
  },
  {
   "cell_type": "markdown",
   "metadata": {
    "id": "rJS9cPFkrJO_"
   },
   "source": [
    "## Create a function to return top K similar sentences for a given query"
   ]
  },
  {
   "cell_type": "code",
   "execution_count": null,
   "metadata": {},
   "outputs": [],
   "source": []
  },
  {
   "cell_type": "code",
   "execution_count": 17,
   "metadata": {
    "id": "zz4J-WCdP7uz"
   },
   "outputs": [],
   "source": [
    "def return_similar_sentences(query, model_embedder, corpus_embeddings, top_k):\n",
    "    # Find the closest 5 sentences of the corpus for each query sentence based on cosine similarity\n",
    "    top_k = top_k\n",
    "    \n",
    "    query_embedding = model_embedder.encode(query, convert_to_tensor=True)\n",
    "\n",
    "    # We use cosine-similarity and torch.topk to find the highest 5 scores\n",
    "    similarity_scores = model_embedder.similarity(query_embedding, corpus_embeddings)[0]\n",
    "    scores, indices = torch.topk(similarity_scores, k=top_k)\n",
    "\n",
    "    print(\"\\nQuery:\", query)\n",
    "    print(\"Top 5 most similar sentences in corpus:\")\n",
    "\n",
    "    for score, idx in zip(scores, indices):\n",
    "        print(corpus[idx], \"(Score: {:.4f})\".format(score))\n",
    "\n",
    "    \"\"\"\n",
    "    # Alternatively, we can also use util.semantic_search to perform cosine similarty + topk\n",
    "    hits = util.semantic_search(query_embedding, corpus_embeddings, top_k=5)\n",
    "    hits = hits[0]      #Get the hits for the first query\n",
    "    for hit in hits:\n",
    "        print(corpus[hit['corpus_id']], \"(Score: {:.4f})\".format(hit['score']))\n",
    "    \"\"\"\n",
    "  #<FILL THIS UP>\n"
   ]
  },
  {
   "cell_type": "code",
   "execution_count": 18,
   "metadata": {
    "id": "NT9-eXFiQqAK"
   },
   "outputs": [
    {
     "data": {
      "text/html": [
       "<div>\n",
       "<style scoped>\n",
       "    .dataframe tbody tr th:only-of-type {\n",
       "        vertical-align: middle;\n",
       "    }\n",
       "\n",
       "    .dataframe tbody tr th {\n",
       "        vertical-align: top;\n",
       "    }\n",
       "\n",
       "    .dataframe thead th {\n",
       "        text-align: right;\n",
       "    }\n",
       "</style>\n",
       "<table border=\"1\" class=\"dataframe\">\n",
       "  <thead>\n",
       "    <tr style=\"text-align: right;\">\n",
       "      <th></th>\n",
       "      <th>id</th>\n",
       "      <th>qid1</th>\n",
       "      <th>qid2</th>\n",
       "      <th>question1</th>\n",
       "      <th>question2</th>\n",
       "      <th>is_duplicate</th>\n",
       "    </tr>\n",
       "  </thead>\n",
       "  <tbody>\n",
       "    <tr>\n",
       "      <th>0</th>\n",
       "      <td>0</td>\n",
       "      <td>1</td>\n",
       "      <td>2</td>\n",
       "      <td>What is the step by step guide to invest in sh...</td>\n",
       "      <td>What is the step by step guide to invest in sh...</td>\n",
       "      <td>0</td>\n",
       "    </tr>\n",
       "    <tr>\n",
       "      <th>1</th>\n",
       "      <td>1</td>\n",
       "      <td>3</td>\n",
       "      <td>4</td>\n",
       "      <td>What is the story of Kohinoor (Koh-i-Noor) Dia...</td>\n",
       "      <td>What would happen if the Indian government sto...</td>\n",
       "      <td>0</td>\n",
       "    </tr>\n",
       "    <tr>\n",
       "      <th>2</th>\n",
       "      <td>2</td>\n",
       "      <td>5</td>\n",
       "      <td>6</td>\n",
       "      <td>How can I increase the speed of my internet co...</td>\n",
       "      <td>How can Internet speed be increased by hacking...</td>\n",
       "      <td>0</td>\n",
       "    </tr>\n",
       "    <tr>\n",
       "      <th>3</th>\n",
       "      <td>3</td>\n",
       "      <td>7</td>\n",
       "      <td>8</td>\n",
       "      <td>Why am I mentally very lonely? How can I solve...</td>\n",
       "      <td>Find the remainder when [math]23^{24}[/math] i...</td>\n",
       "      <td>0</td>\n",
       "    </tr>\n",
       "    <tr>\n",
       "      <th>4</th>\n",
       "      <td>4</td>\n",
       "      <td>9</td>\n",
       "      <td>10</td>\n",
       "      <td>Which one dissolve in water quikly sugar, salt...</td>\n",
       "      <td>Which fish would survive in salt water?</td>\n",
       "      <td>0</td>\n",
       "    </tr>\n",
       "  </tbody>\n",
       "</table>\n",
       "</div>"
      ],
      "text/plain": [
       "   id  qid1  qid2                                          question1  \\\n",
       "0   0     1     2  What is the step by step guide to invest in sh...   \n",
       "1   1     3     4  What is the story of Kohinoor (Koh-i-Noor) Dia...   \n",
       "2   2     5     6  How can I increase the speed of my internet co...   \n",
       "3   3     7     8  Why am I mentally very lonely? How can I solve...   \n",
       "4   4     9    10  Which one dissolve in water quikly sugar, salt...   \n",
       "\n",
       "                                           question2  is_duplicate  \n",
       "0  What is the step by step guide to invest in sh...             0  \n",
       "1  What would happen if the Indian government sto...             0  \n",
       "2  How can Internet speed be increased by hacking...             0  \n",
       "3  Find the remainder when [math]23^{24}[/math] i...             0  \n",
       "4            Which fish would survive in salt water?             0  "
      ]
     },
     "execution_count": 18,
     "metadata": {},
     "output_type": "execute_result"
    }
   ],
   "source": [
    "df.head(5)"
   ]
  },
  {
   "cell_type": "markdown",
   "metadata": {
    "id": "ZW53grWprO73"
   },
   "source": [
    "## Perform Semantic Search on Sample Questions to get Similar Queries from the Corpus"
   ]
  },
  {
   "cell_type": "code",
   "execution_count": 20,
   "metadata": {
    "id": "HGbnncfyQsC8"
   },
   "outputs": [
    {
     "name": "stdout",
     "output_type": "stream",
     "text": [
      "\n",
      "Query: What is the step by step guide to invest\n",
      "Top 5 most similar sentences in corpus:\n",
      "What is the step by step guide to invest in share market? (Score: 0.8431)\n",
      "What are the best investment strategy for beginners? (Score: 0.7725)\n",
      "What are the ways to get an investment for startup? (Score: 0.7692)\n",
      "How do I invest in stock market? (Score: 0.7558)\n",
      "How much money will I need to start investing in stock market? (Score: 0.7447)\n"
     ]
    }
   ],
   "source": [
    "s = 'What is the step by step guide to invest'\n",
    "return_similar_sentences(query=s,\n",
    "                         model_embedder=embedder,\n",
    "                         corpus_embeddings=corpus_embeddings,\n",
    "                         top_k=5)"
   ]
  },
  {
   "cell_type": "code",
   "execution_count": 22,
   "metadata": {
    "id": "OFlPlIERQ9xy"
   },
   "outputs": [
    {
     "name": "stdout",
     "output_type": "stream",
     "text": [
      "\n",
      "Query: What is Data Science?\n",
      "Top 5 most similar sentences in corpus:\n",
      "What is data science (Score: 0.9840)\n",
      "What is actually a data science? (Score: 0.9609)\n",
      "What does a data scientist do? (Score: 0.8919)\n",
      "What is big data science? (Score: 0.8633)\n",
      "What is the difference between data science and data analysis? (Score: 0.7723)\n"
     ]
    }
   ],
   "source": [
    "s = 'What is Data Science?'\n",
    "return_similar_sentences(query=s,\n",
    "                         model_embedder=embedder,\n",
    "                         corpus_embeddings=corpus_embeddings,\n",
    "                         top_k=5)"
   ]
  },
  {
   "cell_type": "code",
   "execution_count": 23,
   "metadata": {
    "id": "I1Sse303SloA"
   },
   "outputs": [
    {
     "name": "stdout",
     "output_type": "stream",
     "text": [
      "\n",
      "Query: What is natural language processing?\n",
      "Top 5 most similar sentences in corpus:\n",
      "How does natural language processing work? (Score: 0.9242)\n",
      "Which are the best schools for studying natural language processing? (Score: 0.6843)\n",
      "What is the english word for \"अंत्योदय\"? (Score: 0.6685)\n",
      "What are natural numbers? (Score: 0.6590)\n",
      "Who owns Natural Factors? (Score: 0.6589)\n"
     ]
    }
   ],
   "source": [
    "s = 'What is natural language processing?'\n",
    "return_similar_sentences(query=s,\n",
    "                         model_embedder=embedder,\n",
    "                         corpus_embeddings=corpus_embeddings,\n",
    "                         top_k=5)"
   ]
  },
  {
   "cell_type": "code",
   "execution_count": 24,
   "metadata": {
    "id": "yCaAX2L_S1FV"
   },
   "outputs": [
    {
     "name": "stdout",
     "output_type": "stream",
     "text": [
      "\n",
      "Query: What is natural language processing?\n",
      "Top 5 most similar sentences in corpus:\n",
      "How does natural language processing work? (Score: 0.9242)\n",
      "Which are the best schools for studying natural language processing? (Score: 0.6843)\n",
      "What is the english word for \"अंत्योदय\"? (Score: 0.6685)\n",
      "What are natural numbers? (Score: 0.6590)\n",
      "Who owns Natural Factors? (Score: 0.6589)\n"
     ]
    }
   ],
   "source": [
    "s = 'What is natural language processing?'\n",
    "return_similar_sentences(query=s,\n",
    "                         model_embedder=embedder,\n",
    "                         corpus_embeddings=corpus_embeddings,\n",
    "                         top_k=5)"
   ]
  },
  {
   "cell_type": "code",
   "execution_count": 25,
   "metadata": {
    "id": "yTaLBUMpS7lc"
   },
   "outputs": [
    {
     "name": "stdout",
     "output_type": "stream",
     "text": [
      "\n",
      "Query: Best Harry Potter Movie?\n",
      "Top 5 most similar sentences in corpus:\n",
      "Which Harry Potter movie is the best? (Score: 0.9560)\n",
      "Which is the best Harry Potter movie? (Score: 0.9456)\n",
      "Which is your favourite Harry Potter movie and why? (Score: 0.8769)\n",
      "Where were the Harry Potter movies shot? (Score: 0.8664)\n",
      "Where was Harry Potter filmed? (Score: 0.8336)\n"
     ]
    }
   ],
   "source": [
    "s = 'Best Harry Potter Movie?'\n",
    "return_similar_sentences(query=s,\n",
    "                         model_embedder=embedder,\n",
    "                         corpus_embeddings=corpus_embeddings,\n",
    "                         top_k=5)"
   ]
  },
  {
   "cell_type": "code",
   "execution_count": 26,
   "metadata": {
    "id": "n5Vs1PWCTGJA"
   },
   "outputs": [
    {
     "name": "stdout",
     "output_type": "stream",
     "text": [
      "\n",
      "Query: What is the best smartphone?\n",
      "Top 5 most similar sentences in corpus:\n",
      "What are the best smartphones? (Score: 0.9829)\n",
      "What are the best smartphones? (Score: 0.9829)\n",
      "What is the best smartphone to date? (Score: 0.9759)\n",
      "What are the best Smartphones tech gadgets? (Score: 0.9262)\n",
      "Which is the best smartphone to buy now? (Score: 0.9253)\n"
     ]
    }
   ],
   "source": [
    "s = 'What is the best smartphone?'\n",
    "return_similar_sentences(query=s,\n",
    "                         model_embedder=embedder,\n",
    "                         corpus_embeddings=corpus_embeddings,\n",
    "                         top_k=5)"
   ]
  },
  {
   "cell_type": "code",
   "execution_count": 27,
   "metadata": {
    "id": "g9MxlFbsTaeT"
   },
   "outputs": [
    {
     "name": "stdout",
     "output_type": "stream",
     "text": [
      "\n",
      "Query: What is the best starter pokemon?\n",
      "Top 5 most similar sentences in corpus:\n",
      "How do you choose the right starter pokemon in any game? (Score: 0.8680)\n",
      "What is the best Pokemon GO hack? (Score: 0.7935)\n",
      "Which set of starter Pokemon would you choose considering all generations and why? (Score: 0.7794)\n",
      "What are the best Pokemon hacks? (Score: 0.7574)\n",
      "Which Pokemon evolve with Shiny Stones? (Score: 0.7405)\n"
     ]
    }
   ],
   "source": [
    "s = 'What is the best starter pokemon?'\n",
    "return_similar_sentences(query=s,\n",
    "                         model_embedder=embedder,\n",
    "                         corpus_embeddings=corpus_embeddings,\n",
    "                         top_k=5)"
   ]
  },
  {
   "cell_type": "code",
   "execution_count": 28,
   "metadata": {
    "id": "A5wrOme0Tqrg"
   },
   "outputs": [
    {
     "name": "stdout",
     "output_type": "stream",
     "text": [
      "\n",
      "Query: Batman or Superman?\n",
      "Top 5 most similar sentences in corpus:\n",
      "Why does Batman kill in Batman v Superman? (Score: 0.7654)\n",
      "What does Batman do? (Score: 0.7581)\n",
      "Is Batman insane? (Score: 0.7382)\n",
      "Superheroes: Who would win in a fight between Batman and the Flash? (Score: 0.7381)\n",
      "Who would win Batman vs Batman? (Score: 0.7156)\n"
     ]
    }
   ],
   "source": [
    "s = 'Batman or Superman?'\n",
    "return_similar_sentences(query=s,\n",
    "                         model_embedder=embedder,\n",
    "                         corpus_embeddings=corpus_embeddings,\n",
    "                         top_k=5)"
   ]
  },
  {
   "cell_type": "code",
   "execution_count": null,
   "metadata": {},
   "outputs": [],
   "source": []
  }
 ],
 "metadata": {
  "accelerator": "GPU",
  "colab": {
   "provenance": []
  },
  "kernelspec": {
   "display_name": "Python 3 (ipykernel)",
   "language": "python",
   "name": "python3"
  },
  "language_info": {
   "codemirror_mode": {
    "name": "ipython",
    "version": 3
   },
   "file_extension": ".py",
   "mimetype": "text/x-python",
   "name": "python",
   "nbconvert_exporter": "python",
   "pygments_lexer": "ipython3",
   "version": "3.10.14"
  }
 },
 "nbformat": 4,
 "nbformat_minor": 4
}
