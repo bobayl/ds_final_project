{
  "nbformat": 4,
  "nbformat_minor": 0,
  "metadata": {
    "accelerator": "GPU",
    "colab": {
      "provenance": [],
      "machine_shape": "hm"
    },
    "kernelspec": {
      "display_name": "Python 3",
      "language": "python",
      "name": "python3"
    },
    "language_info": {
      "codemirror_mode": {
        "name": "ipython",
        "version": 3
      },
      "file_extension": ".py",
      "mimetype": "text/x-python",
      "name": "python",
      "nbconvert_exporter": "python",
      "pygments_lexer": "ipython3",
      "version": "3.6.8"
    }
  },
  "cells": [
    {
      "cell_type": "markdown",
      "metadata": {
        "id": "bIpfmXTNOglO"
      },
      "source": [
        "# Language Translation with Word Level seq2seq DL Models\n",
        "\n",
        "The objective is to convert a German sentence (sequence of words) to English using a Neural Machine Translation (NMT) system based on word level encoder-decoder models.\n",
        "\n",
        "![](https://i.imgur.com/So32H7U.png)\n",
        "\n",
        "We will use German-English sentence pairs data from http://www.manythings.org/anki/\n",
        "\n",
        "\n",
        "Sequence-to-Sequence (seq2seq) models are used for a variety of NLP tasks, such as text summarization, speech recognition, language translation, text-to-speech, speech-to-text among others. Our aim is to translate german to english sentences.\n",
        "\n",
        "Here, both, the input and output are sentences. In other words, these sentences are a sequence of words going in and out of our model.\n",
        "\n",
        "![](https://i.imgur.com/Uk1tCPo.png)\n",
        "\n",
        "A typical seq2seq model is also known as an encoder-decoder model and has 2 major components:\n",
        "- The encoder\n",
        "- The decoder\n",
        "\n",
        "Both these parts are essentially two different sequential models like RNNs\\LSTMs which are combined together.\n",
        "\n",
        "![](https://i.imgur.com/bT6PAtv.png)"
      ]
    },
    {
      "cell_type": "code",
      "metadata": {
        "colab": {
          "base_uri": "https://localhost:8080/"
        },
        "id": "Yfb8EblzYkt-",
        "outputId": "80f193e6-0ec7-430a-a6e1-6854ad128a63"
      },
      "source": [
        "!nvidia-smi"
      ],
      "execution_count": null,
      "outputs": [
        {
          "output_type": "stream",
          "name": "stdout",
          "text": [
            "Tue Oct  5 16:56:47 2021       \n",
            "+-----------------------------------------------------------------------------+\n",
            "| NVIDIA-SMI 470.74       Driver Version: 460.32.03    CUDA Version: 11.2     |\n",
            "|-------------------------------+----------------------+----------------------+\n",
            "| GPU  Name        Persistence-M| Bus-Id        Disp.A | Volatile Uncorr. ECC |\n",
            "| Fan  Temp  Perf  Pwr:Usage/Cap|         Memory-Usage | GPU-Util  Compute M. |\n",
            "|                               |                      |               MIG M. |\n",
            "|===============================+======================+======================|\n",
            "|   0  Tesla P100-PCIE...  Off  | 00000000:00:04.0 Off |                    0 |\n",
            "| N/A   38C    P0    27W / 250W |      0MiB / 16280MiB |      0%      Default |\n",
            "|                               |                      |                  N/A |\n",
            "+-------------------------------+----------------------+----------------------+\n",
            "                                                                               \n",
            "+-----------------------------------------------------------------------------+\n",
            "| Processes:                                                                  |\n",
            "|  GPU   GI   CI        PID   Type   Process name                  GPU Memory |\n",
            "|        ID   ID                                                   Usage      |\n",
            "|=============================================================================|\n",
            "|  No running processes found                                                 |\n",
            "+-----------------------------------------------------------------------------+\n"
          ]
        }
      ]
    },
    {
      "cell_type": "markdown",
      "metadata": {
        "id": "HxUROz2GOglP"
      },
      "source": [
        "# Download the Dataset"
      ]
    },
    {
      "cell_type": "code",
      "metadata": {
        "id": "DgegFtG_kTp7",
        "colab": {
          "base_uri": "https://localhost:8080/"
        },
        "outputId": "2206fda0-b3a9-42fc-af38-1fb2feed5abc"
      },
      "source": [
        "!wget http://www.manythings.org/anki/deu-eng.zip\n",
        "!unzip deu-eng.zip\n",
        "!ls -l"
      ],
      "execution_count": null,
      "outputs": [
        {
          "output_type": "stream",
          "name": "stdout",
          "text": [
            "--2021-10-05 16:56:48--  http://www.manythings.org/anki/deu-eng.zip\n",
            "Resolving www.manythings.org (www.manythings.org)... 104.21.92.44, 172.67.186.54, 2606:4700:3033::ac43:ba36, ...\n",
            "Connecting to www.manythings.org (www.manythings.org)|104.21.92.44|:80... connected.\n",
            "HTTP request sent, awaiting response... 200 OK\n",
            "Length: 9079830 (8.7M) [application/zip]\n",
            "Saving to: ‘deu-eng.zip’\n",
            "\n",
            "deu-eng.zip         100%[===================>]   8.66M  14.8MB/s    in 0.6s    \n",
            "\n",
            "2021-10-05 16:56:49 (14.8 MB/s) - ‘deu-eng.zip’ saved [9079830/9079830]\n",
            "\n",
            "Archive:  deu-eng.zip\n",
            "  inflating: deu.txt                 \n",
            "  inflating: _about.txt              \n",
            "total 45680\n",
            "-rw-r--r-- 1 root root     1441 Jul 14 10:16 _about.txt\n",
            "-rw-r--r-- 1 root root  9079830 Jul 14 01:16 deu-eng.zip\n",
            "-rw-r--r-- 1 root root 37686235 Jul 14 10:16 deu.txt\n",
            "drwxr-xr-x 1 root root     4096 Sep 30 17:12 sample_data\n"
          ]
        }
      ]
    },
    {
      "cell_type": "code",
      "metadata": {
        "id": "6y7s_OHAuZZa",
        "colab": {
          "base_uri": "https://localhost:8080/"
        },
        "outputId": "eaeb36bd-98fd-4061-f7f7-b7d0814734fe"
      },
      "source": [
        "!pip install tqdm"
      ],
      "execution_count": null,
      "outputs": [
        {
          "output_type": "stream",
          "name": "stdout",
          "text": [
            "Requirement already satisfied: tqdm in /usr/local/lib/python3.7/dist-packages (4.62.3)\n"
          ]
        }
      ]
    },
    {
      "cell_type": "markdown",
      "metadata": {
        "id": "ydOkoa_gOglX"
      },
      "source": [
        "# Load up the dataset"
      ]
    },
    {
      "cell_type": "code",
      "metadata": {
        "id": "nLVNZCNZhtQ3",
        "colab": {
          "base_uri": "https://localhost:8080/"
        },
        "outputId": "75be0383-a5b4-4a22-a748-28d9d2c5fb70"
      },
      "source": [
        "import numpy as np\n",
        "\n",
        "FILE_NAME = './deu.txt'\n",
        "with open(FILE_NAME, mode='rt', encoding='utf-8') as infile:\n",
        "  data = infile.read()\n",
        "  sentences = data.strip().split('\\n')\n",
        "  sentences = [item.split('\\t') for item in sentences]\n",
        "  eng_deu = np.array(sentences)\n",
        "\n",
        "eng_deu = eng_deu[:50000]\n",
        "eng_deu"
      ],
      "execution_count": null,
      "outputs": [
        {
          "output_type": "execute_result",
          "data": {
            "text/plain": [
              "array([['Go.', 'Geh.',\n",
              "        'CC-BY 2.0 (France) Attribution: tatoeba.org #2877272 (CM) & #8597805 (Roujin)'],\n",
              "       ['Hi.', 'Hallo!',\n",
              "        'CC-BY 2.0 (France) Attribution: tatoeba.org #538123 (CM) & #380701 (cburgmer)'],\n",
              "       ['Hi.', 'Grüß Gott!',\n",
              "        'CC-BY 2.0 (France) Attribution: tatoeba.org #538123 (CM) & #659813 (Esperantostern)'],\n",
              "       ...,\n",
              "       ['We took a wrong turn.', 'Wir sind falsch abgebogen.',\n",
              "        'CC-BY 2.0 (France) Attribution: tatoeba.org #823901 (jellorage) & #2112094 (freddy1)'],\n",
              "       ['We traveled together.', 'Wir waren zusammen auf Reisen.',\n",
              "        'CC-BY 2.0 (France) Attribution: tatoeba.org #1582121 (Spamster) & #1600396 (Pfirsichbaeumchen)'],\n",
              "       ['We traveled together.', 'Wir sind zusammen gereist.',\n",
              "        'CC-BY 2.0 (France) Attribution: tatoeba.org #1582121 (Spamster) & #1600398 (Pfirsichbaeumchen)']],\n",
              "      dtype='<U537')"
            ]
          },
          "metadata": {},
          "execution_count": 5
        }
      ]
    },
    {
      "cell_type": "code",
      "metadata": {
        "id": "uNQx76gqkGzd",
        "colab": {
          "base_uri": "https://localhost:8080/"
        },
        "outputId": "6214c331-615f-4db5-ad3b-cfaa6906942c"
      },
      "source": [
        "deu = eng_deu[:,1]\n",
        "eng = eng_deu[:,0]\n",
        "eng, deu"
      ],
      "execution_count": null,
      "outputs": [
        {
          "output_type": "execute_result",
          "data": {
            "text/plain": [
              "(array(['Go.', 'Hi.', 'Hi.', ..., 'We took a wrong turn.',\n",
              "        'We traveled together.', 'We traveled together.'], dtype='<U537'),\n",
              " array(['Geh.', 'Hallo!', 'Grüß Gott!', ..., 'Wir sind falsch abgebogen.',\n",
              "        'Wir waren zusammen auf Reisen.', 'Wir sind zusammen gereist.'],\n",
              "       dtype='<U537'))"
            ]
          },
          "metadata": {},
          "execution_count": 6
        }
      ]
    },
    {
      "cell_type": "markdown",
      "metadata": {
        "id": "E6uI2U9cOglg"
      },
      "source": [
        "# Basic Text Pre-processing"
      ]
    },
    {
      "cell_type": "code",
      "metadata": {
        "id": "XzcQBSaaiyOJ",
        "colab": {
          "base_uri": "https://localhost:8080/"
        },
        "outputId": "bd2cb4e1-6f17-41c7-9237-8559b2aea2d9"
      },
      "source": [
        "import string\n",
        "\n",
        "# Remove punctuation and lowercase\n",
        "eng = np.array([s.translate(str.maketrans('', '', string.punctuation)).lower() for s in eng])\n",
        "deu = np.array([s.translate(str.maketrans('', '', string.punctuation)).lower() for s in deu])\n",
        "eng, deu"
      ],
      "execution_count": null,
      "outputs": [
        {
          "output_type": "execute_result",
          "data": {
            "text/plain": [
              "(array(['go', 'hi', 'hi', ..., 'we took a wrong turn',\n",
              "        'we traveled together', 'we traveled together'], dtype='<U20'),\n",
              " array(['geh', 'hallo', 'grüß gott', ..., 'wir sind falsch abgebogen',\n",
              "        'wir waren zusammen auf reisen', 'wir sind zusammen gereist'],\n",
              "       dtype='<U118'))"
            ]
          },
          "metadata": {},
          "execution_count": 7
        }
      ]
    },
    {
      "cell_type": "markdown",
      "metadata": {
        "id": "DZCdV0DZOglj"
      },
      "source": [
        "# Viewing Sentence Lengths"
      ]
    },
    {
      "cell_type": "code",
      "metadata": {
        "id": "TMe26wZLiyRT",
        "colab": {
          "base_uri": "https://localhost:8080/"
        },
        "outputId": "32f50b81-7733-42fd-e47e-c64e00762f72"
      },
      "source": [
        "eng_len = [len(s.split()) for s in eng]\n",
        "deu_len = [len(s.split()) for s in deu]\n",
        "\n",
        "max(eng_len), max(deu_len)"
      ],
      "execution_count": null,
      "outputs": [
        {
          "output_type": "execute_result",
          "data": {
            "text/plain": [
              "(6, 15)"
            ]
          },
          "metadata": {},
          "execution_count": 8
        }
      ]
    },
    {
      "cell_type": "code",
      "metadata": {
        "id": "zz-dnUiFiyMD",
        "colab": {
          "base_uri": "https://localhost:8080/",
          "height": 333
        },
        "outputId": "a9041f4c-c11d-406e-c18b-bca1ceb47919"
      },
      "source": [
        "import pandas as pd\n",
        "%matplotlib inline\n",
        "\n",
        "length_df = pd.DataFrame({'eng':eng_len, 'deu':deu_len})\n",
        "length_df.hist(bins=30)"
      ],
      "execution_count": null,
      "outputs": [
        {
          "output_type": "execute_result",
          "data": {
            "text/plain": [
              "array([[<matplotlib.axes._subplots.AxesSubplot object at 0x7f6165a4b890>,\n",
              "        <matplotlib.axes._subplots.AxesSubplot object at 0x7f615c236450>]],\n",
              "      dtype=object)"
            ]
          },
          "metadata": {},
          "execution_count": 9
        },
        {
          "output_type": "display_data",
          "data": {
            "image/png": "[encoded data removed]",
            "text/plain": [
              "<Figure size 432x288 with 2 Axes>"
            ]
          },
          "metadata": {
            "needs_background": "light"
          }
        }
      ]
    },
    {
      "cell_type": "markdown",
      "metadata": {
        "id": "eTa9L106Oglp"
      },
      "source": [
        "# Converting Text to Sequences of Numbers"
      ]
    },
    {
      "cell_type": "code",
      "metadata": {
        "id": "7iIYkr1riyJT",
        "colab": {
          "base_uri": "https://localhost:8080/"
        },
        "outputId": "fcb7640e-631d-4a08-f049-01877ad08248"
      },
      "source": [
        "from tensorflow import keras\n",
        "\n",
        "eng_tokenizer = keras.preprocessing.text.Tokenizer()\n",
        "eng_tokenizer.fit_on_texts(eng)\n",
        "eng_vocab_size = len(eng_tokenizer.word_index) + 1\n",
        "eng_length = max(eng_len)\n",
        "print('Max eng text length:', eng_length)\n",
        "print('English Vocabulary Size:', eng_vocab_size)"
      ],
      "execution_count": null,
      "outputs": [
        {
          "output_type": "stream",
          "name": "stdout",
          "text": [
            "Max eng text length: 6\n",
            "English Vocabulary Size: 6152\n"
          ]
        }
      ]
    },
    {
      "cell_type": "code",
      "metadata": {
        "id": "ZpyZ4MNJoRHw",
        "colab": {
          "base_uri": "https://localhost:8080/"
        },
        "outputId": "8f9746c0-a3fc-4317-8db1-1a7076f5f644"
      },
      "source": [
        "deu_tokenizer = keras.preprocessing.text.Tokenizer()\n",
        "deu_tokenizer.fit_on_texts(deu)\n",
        "deu_vocab_size = len(deu_tokenizer.word_index) + 1\n",
        "deu_length = max(deu_len)\n",
        "print('Max deu text length:', deu_length)\n",
        "print('German Vocabulary Size:', deu_vocab_size)"
      ],
      "execution_count": null,
      "outputs": [
        {
          "output_type": "stream",
          "name": "stdout",
          "text": [
            "Max deu text length: 15\n",
            "German Vocabulary Size: 10112\n"
          ]
        }
      ]
    },
    {
      "cell_type": "code",
      "metadata": {
        "id": "QXsJ1yWbpDVa",
        "colab": {
          "base_uri": "https://localhost:8080/"
        },
        "outputId": "07522176-fd72-457b-bd25-b5a7fb6cf2e8"
      },
      "source": [
        "from sklearn.model_selection import train_test_split\n",
        "\n",
        "train_deu, test_deu, train_eng, test_eng = train_test_split(deu, eng, test_size=0.2, random_state = 42)\n",
        "train_deu.shape, test_deu.shape, train_eng.shape, test_eng.shape"
      ],
      "execution_count": null,
      "outputs": [
        {
          "output_type": "execute_result",
          "data": {
            "text/plain": [
              "((40000,), (10000,), (40000,), (10000,))"
            ]
          },
          "metadata": {},
          "execution_count": 12
        }
      ]
    },
    {
      "cell_type": "code",
      "metadata": {
        "id": "OKIXB8ARpDUZ",
        "colab": {
          "base_uri": "https://localhost:8080/"
        },
        "outputId": "0a0f472a-36bf-467b-dd92-b6545da4df9d"
      },
      "source": [
        "train_deu, train_eng"
      ],
      "execution_count": null,
      "outputs": [
        {
          "output_type": "execute_result",
          "data": {
            "text/plain": [
              "(array(['passt auf euch auf', 'wir sehen uns später',\n",
              "        'ich weiß es mit sicherheit', ..., 'ich gebe dir ein bier aus',\n",
              "        'ich bin ein mann', 'wer ist hinter euch her'], dtype='<U118'),\n",
              " array(['look after yourself', 'ill see you later', 'i know it for a fact',\n",
              "        ..., 'ill buy you a beer', 'im a man', 'whos after you'],\n",
              "       dtype='<U20'))"
            ]
          },
          "metadata": {},
          "execution_count": 13
        }
      ]
    },
    {
      "cell_type": "markdown",
      "metadata": {
        "id": "6c0V59y4Ogl1"
      },
      "source": [
        "### We pad the sequences of texts also to make sure they are of uniform length"
      ]
    },
    {
      "cell_type": "code",
      "metadata": {
        "id": "MZtXNRbXpDTV",
        "colab": {
          "base_uri": "https://localhost:8080/"
        },
        "outputId": "c09f6665-bd73-49f6-dc9a-66a3dac3c113"
      },
      "source": [
        "train_deu_enc = deu_tokenizer.texts_to_sequences(train_deu)\n",
        "train_deu_enc = keras.preprocessing.sequence.pad_sequences(train_deu_enc, maxlen=deu_length, padding='post')\n",
        "\n",
        "train_eng_enc = eng_tokenizer.texts_to_sequences(train_eng)\n",
        "train_eng_enc = keras.preprocessing.sequence.pad_sequences(train_eng_enc, maxlen=eng_length, padding='post')\n",
        "\n",
        "train_deu_enc.shape, train_eng_enc.shape"
      ],
      "execution_count": null,
      "outputs": [
        {
          "output_type": "execute_result",
          "data": {
            "text/plain": [
              "((40000, 15), (40000, 6))"
            ]
          },
          "metadata": {},
          "execution_count": 14
        }
      ]
    },
    {
      "cell_type": "code",
      "metadata": {
        "id": "lhtcY2XepDR9",
        "colab": {
          "base_uri": "https://localhost:8080/"
        },
        "outputId": "b21ddf7f-3b8e-46f2-bef8-90657216d246"
      },
      "source": [
        "test_deu_enc = deu_tokenizer.texts_to_sequences(test_deu)\n",
        "test_deu_enc = keras.preprocessing.sequence.pad_sequences(test_deu_enc, maxlen=deu_length, padding='post')\n",
        "\n",
        "test_eng_enc = eng_tokenizer.texts_to_sequences(test_eng)\n",
        "test_eng_enc = keras.preprocessing.sequence.pad_sequences(test_eng_enc, maxlen=eng_length, padding='post')\n",
        "\n",
        "test_deu_enc.shape, test_eng_enc.shape"
      ],
      "execution_count": null,
      "outputs": [
        {
          "output_type": "execute_result",
          "data": {
            "text/plain": [
              "((10000, 15), (10000, 6))"
            ]
          },
          "metadata": {},
          "execution_count": 15
        }
      ]
    },
    {
      "cell_type": "markdown",
      "metadata": {
        "id": "mlZE0YFROgl9"
      },
      "source": [
        "# Build seq2seq Model Architecture\n",
        "\n",
        "![](https://i.imgur.com/3ZVi97s.png)\n",
        "\n",
        "- For the encoder, we will use an embedding layer and an LSTM layer\n",
        "- For the decoder, we will use another LSTM layer followed by a dense layer\n",
        "- Repeat Vector helps pass the output sequence from encoder to all LSTM cells in the decoder\n",
        "\n",
        "We leverage the full power of GPUs by using the CUDA variant of the LSTM models."
      ]
    },
    {
      "cell_type": "code",
      "metadata": {
        "id": "LTPjBccAzjs9"
      },
      "source": [],
      "execution_count": null,
      "outputs": []
    },
    {
      "cell_type": "code",
      "metadata": {
        "id": "G99KpD1vpDL7",
        "colab": {
          "base_uri": "https://localhost:8080/"
        },
        "outputId": "f32ccfdc-abc7-44f6-e930-395cf4175f86"
      },
      "source": [
        "EMBEDDING_DIM = 512\n",
        "LSTM_UNITS = 512\n",
        "\n",
        "encoder_inputs = keras.layers.Input(shape=(deu_length,))\n",
        "enc_emb =  keras.layers.Embedding(deu_vocab_size, EMBEDDING_DIM)(encoder_inputs)\n",
        "encoder_lstm = keras.layers.LSTM(LSTM_UNITS, return_sequences=False)(enc_emb)\n",
        "rp_vec = keras.layers.RepeatVector(eng_length)(encoder_lstm)\n",
        "\n",
        "decoder_lstm = keras.layers.LSTM(LSTM_UNITS, return_sequences=True)(rp_vec)\n",
        "decoder_softmax = keras.layers.Dense(eng_vocab_size, activation='softmax')(decoder_lstm)\n",
        "model = keras.models.Model(inputs=encoder_inputs, outputs=decoder_softmax)\n",
        "\n",
        "model.compile(optimizer=keras.optimizers.RMSprop(lr=0.001), loss='sparse_categorical_crossentropy')\n",
        "model.summary()"
      ],
      "execution_count": null,
      "outputs": [
        {
          "output_type": "stream",
          "name": "stdout",
          "text": [
            "Model: \"model\"\n",
            "_________________________________________________________________\n",
            "Layer (type)                 Output Shape              Param #   \n",
            "=================================================================\n",
            "input_1 (InputLayer)         [(None, 15)]              0         \n",
            "_________________________________________________________________\n",
            "embedding (Embedding)        (None, 15, 512)           5177344   \n",
            "_________________________________________________________________\n",
            "lstm (LSTM)                  (None, 512)               2099200   \n",
            "_________________________________________________________________\n",
            "repeat_vector (RepeatVector) (None, 6, 512)            0         \n",
            "_________________________________________________________________\n",
            "lstm_1 (LSTM)                (None, 6, 512)            2099200   \n",
            "_________________________________________________________________\n",
            "dense (Dense)                (None, 6, 6152)           3155976   \n",
            "=================================================================\n",
            "Total params: 12,531,720\n",
            "Trainable params: 12,531,720\n",
            "Non-trainable params: 0\n",
            "_________________________________________________________________\n"
          ]
        },
        {
          "output_type": "stream",
          "name": "stderr",
          "text": [
            "/usr/local/lib/python3.7/dist-packages/keras/optimizer_v2/optimizer_v2.py:356: UserWarning: The `lr` argument is deprecated, use `learning_rate` instead.\n",
            "  \"The `lr` argument is deprecated, use `learning_rate` instead.\")\n"
          ]
        }
      ]
    },
    {
      "cell_type": "markdown",
      "metadata": {
        "id": "EDmxELg5OgmA"
      },
      "source": [
        "# Model Training\n",
        "\n",
        "We save the model with minimum loss here also with checkpointing"
      ]
    },
    {
      "cell_type": "markdown",
      "source": [
        "[the, ball, was, rolling] => [2, 34, 5, 100, 0, 0] => [[2, 34, 5, 100, 0, 0]]"
      ],
      "metadata": {
        "id": "0yIY9eU4ZWnU"
      }
    },
    {
      "cell_type": "code",
      "metadata": {
        "id": "d61I2IsrpDIY",
        "colab": {
          "base_uri": "https://localhost:8080/"
        },
        "outputId": "0a644b81-5807-4cfc-fc07-e808dae43964"
      },
      "source": [
        "history = model.fit(train_deu_enc, train_eng_enc.reshape(train_eng_enc.shape[0], train_eng_enc.shape[1], 1),\n",
        "          epochs=50, batch_size=512,\n",
        "          validation_split = 0.1, verbose=1)"
      ],
      "execution_count": null,
      "outputs": [
        {
          "output_type": "stream",
          "name": "stdout",
          "text": [
            "Epoch 1/50\n",
            "71/71 [==============================] - 9s 46ms/step - loss: 4.0587 - val_loss: 3.6815\n",
            "Epoch 2/50\n",
            "71/71 [==============================] - 3s 38ms/step - loss: 3.6502 - val_loss: 3.5484\n",
            "Epoch 3/50\n",
            "71/71 [==============================] - 3s 38ms/step - loss: 3.4654 - val_loss: 3.4060\n",
            "Epoch 4/50\n",
            "71/71 [==============================] - 3s 38ms/step - loss: 3.3035 - val_loss: 3.2712\n",
            "Epoch 5/50\n",
            "71/71 [==============================] - 3s 38ms/step - loss: 3.1934 - val_loss: 3.2489\n",
            "Epoch 6/50\n",
            "71/71 [==============================] - 3s 38ms/step - loss: 3.1187 - val_loss: 3.2047\n",
            "Epoch 7/50\n",
            "71/71 [==============================] - 3s 38ms/step - loss: 3.0080 - val_loss: 3.0613\n",
            "Epoch 8/50\n",
            "71/71 [==============================] - 3s 38ms/step - loss: 2.8575 - val_loss: 2.9323\n",
            "Epoch 9/50\n",
            "71/71 [==============================] - 3s 38ms/step - loss: 2.7094 - val_loss: 2.8108\n",
            "Epoch 10/50\n",
            "71/71 [==============================] - 3s 38ms/step - loss: 2.5803 - val_loss: 2.7077\n",
            "Epoch 11/50\n",
            "71/71 [==============================] - 3s 38ms/step - loss: 2.4621 - val_loss: 2.6542\n",
            "Epoch 12/50\n",
            "71/71 [==============================] - 3s 38ms/step - loss: 2.3548 - val_loss: 2.5736\n",
            "Epoch 13/50\n",
            "71/71 [==============================] - 3s 38ms/step - loss: 2.2471 - val_loss: 2.4638\n",
            "Epoch 14/50\n",
            "71/71 [==============================] - 3s 38ms/step - loss: 2.1378 - val_loss: 2.4124\n",
            "Epoch 15/50\n",
            "71/71 [==============================] - 3s 38ms/step - loss: 2.0328 - val_loss: 2.3818\n",
            "Epoch 16/50\n",
            "71/71 [==============================] - 3s 38ms/step - loss: 1.9308 - val_loss: 2.2607\n",
            "Epoch 17/50\n",
            "71/71 [==============================] - 3s 38ms/step - loss: 1.8350 - val_loss: 2.2098\n",
            "Epoch 18/50\n",
            "71/71 [==============================] - 3s 38ms/step - loss: 1.7398 - val_loss: 2.1613\n",
            "Epoch 19/50\n",
            "71/71 [==============================] - 3s 38ms/step - loss: 1.6469 - val_loss: 2.1100\n",
            "Epoch 20/50\n",
            "71/71 [==============================] - 3s 38ms/step - loss: 1.5603 - val_loss: 2.0534\n",
            "Epoch 21/50\n",
            "71/71 [==============================] - 3s 38ms/step - loss: 1.4729 - val_loss: 2.0170\n",
            "Epoch 22/50\n",
            "71/71 [==============================] - 3s 38ms/step - loss: 1.3880 - val_loss: 1.9895\n",
            "Epoch 23/50\n",
            "71/71 [==============================] - 3s 38ms/step - loss: 1.3079 - val_loss: 1.9363\n",
            "Epoch 24/50\n",
            "71/71 [==============================] - 3s 38ms/step - loss: 1.2252 - val_loss: 1.8951\n",
            "Epoch 25/50\n",
            "71/71 [==============================] - 3s 38ms/step - loss: 1.1516 - val_loss: 1.8944\n",
            "Epoch 26/50\n",
            "71/71 [==============================] - 3s 38ms/step - loss: 1.0763 - val_loss: 1.8285\n",
            "Epoch 27/50\n",
            "71/71 [==============================] - 3s 38ms/step - loss: 1.0048 - val_loss: 1.8339\n",
            "Epoch 28/50\n",
            "71/71 [==============================] - 3s 38ms/step - loss: 0.9336 - val_loss: 1.7880\n",
            "Epoch 29/50\n",
            "71/71 [==============================] - 3s 38ms/step - loss: 0.8684 - val_loss: 1.7920\n",
            "Epoch 30/50\n",
            "71/71 [==============================] - 3s 38ms/step - loss: 0.8067 - val_loss: 1.7416\n",
            "Epoch 31/50\n",
            "71/71 [==============================] - 3s 38ms/step - loss: 0.7473 - val_loss: 1.7389\n",
            "Epoch 32/50\n",
            "71/71 [==============================] - 3s 38ms/step - loss: 0.6879 - val_loss: 1.7500\n",
            "Epoch 33/50\n",
            "71/71 [==============================] - 3s 38ms/step - loss: 0.6353 - val_loss: 1.7132\n",
            "Epoch 34/50\n",
            "71/71 [==============================] - 3s 38ms/step - loss: 0.5843 - val_loss: 1.7126\n",
            "Epoch 35/50\n",
            "71/71 [==============================] - 3s 38ms/step - loss: 0.5410 - val_loss: 1.6985\n",
            "Epoch 36/50\n",
            "71/71 [==============================] - 3s 38ms/step - loss: 0.4957 - val_loss: 1.6980\n",
            "Epoch 37/50\n",
            "71/71 [==============================] - 3s 38ms/step - loss: 0.4572 - val_loss: 1.7040\n",
            "Epoch 38/50\n",
            "71/71 [==============================] - 3s 38ms/step - loss: 0.4202 - val_loss: 1.6831\n",
            "Epoch 39/50\n",
            "71/71 [==============================] - 3s 38ms/step - loss: 0.3814 - val_loss: 1.7421\n",
            "Epoch 40/50\n",
            "71/71 [==============================] - 3s 38ms/step - loss: 0.3533 - val_loss: 1.7087\n",
            "Epoch 41/50\n",
            "71/71 [==============================] - 3s 38ms/step - loss: 0.3251 - val_loss: 1.7006\n",
            "Epoch 42/50\n",
            "71/71 [==============================] - 3s 38ms/step - loss: 0.2995 - val_loss: 1.7081\n",
            "Epoch 43/50\n",
            "71/71 [==============================] - 3s 38ms/step - loss: 0.2755 - val_loss: 1.7245\n",
            "Epoch 44/50\n",
            "71/71 [==============================] - 3s 38ms/step - loss: 0.2567 - val_loss: 1.7339\n",
            "Epoch 45/50\n",
            "71/71 [==============================] - 3s 38ms/step - loss: 0.2360 - val_loss: 1.7426\n",
            "Epoch 46/50\n",
            "71/71 [==============================] - 3s 38ms/step - loss: 0.2209 - val_loss: 1.7422\n",
            "Epoch 47/50\n",
            "71/71 [==============================] - 3s 38ms/step - loss: 0.2075 - val_loss: 1.7533\n",
            "Epoch 48/50\n",
            "71/71 [==============================] - 3s 38ms/step - loss: 0.1940 - val_loss: 1.7736\n",
            "Epoch 49/50\n",
            "71/71 [==============================] - 3s 38ms/step - loss: 0.1830 - val_loss: 1.7771\n",
            "Epoch 50/50\n",
            "71/71 [==============================] - 3s 38ms/step - loss: 0.1737 - val_loss: 1.7878\n"
          ]
        }
      ]
    },
    {
      "cell_type": "markdown",
      "metadata": {
        "id": "3pAPkketOgmE"
      },
      "source": [
        "### We also save the final model to check it's performance"
      ]
    },
    {
      "cell_type": "code",
      "metadata": {
        "id": "2Gqq-pkVzuxX"
      },
      "source": [
        "model.save('my_nmt_model.h5')"
      ],
      "execution_count": null,
      "outputs": []
    },
    {
      "cell_type": "code",
      "metadata": {
        "id": "_NbQzYAVn4hD",
        "colab": {
          "base_uri": "https://localhost:8080/",
          "height": 282
        },
        "outputId": "e0e8c015-48ed-43f5-ef3b-283bee6bddbf"
      },
      "source": [
        "import matplotlib.pyplot as plt\n",
        "\n",
        "plt.plot(history.history['loss'])\n",
        "plt.plot(history.history['val_loss'])\n",
        "plt.legend(['train','validation'])"
      ],
      "execution_count": null,
      "outputs": [
        {
          "output_type": "execute_result",
          "data": {
            "text/plain": [
              "<matplotlib.legend.Legend at 0x7f60661d39d0>"
            ]
          },
          "metadata": {},
          "execution_count": 20
        },
        {
          "output_type": "display_data",
          "data": {
            "image/png": "[encoded data removed]",
            "text/plain": [
              "<Figure size 432x288 with 1 Axes>"
            ]
          },
          "metadata": {
            "needs_background": "light"
          }
        }
      ]
    },
    {
      "cell_type": "markdown",
      "metadata": {
        "id": "v59VQq8OOgmL"
      },
      "source": [
        "# Text Generator\n",
        "\n",
        "We build a utility function to generate text sequences based on the output prediction sequences"
      ]
    },
    {
      "cell_type": "markdown",
      "source": [
        "whenever we do\n",
        "\n",
        "`model.predict(train_deu_enc.reshape((train_deu_enc.shape[0], train_deu_enc.shape[1])), verbose=1)` on a german sentence (sequence of tokens)\n",
        "\n",
        "it will generate a sequence of softmax probabilities for the english words i.e\n",
        "\n",
        "e,g german sentence token input => sen = [12, 2, 122, 33, 0, 0....,0]\n",
        "\n",
        "model.predict([sen]) => list of softmax probabilities\n",
        "```\n",
        "[\n",
        "  [0.1, 0.005,......0.25], # class probabilities for all possible english words for 1st token\n",
        "  [0.21, 0.05,......0.05], # class probabilities for all possible english words for 2nd token\n",
        "  ..,\n",
        "  ..,\n",
        "  ..,\n",
        "  [0.5, 0.1,......0.005], # class probabilities for all possible english words for 6th token\n",
        "]\n",
        "```\n",
        "then we use np.argmax to get the word IDs with max probability from above list\n",
        "\n",
        "[2, 11, 200, 101, 0, 0]\n",
        "\n",
        "and then use the english vocabulary to translate IDs to words\n",
        "\n",
        "[the, ball, was, rolling, , ]"
      ],
      "metadata": {
        "id": "Z-GOM8TrZ0dQ"
      }
    },
    {
      "cell_type": "code",
      "metadata": {
        "id": "PrI6tjzIoBFm"
      },
      "source": [
        "from tqdm import tqdm\n",
        "pd.set_option('display.max_colwidth', 500)\n",
        "\n",
        "eng_idx2word = {v:k for k, v in eng_tokenizer.word_index.items()}\n",
        "\n",
        "def generate_prediction_texts(pred_seqs, idx2word_map):\n",
        "  pred_texts = []\n",
        "\n",
        "  for pred in tqdm(preds):\n",
        "    temp = []\n",
        "    for idx in range(len(pred)):\n",
        "      w = eng_idx2word.get(pred[idx], None)\n",
        "      if idx > 0:\n",
        "        if (w == eng_idx2word.get(pred[idx-1], None)) or (w == None):\n",
        "            temp.append('')\n",
        "        else:\n",
        "            temp.append(w)\n",
        "\n",
        "      else:\n",
        "        if(w == None):\n",
        "            temp.append('')\n",
        "        else:\n",
        "            temp.append(w)\n",
        "\n",
        "    pred_texts.append(' '.join(temp))\n",
        "  return pred_texts\n"
      ],
      "execution_count": null,
      "outputs": []
    },
    {
      "cell_type": "markdown",
      "metadata": {
        "id": "X0e3fN79OgmO"
      },
      "source": [
        "# Perform Language Translation with Trained Models"
      ]
    },
    {
      "cell_type": "code",
      "metadata": {
        "id": "U0Vyf7Uo6Ig0"
      },
      "source": [
        "final_model = keras.models.load_model('./my_nmt_model.h5')"
      ],
      "execution_count": null,
      "outputs": []
    },
    {
      "cell_type": "markdown",
      "metadata": {
        "id": "OgamgWqwOgmS"
      },
      "source": [
        "# Translation on Train Data"
      ]
    },
    {
      "cell_type": "markdown",
      "metadata": {
        "id": "-JWtFCgIOgmS"
      },
      "source": [
        "### Performance of Final Model on Train Data"
      ]
    },
    {
      "cell_type": "code",
      "metadata": {
        "id": "wNrseSNEoT16",
        "colab": {
          "base_uri": "https://localhost:8080/"
        },
        "outputId": "828c6642-590c-4bdf-c960-ab9297612791"
      },
      "source": [
        "model = final_model\n",
        "pred_probs = model.predict(train_deu_enc.reshape((train_deu_enc.shape[0], train_deu_enc.shape[1])), verbose=1)\n",
        "preds = [np.argmax(i, axis=1) for i in pred_probs]\n",
        "# convert predictions into text (English)\n",
        "pred_texts = generate_prediction_texts(pred_seqs=preds, idx2word_map=eng_idx2word)\n",
        "pred_df = pd.DataFrame({'source': train_deu, 'target' : train_eng, 'predicted' : pred_texts})"
      ],
      "execution_count": null,
      "outputs": [
        {
          "output_type": "stream",
          "name": "stdout",
          "text": [
            "1250/1250 [==============================] - 3s 2ms/step\n"
          ]
        },
        {
          "output_type": "stream",
          "name": "stderr",
          "text": [
            "100%|██████████| 40000/40000 [00:00<00:00, 169671.81it/s]\n"
          ]
        }
      ]
    },
    {
      "cell_type": "code",
      "metadata": {
        "id": "P4OKNV-kp2DU",
        "colab": {
          "base_uri": "https://localhost:8080/",
          "height": 389
        },
        "outputId": "523a130c-f6d9-4e74-f43e-6d4a3cb47dbf"
      },
      "source": [
        "pred_df.head(50).T"
      ],
      "execution_count": null,
      "outputs": [
        {
          "output_type": "execute_result",
          "data": {
            "text/html": [
              "<div>\n",
              "<style scoped>\n",
              "    .dataframe tbody tr th:only-of-type {\n",
              "        vertical-align: middle;\n",
              "    }\n",
              "\n",
              "    .dataframe tbody tr th {\n",
              "        vertical-align: top;\n",
              "    }\n",
              "\n",
              "    .dataframe thead th {\n",
              "        text-align: right;\n",
              "    }\n",
              "</style>\n",
              "<table border=\"1\" class=\"dataframe\">\n",
              "  <thead>\n",
              "    <tr style=\"text-align: right;\">\n",
              "      <th></th>\n",
              "      <th>0</th>\n",
              "      <th>1</th>\n",
              "      <th>2</th>\n",
              "      <th>3</th>\n",
              "      <th>4</th>\n",
              "      <th>5</th>\n",
              "      <th>6</th>\n",
              "      <th>7</th>\n",
              "      <th>8</th>\n",
              "      <th>9</th>\n",
              "      <th>10</th>\n",
              "      <th>11</th>\n",
              "      <th>12</th>\n",
              "      <th>13</th>\n",
              "      <th>14</th>\n",
              "      <th>15</th>\n",
              "      <th>16</th>\n",
              "      <th>17</th>\n",
              "      <th>18</th>\n",
              "      <th>19</th>\n",
              "      <th>20</th>\n",
              "      <th>21</th>\n",
              "      <th>22</th>\n",
              "      <th>23</th>\n",
              "      <th>24</th>\n",
              "      <th>25</th>\n",
              "      <th>26</th>\n",
              "      <th>27</th>\n",
              "      <th>28</th>\n",
              "      <th>29</th>\n",
              "      <th>30</th>\n",
              "      <th>31</th>\n",
              "      <th>32</th>\n",
              "      <th>33</th>\n",
              "      <th>34</th>\n",
              "      <th>35</th>\n",
              "      <th>36</th>\n",
              "      <th>37</th>\n",
              "      <th>38</th>\n",
              "      <th>39</th>\n",
              "      <th>40</th>\n",
              "      <th>41</th>\n",
              "      <th>42</th>\n",
              "      <th>43</th>\n",
              "      <th>44</th>\n",
              "      <th>45</th>\n",
              "      <th>46</th>\n",
              "      <th>47</th>\n",
              "      <th>48</th>\n",
              "      <th>49</th>\n",
              "    </tr>\n",
              "  </thead>\n",
              "  <tbody>\n",
              "    <tr>\n",
              "      <th>source</th>\n",
              "      <td>passt auf euch auf</td>\n",
              "      <td>wir sehen uns später</td>\n",
              "      <td>ich weiß es mit sicherheit</td>\n",
              "      <td>hat tom euch geküsst</td>\n",
              "      <td>lassen sie mich tom anrufen</td>\n",
              "      <td>fehler sind unvermeidlich</td>\n",
              "      <td>dieses buch habe ich geschrieben</td>\n",
              "      <td>ich liebe boston sehr</td>\n",
              "      <td>ich weiß dass tom zu hause ist</td>\n",
              "      <td>ich bin schon dran</td>\n",
              "      <td>er muss tot sein</td>\n",
              "      <td>sind sie lehrer</td>\n",
              "      <td>sie werden schon klarkommen</td>\n",
              "      <td>lass uns hier lang gehen</td>\n",
              "      <td>wird es sehr weh tun</td>\n",
              "      <td>tom ist beunruhigt</td>\n",
              "      <td>sie lebten in boston</td>\n",
              "      <td>gib mir noch eins</td>\n",
              "      <td>ich weiß was ich fühle</td>\n",
              "      <td>tom hat mich sitzenlassen</td>\n",
              "      <td>kannst du reden</td>\n",
              "      <td>hören sie nicht auf sie</td>\n",
              "      <td>tom wird euch nichts in den weg legen</td>\n",
              "      <td>tom denkt logisch</td>\n",
              "      <td>können sie das beweisen</td>\n",
              "      <td>ich bin noch nicht fertig</td>\n",
              "      <td>hören sie auf zu fluchen</td>\n",
              "      <td>ich bin ein alter mann</td>\n",
              "      <td>tom möchte essen</td>\n",
              "      <td>ich habe davon gehört</td>\n",
              "      <td>tom schwimmt</td>\n",
              "      <td>tom will arbeiten</td>\n",
              "      <td>er hat ein scharfes gehör</td>\n",
              "      <td>hallo</td>\n",
              "      <td>du hast eine stunde zeit</td>\n",
              "      <td>ich nehme dieses</td>\n",
              "      <td>wir werden schon klarkommen</td>\n",
              "      <td>ich bin nicht sicher</td>\n",
              "      <td>tom ist schneller</td>\n",
              "      <td>wir sind zu fuß gegangen</td>\n",
              "      <td>das ist die volle wahrheit</td>\n",
              "      <td>tom trat als kandidat bei der wahl zum bürgermeister an</td>\n",
              "      <td>er kam spät an</td>\n",
              "      <td>rutsche ich</td>\n",
              "      <td>ich habe es nicht gehört</td>\n",
              "      <td>mein goldfisch ist gestorben</td>\n",
              "      <td>brauche ich eine rechtsanwältin</td>\n",
              "      <td>du hast ein gutes gedächtnis</td>\n",
              "      <td>du siehst toll aus</td>\n",
              "      <td>du brauchst einen spielhebel</td>\n",
              "    </tr>\n",
              "    <tr>\n",
              "      <th>target</th>\n",
              "      <td>look after yourself</td>\n",
              "      <td>ill see you later</td>\n",
              "      <td>i know it for a fact</td>\n",
              "      <td>did tom kiss you</td>\n",
              "      <td>let me call tom</td>\n",
              "      <td>mistakes happen</td>\n",
              "      <td>i wrote this book</td>\n",
              "      <td>i really love boston</td>\n",
              "      <td>i know tom is home</td>\n",
              "      <td>im already on it</td>\n",
              "      <td>he must be dead</td>\n",
              "      <td>are you a teacher</td>\n",
              "      <td>theyll be fine</td>\n",
              "      <td>lets go this way</td>\n",
              "      <td>will it hurt a lot</td>\n",
              "      <td>toms concerned</td>\n",
              "      <td>they lived in boston</td>\n",
              "      <td>give me another one</td>\n",
              "      <td>i know what i feel</td>\n",
              "      <td>tom dumped me</td>\n",
              "      <td>can you talk</td>\n",
              "      <td>dont listen to her</td>\n",
              "      <td>tom wont stop you</td>\n",
              "      <td>tom is logical</td>\n",
              "      <td>can you prove it</td>\n",
              "      <td>im not done</td>\n",
              "      <td>stop swearing</td>\n",
              "      <td>im an old man</td>\n",
              "      <td>tom wants to eat</td>\n",
              "      <td>i heard about it</td>\n",
              "      <td>tom is swimming</td>\n",
              "      <td>tom wants to work</td>\n",
              "      <td>he has sharp hearing</td>\n",
              "      <td>hi</td>\n",
              "      <td>youve got an hour</td>\n",
              "      <td>ill take this one</td>\n",
              "      <td>well be fine</td>\n",
              "      <td>im not sure</td>\n",
              "      <td>tom is quicker</td>\n",
              "      <td>we walked</td>\n",
              "      <td>its absolutely true</td>\n",
              "      <td>tom ran for mayor</td>\n",
              "      <td>he arrived late</td>\n",
              "      <td>am i slipping</td>\n",
              "      <td>i didnt hear it</td>\n",
              "      <td>my goldfish died</td>\n",
              "      <td>do i need a lawyer</td>\n",
              "      <td>your memory is good</td>\n",
              "      <td>you look great</td>\n",
              "      <td>you need a joystick</td>\n",
              "    </tr>\n",
              "    <tr>\n",
              "      <th>predicted</th>\n",
              "      <td>look after</td>\n",
              "      <td>ill see you later</td>\n",
              "      <td>i know it for a fact</td>\n",
              "      <td>did tom kiss you</td>\n",
              "      <td>let me call tom</td>\n",
              "      <td>mistakes happen</td>\n",
              "      <td>i wrote this book</td>\n",
              "      <td>i really love boston</td>\n",
              "      <td>i know tom is home</td>\n",
              "      <td>im already on it</td>\n",
              "      <td>he must be dead</td>\n",
              "      <td>are you a teacher</td>\n",
              "      <td>theyll be fine</td>\n",
              "      <td>lets go this way</td>\n",
              "      <td>will it hurt a lot</td>\n",
              "      <td>toms is</td>\n",
              "      <td>they lived in boston</td>\n",
              "      <td>give me another one</td>\n",
              "      <td>i know what i feel</td>\n",
              "      <td>tom dumped me</td>\n",
              "      <td>can you talk</td>\n",
              "      <td>dont listen to her</td>\n",
              "      <td>tom wont stop you</td>\n",
              "      <td>tom is logical</td>\n",
              "      <td>can you prove it</td>\n",
              "      <td>im not done to</td>\n",
              "      <td>stop swearing</td>\n",
              "      <td>im an old man</td>\n",
              "      <td>tom wants to eat</td>\n",
              "      <td>i heard about it</td>\n",
              "      <td>toms is</td>\n",
              "      <td>tom wants to work</td>\n",
              "      <td>he has sharp hearing</td>\n",
              "      <td>hello</td>\n",
              "      <td>youve got one hour</td>\n",
              "      <td>ill take this one</td>\n",
              "      <td>well be fine</td>\n",
              "      <td>im not sure</td>\n",
              "      <td>tom is quicker</td>\n",
              "      <td>we went on</td>\n",
              "      <td>its absolutely true</td>\n",
              "      <td>tom ran for mayor</td>\n",
              "      <td>he arrived late</td>\n",
              "      <td>am i slipping</td>\n",
              "      <td>i didnt hear it</td>\n",
              "      <td>my goldfish died</td>\n",
              "      <td>do i need a lawyer</td>\n",
              "      <td>your memory is good</td>\n",
              "      <td>you look great</td>\n",
              "      <td>you need a joystick</td>\n",
              "    </tr>\n",
              "  </tbody>\n",
              "</table>\n",
              "</div>"
            ],
            "text/plain": [
              "                            0   ...                            49\n",
              "source      passt auf euch auf  ...  du brauchst einen spielhebel\n",
              "target     look after yourself  ...           you need a joystick\n",
              "predicted       look after      ...         you need a joystick  \n",
              "\n",
              "[3 rows x 50 columns]"
            ]
          },
          "metadata": {},
          "execution_count": 24
        }
      ]
    },
    {
      "cell_type": "code",
      "metadata": {
        "id": "viEA1X9bXRyq",
        "colab": {
          "base_uri": "https://localhost:8080/",
          "height": 424
        },
        "outputId": "de460f10-9901-46e2-de0d-58324a373c5a"
      },
      "source": [
        "pred_df.iloc[500:550].T"
      ],
      "execution_count": null,
      "outputs": [
        {
          "output_type": "execute_result",
          "data": {
            "text/html": [
              "<div>\n",
              "<style scoped>\n",
              "    .dataframe tbody tr th:only-of-type {\n",
              "        vertical-align: middle;\n",
              "    }\n",
              "\n",
              "    .dataframe tbody tr th {\n",
              "        vertical-align: top;\n",
              "    }\n",
              "\n",
              "    .dataframe thead th {\n",
              "        text-align: right;\n",
              "    }\n",
              "</style>\n",
              "<table border=\"1\" class=\"dataframe\">\n",
              "  <thead>\n",
              "    <tr style=\"text-align: right;\">\n",
              "      <th></th>\n",
              "      <th>500</th>\n",
              "      <th>501</th>\n",
              "      <th>502</th>\n",
              "      <th>503</th>\n",
              "      <th>504</th>\n",
              "      <th>505</th>\n",
              "      <th>506</th>\n",
              "      <th>507</th>\n",
              "      <th>508</th>\n",
              "      <th>509</th>\n",
              "      <th>510</th>\n",
              "      <th>511</th>\n",
              "      <th>512</th>\n",
              "      <th>513</th>\n",
              "      <th>514</th>\n",
              "      <th>515</th>\n",
              "      <th>516</th>\n",
              "      <th>517</th>\n",
              "      <th>518</th>\n",
              "      <th>519</th>\n",
              "      <th>520</th>\n",
              "      <th>521</th>\n",
              "      <th>522</th>\n",
              "      <th>523</th>\n",
              "      <th>524</th>\n",
              "      <th>525</th>\n",
              "      <th>526</th>\n",
              "      <th>527</th>\n",
              "      <th>528</th>\n",
              "      <th>529</th>\n",
              "      <th>530</th>\n",
              "      <th>531</th>\n",
              "      <th>532</th>\n",
              "      <th>533</th>\n",
              "      <th>534</th>\n",
              "      <th>535</th>\n",
              "      <th>536</th>\n",
              "      <th>537</th>\n",
              "      <th>538</th>\n",
              "      <th>539</th>\n",
              "      <th>540</th>\n",
              "      <th>541</th>\n",
              "      <th>542</th>\n",
              "      <th>543</th>\n",
              "      <th>544</th>\n",
              "      <th>545</th>\n",
              "      <th>546</th>\n",
              "      <th>547</th>\n",
              "      <th>548</th>\n",
              "      <th>549</th>\n",
              "    </tr>\n",
              "  </thead>\n",
              "  <tbody>\n",
              "    <tr>\n",
              "      <th>source</th>\n",
              "      <td>sie sehen gut aus</td>\n",
              "      <td>sie ist eine schlechte köchin</td>\n",
              "      <td>tom hat heimweh</td>\n",
              "      <td>tom sang weiter</td>\n",
              "      <td>da müsst ihr wohl in den sauren apfel beißen</td>\n",
              "      <td>ich werde dafür sorgen</td>\n",
              "      <td>verkrümele dich</td>\n",
              "      <td>ich bin im auto</td>\n",
              "      <td>lassen sie mich ihnen helfen</td>\n",
              "      <td>tom wirkt sehr glücklich</td>\n",
              "      <td>ich wusch mir die hände</td>\n",
              "      <td>tom ist mein feind</td>\n",
              "      <td>tom versuchte es</td>\n",
              "      <td>gib tom das geld</td>\n",
              "      <td>sie mögen äpfel</td>\n",
              "      <td>ich wollte nicht sterben</td>\n",
              "      <td>ich möchte einen vermögenden eindruck machen</td>\n",
              "      <td>tom ist betrügerisch</td>\n",
              "      <td>ich werde ihre hilfe brauchen</td>\n",
              "      <td>das mädchen springt</td>\n",
              "      <td>lasst es uns noch einmal versuchen</td>\n",
              "      <td>lass mich einfach schlafen</td>\n",
              "      <td>lass tom das machen</td>\n",
              "      <td>ich habe mich wirklich sehr angestrengt</td>\n",
              "      <td>ich habe tom das tun lassen</td>\n",
              "      <td>mach dich locker</td>\n",
              "      <td>tom ist jenseits der dreißig</td>\n",
              "      <td>ich gehöre nicht hierher</td>\n",
              "      <td>ist das toms hund</td>\n",
              "      <td>sie kommen zu spät</td>\n",
              "      <td>mach es auf deine weise</td>\n",
              "      <td>tom hat sich ein neues auto gekauft</td>\n",
              "      <td>vielleicht war das tom</td>\n",
              "      <td>dieses auto läuft super</td>\n",
              "      <td>sie hasst es zu rennen</td>\n",
              "      <td>tom hatte einen plan</td>\n",
              "      <td>tom hob seine arme hoch</td>\n",
              "      <td>ich liebe dieses foto</td>\n",
              "      <td>es hatte einen süßen geschmack</td>\n",
              "      <td>das ist immer noch neu für mich</td>\n",
              "      <td>hat tom sich mit dir in verbindung gesetzt</td>\n",
              "      <td>ich weiß was du willst</td>\n",
              "      <td>tom ertrank</td>\n",
              "      <td>du hast mir nicht geholfen</td>\n",
              "      <td>tom ist noch immer dort</td>\n",
              "      <td>ich möchte jetzt anfangen</td>\n",
              "      <td>ich brauche ein taschentuch</td>\n",
              "      <td>tom lebt hier</td>\n",
              "      <td>warum hast du angehalten</td>\n",
              "      <td>ist tom bei klarem verstand</td>\n",
              "    </tr>\n",
              "    <tr>\n",
              "      <th>target</th>\n",
              "      <td>they look good</td>\n",
              "      <td>she is a poor cook</td>\n",
              "      <td>tom feels homesick</td>\n",
              "      <td>tom kept on singing</td>\n",
              "      <td>bite the bullet</td>\n",
              "      <td>ill see to that</td>\n",
              "      <td>go away</td>\n",
              "      <td>im in the car</td>\n",
              "      <td>let me help you</td>\n",
              "      <td>tom looks very happy</td>\n",
              "      <td>i washed my hands</td>\n",
              "      <td>tom is my enemy</td>\n",
              "      <td>tom tried</td>\n",
              "      <td>give tom the money</td>\n",
              "      <td>they like apples</td>\n",
              "      <td>i didnt want to die</td>\n",
              "      <td>i want to look rich</td>\n",
              "      <td>tom is deceitful</td>\n",
              "      <td>ill need your help</td>\n",
              "      <td>the girl is jumping</td>\n",
              "      <td>lets try once again</td>\n",
              "      <td>just let me sleep</td>\n",
              "      <td>let tom do that</td>\n",
              "      <td>i tried really hard</td>\n",
              "      <td>i made tom do that</td>\n",
              "      <td>loosen up</td>\n",
              "      <td>tom is past thirty</td>\n",
              "      <td>i dont belong here</td>\n",
              "      <td>is that dog toms</td>\n",
              "      <td>youre too late</td>\n",
              "      <td>do it your way</td>\n",
              "      <td>tom bought a new car</td>\n",
              "      <td>maybe it was tom</td>\n",
              "      <td>this car runs great</td>\n",
              "      <td>she hates running</td>\n",
              "      <td>tom had a plan</td>\n",
              "      <td>tom raised his arms</td>\n",
              "      <td>i love that photo</td>\n",
              "      <td>it tasted sweet</td>\n",
              "      <td>its still new to me</td>\n",
              "      <td>did tom contact you</td>\n",
              "      <td>i know what you want</td>\n",
              "      <td>tom was drowning</td>\n",
              "      <td>you didnt help me</td>\n",
              "      <td>tom is still there</td>\n",
              "      <td>i want to start now</td>\n",
              "      <td>i need a tissue</td>\n",
              "      <td>tom lives here</td>\n",
              "      <td>why did you stop</td>\n",
              "      <td>is tom lucid</td>\n",
              "    </tr>\n",
              "    <tr>\n",
              "      <th>predicted</th>\n",
              "      <td>you look good</td>\n",
              "      <td>she is a poor cook</td>\n",
              "      <td>tom is homesick</td>\n",
              "      <td>tom kept on singing</td>\n",
              "      <td>bite the bullet</td>\n",
              "      <td>ill do to of it</td>\n",
              "      <td>go away</td>\n",
              "      <td>im in the car</td>\n",
              "      <td>let me help</td>\n",
              "      <td>tom looks very happy</td>\n",
              "      <td>i washed my hands</td>\n",
              "      <td>tom is my enemy</td>\n",
              "      <td>tom tried</td>\n",
              "      <td>give tom the money</td>\n",
              "      <td>they like apples</td>\n",
              "      <td>i didnt want to die</td>\n",
              "      <td>i want to look rich</td>\n",
              "      <td>tom is deceitful</td>\n",
              "      <td>ill need your help</td>\n",
              "      <td>the girl is jumping</td>\n",
              "      <td>lets try it again</td>\n",
              "      <td>just let me sleep</td>\n",
              "      <td>let tom do that</td>\n",
              "      <td>i tried really hard</td>\n",
              "      <td>i made tom do that</td>\n",
              "      <td>loosen up</td>\n",
              "      <td>tom is past thirty</td>\n",
              "      <td>i dont belong here</td>\n",
              "      <td>is this dog toms</td>\n",
              "      <td>theyre too late</td>\n",
              "      <td>do it your way</td>\n",
              "      <td>tom bought a new car</td>\n",
              "      <td>maybe it was tom</td>\n",
              "      <td>this car runs great</td>\n",
              "      <td>she hates running</td>\n",
              "      <td>tom had a plan</td>\n",
              "      <td>tom raised his arms</td>\n",
              "      <td>i love this photo</td>\n",
              "      <td>it tasted sweet</td>\n",
              "      <td>its still new to me</td>\n",
              "      <td>did tom contact you</td>\n",
              "      <td>i know what you want</td>\n",
              "      <td>tom was</td>\n",
              "      <td>you didnt help me</td>\n",
              "      <td>tom is still there</td>\n",
              "      <td>i want to start now</td>\n",
              "      <td>i need a tissue</td>\n",
              "      <td>tom lives here</td>\n",
              "      <td>why did you stop</td>\n",
              "      <td>is tom lucid</td>\n",
              "    </tr>\n",
              "  </tbody>\n",
              "</table>\n",
              "</div>"
            ],
            "text/plain": [
              "                         500  ...                          549\n",
              "source     sie sehen gut aus  ...  ist tom bei klarem verstand\n",
              "target        they look good  ...                 is tom lucid\n",
              "predicted   you look good     ...              is tom lucid   \n",
              "\n",
              "[3 rows x 50 columns]"
            ]
          },
          "metadata": {},
          "execution_count": 25
        }
      ]
    },
    {
      "cell_type": "markdown",
      "metadata": {
        "id": "00gccb3EOgml"
      },
      "source": [
        "# Translation on Test Data"
      ]
    },
    {
      "cell_type": "markdown",
      "metadata": {
        "id": "oSpYepuJOgml"
      },
      "source": [
        "### Performance of Final Model on Test Data"
      ]
    },
    {
      "cell_type": "code",
      "metadata": {
        "id": "twLzE_J50cET",
        "colab": {
          "base_uri": "https://localhost:8080/"
        },
        "outputId": "20c98bde-0fa3-4e5e-c93a-b9f58c2ea52f"
      },
      "source": [
        "model = final_model\n",
        "pred_probs = model.predict(test_deu_enc.reshape((test_deu_enc.shape[0], test_deu_enc.shape[1])), verbose=1)\n",
        "preds = [np.argmax(i, axis=1) for i in pred_probs]\n",
        "# convert predictions into text (English)\n",
        "pred_texts = generate_prediction_texts(pred_seqs=preds, idx2word_map=eng_idx2word)\n",
        "pred_df = pd.DataFrame(\n",
        "                        {'source': test_deu,\n",
        "                        'target' : test_eng,\n",
        "                        'predicted' : pred_texts}\n",
        "                       )"
      ],
      "execution_count": null,
      "outputs": [
        {
          "output_type": "stream",
          "name": "stdout",
          "text": [
            "313/313 [==============================] - 2s 3ms/step\n"
          ]
        },
        {
          "output_type": "stream",
          "name": "stderr",
          "text": [
            "100%|██████████| 10000/10000 [00:00<00:00, 163738.94it/s]\n"
          ]
        }
      ]
    },
    {
      "cell_type": "code",
      "metadata": {
        "id": "BfzrPl9T0hpP",
        "colab": {
          "base_uri": "https://localhost:8080/",
          "height": 424
        },
        "outputId": "4b856752-cb96-44f3-ccb9-6078ed89d470"
      },
      "source": [
        "pred_df.head(50).T"
      ],
      "execution_count": null,
      "outputs": [
        {
          "output_type": "execute_result",
          "data": {
            "text/html": [
              "<div>\n",
              "<style scoped>\n",
              "    .dataframe tbody tr th:only-of-type {\n",
              "        vertical-align: middle;\n",
              "    }\n",
              "\n",
              "    .dataframe tbody tr th {\n",
              "        vertical-align: top;\n",
              "    }\n",
              "\n",
              "    .dataframe thead th {\n",
              "        text-align: right;\n",
              "    }\n",
              "</style>\n",
              "<table border=\"1\" class=\"dataframe\">\n",
              "  <thead>\n",
              "    <tr style=\"text-align: right;\">\n",
              "      <th></th>\n",
              "      <th>0</th>\n",
              "      <th>1</th>\n",
              "      <th>2</th>\n",
              "      <th>3</th>\n",
              "      <th>4</th>\n",
              "      <th>5</th>\n",
              "      <th>6</th>\n",
              "      <th>7</th>\n",
              "      <th>8</th>\n",
              "      <th>9</th>\n",
              "      <th>10</th>\n",
              "      <th>11</th>\n",
              "      <th>12</th>\n",
              "      <th>13</th>\n",
              "      <th>14</th>\n",
              "      <th>15</th>\n",
              "      <th>16</th>\n",
              "      <th>17</th>\n",
              "      <th>18</th>\n",
              "      <th>19</th>\n",
              "      <th>20</th>\n",
              "      <th>21</th>\n",
              "      <th>22</th>\n",
              "      <th>23</th>\n",
              "      <th>24</th>\n",
              "      <th>25</th>\n",
              "      <th>26</th>\n",
              "      <th>27</th>\n",
              "      <th>28</th>\n",
              "      <th>29</th>\n",
              "      <th>30</th>\n",
              "      <th>31</th>\n",
              "      <th>32</th>\n",
              "      <th>33</th>\n",
              "      <th>34</th>\n",
              "      <th>35</th>\n",
              "      <th>36</th>\n",
              "      <th>37</th>\n",
              "      <th>38</th>\n",
              "      <th>39</th>\n",
              "      <th>40</th>\n",
              "      <th>41</th>\n",
              "      <th>42</th>\n",
              "      <th>43</th>\n",
              "      <th>44</th>\n",
              "      <th>45</th>\n",
              "      <th>46</th>\n",
              "      <th>47</th>\n",
              "      <th>48</th>\n",
              "      <th>49</th>\n",
              "    </tr>\n",
              "  </thead>\n",
              "  <tbody>\n",
              "    <tr>\n",
              "      <th>source</th>\n",
              "      <td>tom ist kein neuling</td>\n",
              "      <td>es war nicht schwer</td>\n",
              "      <td>er ist gegangen</td>\n",
              "      <td>das gefällt mir nicht</td>\n",
              "      <td>lesen sie das buch vor</td>\n",
              "      <td>du musst nach hause</td>\n",
              "      <td>tom war höflich</td>\n",
              "      <td>tom rannte los</td>\n",
              "      <td>ich bin kellner</td>\n",
              "      <td>ich bin in london angekommen</td>\n",
              "      <td>lass mich dir helfen</td>\n",
              "      <td>es ist eiskalt</td>\n",
              "      <td>ich war am arbeiten</td>\n",
              "      <td>ich bin ein junge</td>\n",
              "      <td>es ist zappenduster</td>\n",
              "      <td>gib mir diesen besen</td>\n",
              "      <td>tom wollte das haben</td>\n",
              "      <td>wir haben uns umgesehen</td>\n",
              "      <td>ich kenne sie alle</td>\n",
              "      <td>er ist ein medium</td>\n",
              "      <td>ich sehe eine maus</td>\n",
              "      <td>du hast meinen tag gerettet</td>\n",
              "      <td>ich habe dich gesehen</td>\n",
              "      <td>tom roch gas</td>\n",
              "      <td>es wird keine rolle spielen</td>\n",
              "      <td>tom ist sehr offenherzig</td>\n",
              "      <td>was habe ich falsch gemacht</td>\n",
              "      <td>ich hoffe es gefällt dir</td>\n",
              "      <td>ich will nicht weinen</td>\n",
              "      <td>tom starb an krebs</td>\n",
              "      <td>er hat weise gehandelt</td>\n",
              "      <td>ich bin nicht austauschbar</td>\n",
              "      <td>komm hier raus</td>\n",
              "      <td>ich esse käse</td>\n",
              "      <td>ich bin mir sicher dass ich helfen kann</td>\n",
              "      <td>wir können das gut</td>\n",
              "      <td>tom macht sich zu viele sorgen</td>\n",
              "      <td>wo sind die akten</td>\n",
              "      <td>diese tür will nicht aufgehen</td>\n",
              "      <td>wir rufen dich</td>\n",
              "      <td>tom war streitlustig</td>\n",
              "      <td>komm da raus</td>\n",
              "      <td>es war meine absicht</td>\n",
              "      <td>ich bin damit zufrieden</td>\n",
              "      <td>ich weiß dass du mich liebst</td>\n",
              "      <td>tom braucht bares</td>\n",
              "      <td>tom ist ein städter</td>\n",
              "      <td>tom ist gesellig</td>\n",
              "      <td>sie können mich nicht entlassen</td>\n",
              "      <td>ich habe brave kinder</td>\n",
              "    </tr>\n",
              "    <tr>\n",
              "      <th>target</th>\n",
              "      <td>tom isnt a rookie</td>\n",
              "      <td>it wasnt hard</td>\n",
              "      <td>he left</td>\n",
              "      <td>i dont like it</td>\n",
              "      <td>read the book aloud</td>\n",
              "      <td>you have to go home</td>\n",
              "      <td>tom was polite</td>\n",
              "      <td>tom took off running</td>\n",
              "      <td>im a waiter</td>\n",
              "      <td>i arrived in london</td>\n",
              "      <td>allow me to help you</td>\n",
              "      <td>it is freezing cold</td>\n",
              "      <td>i was working</td>\n",
              "      <td>i am a boy</td>\n",
              "      <td>it is pitch dark</td>\n",
              "      <td>hand me that broom</td>\n",
              "      <td>tom wanted that</td>\n",
              "      <td>we looked about us</td>\n",
              "      <td>i know them all</td>\n",
              "      <td>he is a psychic</td>\n",
              "      <td>i see a mouse</td>\n",
              "      <td>you made my day</td>\n",
              "      <td>i saw you</td>\n",
              "      <td>tom smelled gas</td>\n",
              "      <td>it wont matter</td>\n",
              "      <td>tom is very frank</td>\n",
              "      <td>what did i do wrong</td>\n",
              "      <td>i hope you like it</td>\n",
              "      <td>i dont want to cry</td>\n",
              "      <td>tom died of cancer</td>\n",
              "      <td>he has acted wisely</td>\n",
              "      <td>im irreplaceable</td>\n",
              "      <td>come out here</td>\n",
              "      <td>i eat cheese</td>\n",
              "      <td>im sure i can help</td>\n",
              "      <td>were good at it</td>\n",
              "      <td>tom worries too much</td>\n",
              "      <td>where are the files</td>\n",
              "      <td>that door wont open</td>\n",
              "      <td>well call you</td>\n",
              "      <td>tom was belligerent</td>\n",
              "      <td>come out of there</td>\n",
              "      <td>it was my plan</td>\n",
              "      <td>im happy with that</td>\n",
              "      <td>i know you love me</td>\n",
              "      <td>tom needs some cash</td>\n",
              "      <td>tom is a townie</td>\n",
              "      <td>tom is gregarious</td>\n",
              "      <td>you cant fire me</td>\n",
              "      <td>i have good kids</td>\n",
              "    </tr>\n",
              "    <tr>\n",
              "      <th>predicted</th>\n",
              "      <td>tom isnt a</td>\n",
              "      <td>it wasnt very</td>\n",
              "      <td>he left</td>\n",
              "      <td>i dont like that</td>\n",
              "      <td>read the book aloud</td>\n",
              "      <td>you need leave home</td>\n",
              "      <td>tom was courteous</td>\n",
              "      <td>tom ran to</td>\n",
              "      <td>im a waiter</td>\n",
              "      <td>i arrived up better</td>\n",
              "      <td>let me help</td>\n",
              "      <td>its freezing</td>\n",
              "      <td>i was to</td>\n",
              "      <td>i am a boy</td>\n",
              "      <td>its broken</td>\n",
              "      <td>give me the</td>\n",
              "      <td>tom wanted this</td>\n",
              "      <td>we have about to</td>\n",
              "      <td>i know all</td>\n",
              "      <td>hes a</td>\n",
              "      <td>i have a lot</td>\n",
              "      <td>you have my arm</td>\n",
              "      <td>i saw you</td>\n",
              "      <td>tom drives me</td>\n",
              "      <td>it wont matter</td>\n",
              "      <td>tom is very private</td>\n",
              "      <td>what did i do</td>\n",
              "      <td>i hope i like it</td>\n",
              "      <td>i dont want to cry</td>\n",
              "      <td>tom died of cancer</td>\n",
              "      <td>he has wrong</td>\n",
              "      <td>im not evil</td>\n",
              "      <td>get here with there</td>\n",
              "      <td>i eat eating</td>\n",
              "      <td>im glad i cant</td>\n",
              "      <td>we can well</td>\n",
              "      <td>tom is very well</td>\n",
              "      <td>where are the</td>\n",
              "      <td>this phone wont leave</td>\n",
              "      <td>well call you</td>\n",
              "      <td>tom was sneaky</td>\n",
              "      <td>get out of there</td>\n",
              "      <td>it was my</td>\n",
              "      <td>im sure with</td>\n",
              "      <td>i know you like me</td>\n",
              "      <td>tom needs a</td>\n",
              "      <td>tom is a art lover</td>\n",
              "      <td>tom is immature</td>\n",
              "      <td>you cant fire me</td>\n",
              "      <td>ive have no kids</td>\n",
              "    </tr>\n",
              "  </tbody>\n",
              "</table>\n",
              "</div>"
            ],
            "text/plain": [
              "                             0   ...                     49\n",
              "source     tom ist kein neuling  ...  ich habe brave kinder\n",
              "target        tom isnt a rookie  ...       i have good kids\n",
              "predicted         tom isnt a     ...     ive have no kids  \n",
              "\n",
              "[3 rows x 50 columns]"
            ]
          },
          "metadata": {},
          "execution_count": 27
        }
      ]
    },
    {
      "cell_type": "code",
      "metadata": {
        "id": "xaENz84z0iDU",
        "colab": {
          "base_uri": "https://localhost:8080/",
          "height": 354
        },
        "outputId": "da8142d4-33e5-46af-b5b9-a0f039177858"
      },
      "source": [
        "pred_df.iloc[500:550].T"
      ],
      "execution_count": null,
      "outputs": [
        {
          "output_type": "execute_result",
          "data": {
            "text/html": [
              "<div>\n",
              "<style scoped>\n",
              "    .dataframe tbody tr th:only-of-type {\n",
              "        vertical-align: middle;\n",
              "    }\n",
              "\n",
              "    .dataframe tbody tr th {\n",
              "        vertical-align: top;\n",
              "    }\n",
              "\n",
              "    .dataframe thead th {\n",
              "        text-align: right;\n",
              "    }\n",
              "</style>\n",
              "<table border=\"1\" class=\"dataframe\">\n",
              "  <thead>\n",
              "    <tr style=\"text-align: right;\">\n",
              "      <th></th>\n",
              "      <th>500</th>\n",
              "      <th>501</th>\n",
              "      <th>502</th>\n",
              "      <th>503</th>\n",
              "      <th>504</th>\n",
              "      <th>505</th>\n",
              "      <th>506</th>\n",
              "      <th>507</th>\n",
              "      <th>508</th>\n",
              "      <th>509</th>\n",
              "      <th>510</th>\n",
              "      <th>511</th>\n",
              "      <th>512</th>\n",
              "      <th>513</th>\n",
              "      <th>514</th>\n",
              "      <th>515</th>\n",
              "      <th>516</th>\n",
              "      <th>517</th>\n",
              "      <th>518</th>\n",
              "      <th>519</th>\n",
              "      <th>520</th>\n",
              "      <th>521</th>\n",
              "      <th>522</th>\n",
              "      <th>523</th>\n",
              "      <th>524</th>\n",
              "      <th>525</th>\n",
              "      <th>526</th>\n",
              "      <th>527</th>\n",
              "      <th>528</th>\n",
              "      <th>529</th>\n",
              "      <th>530</th>\n",
              "      <th>531</th>\n",
              "      <th>532</th>\n",
              "      <th>533</th>\n",
              "      <th>534</th>\n",
              "      <th>535</th>\n",
              "      <th>536</th>\n",
              "      <th>537</th>\n",
              "      <th>538</th>\n",
              "      <th>539</th>\n",
              "      <th>540</th>\n",
              "      <th>541</th>\n",
              "      <th>542</th>\n",
              "      <th>543</th>\n",
              "      <th>544</th>\n",
              "      <th>545</th>\n",
              "      <th>546</th>\n",
              "      <th>547</th>\n",
              "      <th>548</th>\n",
              "      <th>549</th>\n",
              "    </tr>\n",
              "  </thead>\n",
              "  <tbody>\n",
              "    <tr>\n",
              "      <th>source</th>\n",
              "      <td>ich verdanke dir so viel</td>\n",
              "      <td>sie dürfen gehen</td>\n",
              "      <td>tom ist schnell</td>\n",
              "      <td>tom saß neben maria</td>\n",
              "      <td>nehmen sie noch einen</td>\n",
              "      <td>probieren sie die hier an</td>\n",
              "      <td>folge deinem verlangen</td>\n",
              "      <td>ich war traurig</td>\n",
              "      <td>tom ist verärgert</td>\n",
              "      <td>halt die klappe und hör zu</td>\n",
              "      <td>tom überlebte</td>\n",
              "      <td>ich habe tom dort gesehen</td>\n",
              "      <td>vielleicht wird es bald regnen</td>\n",
              "      <td>ich werde dir nicht helfen</td>\n",
              "      <td>wir haben gerade erst angefangen</td>\n",
              "      <td>sie werden nicht erschossen</td>\n",
              "      <td>tom ist impulsiv</td>\n",
              "      <td>tom ist telepath</td>\n",
              "      <td>lass tom nachhause gehen</td>\n",
              "      <td>das fleisch ist zäh</td>\n",
              "      <td>ich kann gut sehen</td>\n",
              "      <td>die katzen sind in sicherheit</td>\n",
              "      <td>das ist nicht toms auto</td>\n",
              "      <td>tom ist ein überlebenskünstler</td>\n",
              "      <td>das war ein fehler</td>\n",
              "      <td>wir haben geklatscht</td>\n",
              "      <td>ich glaube an tom</td>\n",
              "      <td>ich nehme es an</td>\n",
              "      <td>ist das zu schwierig</td>\n",
              "      <td>ich bin der beste</td>\n",
              "      <td>das ist nicht von mir</td>\n",
              "      <td>ich bin erste</td>\n",
              "      <td>ich habe es umsonst bekommen</td>\n",
              "      <td>ich kenne tom bereits</td>\n",
              "      <td>ich habe sie schreien gehört</td>\n",
              "      <td>seid ihr glücklich</td>\n",
              "      <td>meine socken sind nass</td>\n",
              "      <td>könnt ihr französisch sprechen</td>\n",
              "      <td>hier können wir nicht reden</td>\n",
              "      <td>tom fühlte sich ausgeschlossen</td>\n",
              "      <td>tom ist geblieben</td>\n",
              "      <td>isst du gerne maisgrütze</td>\n",
              "      <td>ich bat um seine hilfe</td>\n",
              "      <td>seid alle ruhig</td>\n",
              "      <td>ich will zurückgehen</td>\n",
              "      <td>die kiste ist voll</td>\n",
              "      <td>tom hat euren wagen gestohlen</td>\n",
              "      <td>das sind alles touristen</td>\n",
              "      <td>ich trat in die marine ein</td>\n",
              "      <td>nur eine minute</td>\n",
              "    </tr>\n",
              "    <tr>\n",
              "      <th>target</th>\n",
              "      <td>i owe you so much</td>\n",
              "      <td>youre free to go</td>\n",
              "      <td>tom is fast</td>\n",
              "      <td>tom sat next to mary</td>\n",
              "      <td>have another</td>\n",
              "      <td>try these on</td>\n",
              "      <td>follow your desire</td>\n",
              "      <td>i was feeling blue</td>\n",
              "      <td>tom is resentful</td>\n",
              "      <td>shut up and listen</td>\n",
              "      <td>tom survived</td>\n",
              "      <td>i saw tom in there</td>\n",
              "      <td>it may rain soon</td>\n",
              "      <td>i will not help you</td>\n",
              "      <td>we just got started</td>\n",
              "      <td>they wont be shot</td>\n",
              "      <td>tom is impulsive</td>\n",
              "      <td>tom is a telepath</td>\n",
              "      <td>let tom go home</td>\n",
              "      <td>the meat is tough</td>\n",
              "      <td>i have good eyes</td>\n",
              "      <td>the cats are safe</td>\n",
              "      <td>this isnt toms car</td>\n",
              "      <td>tom is a survivalist</td>\n",
              "      <td>that was a mistake</td>\n",
              "      <td>we applauded</td>\n",
              "      <td>i believe in tom</td>\n",
              "      <td>i suppose so</td>\n",
              "      <td>is that too hard</td>\n",
              "      <td>im the best</td>\n",
              "      <td>its not from me</td>\n",
              "      <td>im first</td>\n",
              "      <td>i got it for free</td>\n",
              "      <td>i already know tom</td>\n",
              "      <td>i heard you scream</td>\n",
              "      <td>are you guys happy</td>\n",
              "      <td>my socks are wet</td>\n",
              "      <td>can you speak french</td>\n",
              "      <td>we cant talk here</td>\n",
              "      <td>tom felt excluded</td>\n",
              "      <td>tom stayed</td>\n",
              "      <td>do you like grits</td>\n",
              "      <td>i asked for his help</td>\n",
              "      <td>be quiet all of you</td>\n",
              "      <td>i want to go back</td>\n",
              "      <td>the box is full</td>\n",
              "      <td>tom stole your car</td>\n",
              "      <td>theyre all tourists</td>\n",
              "      <td>i joined the navy</td>\n",
              "      <td>just a minute</td>\n",
              "    </tr>\n",
              "    <tr>\n",
              "      <th>predicted</th>\n",
              "      <td>i really you  much</td>\n",
              "      <td>you may go</td>\n",
              "      <td>toms fast</td>\n",
              "      <td>tom sat beside mary</td>\n",
              "      <td>take another</td>\n",
              "      <td>try the</td>\n",
              "      <td>take mine</td>\n",
              "      <td>i was sad</td>\n",
              "      <td>tom is angry</td>\n",
              "      <td>shut up and listen</td>\n",
              "      <td>tom is</td>\n",
              "      <td>i saw tom there</td>\n",
              "      <td>maybe might rain soon</td>\n",
              "      <td>i wont help you</td>\n",
              "      <td>weve just get</td>\n",
              "      <td>they wont be</td>\n",
              "      <td>tom is possessed</td>\n",
              "      <td>tom is cantankerous</td>\n",
              "      <td>let tom go alone</td>\n",
              "      <td>the meat is fresh</td>\n",
              "      <td>i have good</td>\n",
              "      <td>the are  weak</td>\n",
              "      <td>this is isnt toms</td>\n",
              "      <td>tom is a</td>\n",
              "      <td>that was a mistake</td>\n",
              "      <td>we have each</td>\n",
              "      <td>i believe in tom</td>\n",
              "      <td>i look it up</td>\n",
              "      <td>is that too hard</td>\n",
              "      <td>im the best</td>\n",
              "      <td>this not  sale</td>\n",
              "      <td>im am</td>\n",
              "      <td>i got it for today</td>\n",
              "      <td>i know tom</td>\n",
              "      <td>i heard you scream</td>\n",
              "      <td>are you happy</td>\n",
              "      <td>my socks are dirty</td>\n",
              "      <td>can you speak french</td>\n",
              "      <td>we cant go</td>\n",
              "      <td>tom felt unprepared</td>\n",
              "      <td>tom has animals</td>\n",
              "      <td>do you like to cook</td>\n",
              "      <td>i asked i on help</td>\n",
              "      <td>be quiet</td>\n",
              "      <td>i want to go out</td>\n",
              "      <td>the house is full</td>\n",
              "      <td>tom stole your car</td>\n",
              "      <td>these all ready</td>\n",
              "      <td>i jog the is</td>\n",
              "      <td>just  a minute</td>\n",
              "    </tr>\n",
              "  </tbody>\n",
              "</table>\n",
              "</div>"
            ],
            "text/plain": [
              "                                500  ...               549\n",
              "source     ich verdanke dir so viel  ...   nur eine minute\n",
              "target            i owe you so much  ...     just a minute\n",
              "predicted       i really you  much   ...  just  a minute  \n",
              "\n",
              "[3 rows x 50 columns]"
            ]
          },
          "metadata": {},
          "execution_count": 28
        }
      ]
    },
    {
      "cell_type": "code",
      "source": [
        "# To evaluate translation models using metrics\n",
        "# BLEU Score"
      ],
      "metadata": {
        "id": "MU6SYg818SvV"
      },
      "execution_count": null,
      "outputs": []
    }
  ]
}