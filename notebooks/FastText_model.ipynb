{
 "cells": [
  {
   "cell_type": "markdown",
   "metadata": {},
   "source": [
    "<a id='Q0'></a>\n",
    "<center> <h1> Aviation Herald Project: FastText Model</h1> </center>\n",
    "<p style=\"margin-bottom:1cm;\"></p>\n",
    "<center><h4>Laurent Bobay, 2024</h4></center>\n",
    "<p style=\"margin-bottom:1cm;\"></p>\n",
    "\n",
    "<div style=\"background:#EEEDF5;border-top:0.1cm solid #EF475B;border-bottom:0.1cm solid #EF475B;\">\n",
    "    <div style=\"margin-left: 0.5cm;margin-top: 0.5cm;margin-bottom: 0.5cm;color:#303030\">\n",
    "        <p><strong>Goal:</strong> Create dataset of all publicly available articles and comments from www.avherald.com</p>\n",
    "        <strong> Outline:</strong>\n",
    "        <a id='P0' name=\"P0\"></a>\n",
    "        <ol>\n",
    "            <li> <a style=\"color:#303030\" href='#SU'>Set up</a></li>\n",
    "            <li> <a style=\"color:#303030\" href='#P1'>Data Exploration and Cleaning</a></li>\n",
    "            <li> <a style=\"color:#303030\" href='#P2'>Modeling</a></li>\n",
    "            <li> <a style=\"color:#303030\" href='#P3'>Model Evaluation</a></li>\n",
    "            <li> <a style=\"color:#303030\" href='#CL'>Conclusion</a></li>\n",
    "        </ol>\n",
    "        <strong>Topics Trained:</strong> Notebook Layout, Data Cleaning, Modelling and Model Evaluation\n",
    "    </div>\n",
    "</div>\n",
    "\n",
    "<nav style=\"text-align:right\"><strong>\n",
    "        <a style=\"color:#00BAE5\" href=\"https://monolith.propulsion-home.ch/backend/api/momentum/materials/ds-materials/07_MLEngineering/index.html\" title=\"momentum\"> Module 7, Machine Learning Engineering </a>|\n",
    "        <a style=\"color:#00BAE5\" href=\"https://monolith.propulsion-home.ch/backend/api/momentum/materials/ds-materials/07_MLEngineering/day1/index.html\" title=\"momentum\">Day 1, Data Science Project Development </a>|\n",
    "        <a style=\"color:#00BAE5\" href=\"https://drive.google.com/file/d/1SOCQu9Gv3jNNXxvJSszBC3fYNsM0df2F/view?usp=sharing\" title=\"momentum\"> Live Coding 1, Simple Prediction Notebook</a>\n",
    "</strong></nav>"
   ]
  },
  {
   "cell_type": "code",
   "execution_count": 1,
   "metadata": {},
   "outputs": [],
   "source": [
    "import fasttext\n",
    "import pandas as pd\n",
    "import numpy as np\n",
    "import csv\n",
    "from IPython.display import display, Markdown\n",
    "import re\n",
    "\n",
    "from sklearn.metrics.pairwise import cosine_similarity\n",
    "\n"
   ]
  },
  {
   "cell_type": "markdown",
   "metadata": {},
   "source": [
    "### Create the corpus"
   ]
  },
  {
   "cell_type": "markdown",
   "metadata": {},
   "source": [
    "##### Convert the csv text column to a txt file:"
   ]
  },
  {
   "cell_type": "code",
   "execution_count": 10,
   "metadata": {},
   "outputs": [
    {
     "name": "stdout",
     "output_type": "stream",
     "text": [
      "Texts extracted from '../data/interim/preprocessed_dataset.csv' and saved to '../data/interim/text_corpus.txt'.\n"
     ]
    }
   ],
   "source": [
    "# Path to your CSV file\n",
    "csv_file = \"../data/interim/preprocessed_dataset.csv\" # title,href,text,time_author\n",
    "\n",
    "# Path to the output text file\n",
    "txt_file = \"../data/interim/text_corpus.txt\"\n",
    "\n",
    "# Function to read CSV and write to text file\n",
    "def csv_to_txt(csv_file, txt_file):\n",
    "    with open(csv_file, 'r', encoding='utf-8') as csv_in, open(txt_file, 'w', encoding='utf-8') as txt_out:\n",
    "        csv_reader = csv.reader(csv_in)\n",
    "        next(csv_reader)  # Skip header if exists\n",
    "        for row in csv_reader:\n",
    "            if len(row) > 0:  # Ensure row is not empty\n",
    "                text = row[2]  # Assuming \"text\" is the first column\n",
    "                text = re.sub(r'[\\n\\r\\t\\s]+', ' ', text, flags=re.UNICODE) # Remove all linebrakes, tabs, etc.\n",
    "                txt_out.write(text + '\\n')\n",
    "\n",
    "# Call the function\n",
    "csv_to_txt(csv_file, txt_file)\n",
    "\n",
    "print(f\"Texts extracted from '{csv_file}' and saved to '{txt_file}'.\")\n"
   ]
  },
  {
   "cell_type": "markdown",
   "metadata": {},
   "source": [
    "### Train the FastText model"
   ]
  },
  {
   "cell_type": "code",
   "execution_count": 11,
   "metadata": {},
   "outputs": [
    {
     "name": "stderr",
     "output_type": "stream",
     "text": [
      "Read 6M words\n",
      "Number of words:  39628\n",
      "Number of labels: 0\n",
      "Progress: 100.0% words/sec/thread:  118665 lr:  0.000000 avg.loss:  1.678877 ETA:   0h 0m 0s\n"
     ]
    }
   ],
   "source": [
    "# Train a FastText model on the corpus\n",
    "model = fasttext.train_unsupervised(txt_file, model='skipgram', verbose=2)\n",
    "\n",
    "# Save the model\n",
    "model_path = \"../models/fasttext_skipgram.bin\"\n",
    "model.save_model(model_path)\n",
    "\n"
   ]
  },
  {
   "cell_type": "markdown",
   "metadata": {},
   "source": [
    "### Generate Embeddings for each Text in the Corpus"
   ]
  },
  {
   "cell_type": "code",
   "execution_count": 12,
   "metadata": {},
   "outputs": [
    {
     "name": "stdout",
     "output_type": "stream",
     "text": [
      "29016\n"
     ]
    }
   ],
   "source": [
    "# Load the trained model\n",
    "model = fasttext.load_model(model_path)\n",
    "\n",
    "# Read the corpus and generate embeddings\n",
    "corpus_file = txt_file\n",
    "embeddings = []\n",
    "texts = []\n",
    "\n",
    "with open(corpus_file, 'r') as f:\n",
    "    for line in f:\n",
    "        text = line.strip()\n",
    "        texts.append(text)\n",
    "        embeddings.append(model.get_sentence_vector(text))\n",
    "\n",
    "# Convert to numpy array for easier manipulation\n",
    "embeddings = np.array(embeddings)\n",
    "\n",
    "print(len(embeddings))\n"
   ]
  },
  {
   "cell_type": "markdown",
   "metadata": {},
   "source": [
    "### Find similar Texts for a given new Text"
   ]
  },
  {
   "cell_type": "code",
   "execution_count": 18,
   "metadata": {},
   "outputs": [],
   "source": [
    "# Function to find the most similar texts\n",
    "def find_similar_texts(new_text, model, texts, embeddings, top_n=30):\n",
    "    new_embedding = model.get_sentence_vector(new_text)\n",
    "    similarities = cosine_similarity([new_embedding], embeddings)[0]\n",
    "    similar_indices = similarities.argsort()[-top_n:][::-1]\n",
    "    \n",
    "    return [(texts[i], similarities[i]) for i in similar_indices], similar_indices\n",
    "\n"
   ]
  },
  {
   "cell_type": "code",
   "execution_count": 20,
   "metadata": {},
   "outputs": [],
   "source": [
    "# Provide the new text\n",
    "new_text = \"At about 1210 hrs, the flight crew received take-off clearance on runway 27. At the time, crosswind from the right side of 12 kt prevailed. The FDR recording and the statement of the co-pilot showed that during the initial about 23 s long phase of the take-off run up to a speed of 126 kt CAS, the co-pilot counteracted the crosswind with left rudder inputs. The rudder was continually returned to neutral position. At 1210:51 hrs, a rudder input to the right occurred. The airplane changed the heading by about 10° to the right to 281° and a short time later was about 230 m beyond the intersection of runway 27 with runway 30, 3.7 m away from the right edge of runway 27. Shortly before the closest distance to the runway edge, the PIC (40, ATPL, 9,870 hours total, 3,052 hours on type) checked the engine parameters, then the co-pilot (28, CPL, 808 hours total, 718 hours on type) said “Sorry, das Flugzeug zieht nach rechts (the airplane is pulling to the right)”, according to the statement of both pilots. Subsequently, the PIC aborted the take-off at a speed of 137 kt CAS, 2 kt below the decision speed V1. According to her own statement, she pulled the thrust lever to idle and then to full reverse. The PIC also executed a left rudder input towards the runway centre line and pulled the side stick back. According to her statement, she can no longer remember to operate the side stick. Immediately afterwards, the nose landing gear lifted off. After the PIC realised the lift-off of the nose, she pushed the side stick forward and the nose landing gear touched down again. During ground contact, the airplane was in a yaw movement towards the left in the direction of the runway centre. After the rejected take-off, the ground spoilers were deployed automatically and the auto brake system activated in level MAX. During the braking action, the airplane moved back towards the runway centre line and came to a stop on the runway ahead of taxiway C. After the aircraft was stopped, the co-pilot informed the tower of the rejected take-off and requested the fire brigade. Following a short stop at this position and the check of the brake temperatures, among other things, the flight crew decided to leave the runway and taxied back to the assigned parking position 12. The PIC informed the mechanics of the maintenance organisation subcontracted by the operator, that the take-off had been aborted because the airplane had pulled to the right, according to their statements. The operator was initially informed of the occurrence by the PIC via the Operations Control Center (OCC).\"\n",
    "\n",
    "# Find similar texts in the corpus\n",
    "similar_texts, similar_indices = find_similar_texts(new_text, model, texts, embeddings)\n"
   ]
  },
  {
   "cell_type": "code",
   "execution_count": 22,
   "metadata": {},
   "outputs": [
    {
     "name": "stdout",
     "output_type": "stream",
     "text": [
      "Etihad A320 at Kozhikode on Jun 20th 2019, temporary runway excursion https://avherald.com/h?article=4dc63eae&opt=0\n",
      "Merpati B735 at Makassar on Dec 26th 2011, temporary runway excursion on landing https://avherald.com/h?article=4a302f92&opt=0\n",
      "Arabia A320 at Sharjah on Sep 18th 2018, intersection line up departed in wrong direction https://avherald.com/h?article=4bded52d&opt=0\n",
      "Singapore B744 at Singapore on Dec 2nd 2011, runway excursion https://avherald.com/h?article=44706cf6/0000&opt=0\n",
      "Jordan B734 at Tombouctou on May 5th 2017, overran runway on landing https://avherald.com/h?article=4b8b4503&opt=0\n",
      "Singapore B772 at Singapore on Feb 28th 2009, temporarily veered off runway on landing https://avherald.com/h?article=42e2b42f/0000&opt=0\n",
      "Garuda AT72 at Ende on Oct 19th 2015, unstabilized approach leads to bounces, runway excursion and balked landing https://avherald.com/h?article=4e9eb5db&opt=0\n",
      "British Midland A319 at Amsterdam on Apr 18th 2007, rapid yaw during takeoff, liftoff below V1 https://avherald.com/h?article=40b26d4b&opt=0\n",
      "Lufthansa A320 at Hamburg on Mar 1st 2008, wing touches runway in cross wind  landing https://avherald.com/h?article=42826d3a&opt=0\n",
      "Flyme AT72 at Gan on May 21st 2015, runway excursion on landing https://avherald.com/h?article=486a959e&opt=0\n",
      "Air Algerie B738 at Lyon on Aug 29th 2009, runway excursion on takeoff, continued https://avherald.com/h?article=43505f0b&opt=0\n",
      "bmi E145 at Bristol on Dec 22nd 2017, runway excursion on landing https://avherald.com/h?article=4b2a6493&opt=0\n",
      "VARA AT72 at Moranbah on Jul 8th 2013, runway excursion https://avherald.com/h?article=465239b7&opt=0\n",
      "JetKonnect AT72 at Indore on May 7th 2016, runway excursion on landing https://avherald.com/h?article=497f7f14&opt=0\n",
      "Condor A320 at Kavala on Jul 11th 2021, could not retract landing gear https://avherald.com/h?article=4ea8d79b&opt=0\n",
      "Air Berlin B738 at Nuremberg on Jan 8th 2010, veered off runway https://avherald.com/h?article=4257972e/0001&opt=0\n",
      "Blue Dart B752 at Mumbai and Bangalore on Jun 9th 2010, \"mowed\" runway edge lights on takeoff https://avherald.com/h?article=42cb3476/0000&opt=0\n",
      "American A321 at New York on Apr 10th 2019, wingtip strike and collision with runway sign during departure https://avherald.com/h?article=4c68c5a8&opt=0\n",
      "My Travel A320 at Kos on Jul 5th 2007, very hard landing https://avherald.com/h?article=4118b708&opt=0\n",
      "Aigle Azur A321 at Algiers on Jan 8th 2008, tailstrike during landing https://avherald.com/h?article=4144a8e7&opt=0\n",
      "MyCargo B744 at Maastricht on Nov 11th 2017, runway excursion on takeoff https://avherald.com/h?article=4b0ed972&opt=0\n",
      "Malaysia B738 at Sibu on Apr 8th 2017, runway excursion, nose gear collapse https://avherald.com/h?article=4a75addd&opt=0\n",
      "VLM F50 at Isle of Man on Jan 15th 2009, veered off runway https://avherald.com/h?article=4136db33/0000&opt=0\n",
      "Shaheen B734 at Lahore on Nov 3rd 2015, runway excursion, both main gear collapsed https://avherald.com/h?article=48ec2e81/0006&opt=0\n",
      "Ryanair B738 at Eindhoven on Jun 4th 2010, rejected takeoff during rotation https://avherald.com/h?article=42c733bc/0000&opt=0\n",
      "Mandarin E190 at Makung on Aug 17th 2012, overran runway, nose gear collapse https://avherald.com/h?article=45476b47/0000&opt=0\n",
      "Nextjet SF34 at Hemavan on Nov 24th 2011, rejected takeoff, runway excursion https://avherald.com/h?article=446a9fac/0000&opt=0\n",
      "China Airlines A343 at Seoul on Aug 15th 2008, fuselage cracked https://avherald.com/h?article=40b31f31/0000&opt=0\n",
      "jet2.com B733 at Leeds on Feb 21st 2009, pod strike https://avherald.com/h?article=420eff9f&opt=0\n",
      "Sudan MD83 at Juba on Jun 23rd 2006, runway excursion https://avherald.com/h?article=462ab841&opt=0\n"
     ]
    }
   ],
   "source": [
    "df = pd.read_csv(csv_file)\n",
    "\n",
    "for idx in similar_indices:\n",
    "    title = df.iloc[idx].title\n",
    "    url = df.iloc[idx].url\n",
    "    cluster = df.iloc[idx]\n",
    "    print(title, url)\n"
   ]
  },
  {
   "cell_type": "code",
   "execution_count": null,
   "metadata": {},
   "outputs": [],
   "source": []
  },
  {
   "cell_type": "markdown",
   "metadata": {},
   "source": [
    "<div style=\"border-top:0.1cm solid #EF475B\"></div>\n",
    "    <strong><a href='#Q0'><div style=\"text-align: right\"> <h3>End of this Notebook.</h3></div></a></strong>"
   ]
  },
  {
   "cell_type": "markdown",
   "metadata": {},
   "source": []
  }
 ],
 "metadata": {
  "kernelspec": {
   "display_name": "ds_final_project",
   "language": "python",
   "name": "python3"
  },
  "language_info": {
   "codemirror_mode": {
    "name": "ipython",
    "version": 3
   },
   "file_extension": ".py",
   "mimetype": "text/x-python",
   "name": "python",
   "nbconvert_exporter": "python",
   "pygments_lexer": "ipython3",
   "version": "3.11.9"
  }
 },
 "nbformat": 4,
 "nbformat_minor": 2
}
